{
 "cells": [
  {
   "cell_type": "markdown",
   "id": "4c69cf50-5dd9-43be-ac30-15f72289a82a",
   "metadata": {},
   "source": [
    "# Strategiset päätöksentekomallit"
   ]
  },
  {
   "cell_type": "markdown",
   "id": "8f07b6a6-ccce-46a4-af0f-f9aeeff999e9",
   "metadata": {},
   "source": [
    "## Tehtävä: Monte Carlo -simulointi Pythonilla"
   ]
  },
  {
   "cell_type": "markdown",
   "id": "4543f472-50a9-42e4-aad8-8a392458a19e",
   "metadata": {},
   "source": [
    "### Oppimistavoitteet"
   ]
  },
  {
   "cell_type": "markdown",
   "id": "68efe2c0-e86f-4955-b743-3fad2433ab67",
   "metadata": {},
   "source": [
    "Tässä tehtävässä tutustutaan simulointiin Pythonia hyödyntäen ja sen käyttöön päätöksiä tehtäessä. Näin tehtäessä opitaan myös esittämään asiat selkeästi sekä dokumentoimaan ja selittämään Jupyter Notebookilla tai Google Colabilla tehtyjä laskentapohjia.\n",
    "\n",
    "Lisää muistioon laskelmiesi selitykset ja tulkinnat sekä vinkkejä mahdollisista lisätarkasteluista."
   ]
  },
  {
   "cell_type": "markdown",
   "id": "e972cfdb-23b8-4dbb-bb40-56d48b29b1be",
   "metadata": {},
   "source": [
    "### Lähtötiedot"
   ]
  },
  {
   "cell_type": "markdown",
   "id": "f914309d",
   "metadata": {},
   "source": [
    "Kiinteistöalan yritys aikoo laajentua kahdelle uudelle paikkakunnalle. Yrityksen tarkoitus on ostaa paikkakunnalta 50&ndash;500 kaksiota ja vuokrata ne edelleen pitkäaikaiseen käyttöön. Yrityksen idea on, että vuokra vastaa paikkakunnan asuntojen hintatasoa ja voi näin ollen vaihdella paikkakunnittain paljonkin."
   ]
  },
  {
   "cell_type": "markdown",
   "id": "70f6ebef",
   "metadata": {},
   "source": [
    "[Tilastokeskuksella](https://www.stat.fi) on vanhojen asuntojen hintatietoa useilta paikkakunnilta. Niistä on helppo laskea alueen kaksioiden keskihinta ja hintojen hajonta."
   ]
  },
  {
   "cell_type": "markdown",
   "id": "2eb18d7f",
   "metadata": {},
   "source": [
    "Vuokran suuruus määräytyy alueen keskihinnasta sen luokittelun ja koon mukaisesti. Vuokrille on neljä luokkaa asunnon sijainnin ja kunnon mukaisesti. Luokittelun rajat voivat olla esimerkiksi alla olevan taulukon mukaiset ja ne lasketaan alueen keskineliöhinnasta. Asunnon koko vaikuttaa vuokraan tässä laskennassa lineaarisesti. \n",
    "\n",
    "<table>\n",
    "    <tr>\n",
    "        <td>Huonokuntoiset</td>\n",
    "         <td>Kohtuulliset</td>\n",
    "         <td>Hyväkuntoiset</td>\n",
    "         <td>Lähes uudet</td>\n",
    "    </tr>\n",
    "    <tr>\n",
    "  <td>0,4 % </td>\n",
    "    <td>0,8 % </td>\n",
    "     <td>1,2 % </td>\n",
    "     <td>1,6 % </td>\n",
    "    </tr>\n",
    "</table>"
   ]
  },
  {
   "cell_type": "markdown",
   "id": "a8533b80",
   "metadata": {},
   "source": [
    "Esimerkki vuokran määräytymisestä voisi edellä olevia arvioita käyttäen olla 2 000 €:n keskihintaisille alueen 50 neliömetrin kokoiselle huonokuntoiselle asunnolle olla 400 € kuukaudessa: \n",
    "$2 000\\textrm{ € }\\cdot 0,4\\textrm{ % }\\cdot 50\\textrm{ m}^2$"
   ]
  },
  {
   "cell_type": "markdown",
   "id": "45a2be0b-6ede-4d2d-9e01-7c44428f1fbf",
   "metadata": {},
   "source": [
    "### Selvitettävät asiat"
   ]
  },
  {
   "cell_type": "markdown",
   "id": "dddd0193",
   "metadata": {},
   "source": [
    "Valitse kaksi mielestäsi kiinnostavaa aluetta ja selvitä Tilastokeskuksen tiedoista niiden keskiarvo ja keskihajonta. Käytä historiatietoja 2&ndash;5 vuoden ajalta."
   ]
  },
  {
   "cell_type": "markdown",
   "id": "611581fb",
   "metadata": {},
   "source": [
    "Käytä Monte Carlo -simulointia ja _arvioi sen avulla yrityksen vuokratulot_ kuukausi- tai vuositasolla valitsemillasi paikkakunnilla. Voit muuttaa edellä olevia esimerkkiarvoja tilanteeseesi paremmin sopiviksi ja tehdä myös muita laskennassa tarvittavia oletuksia, kuten paikkakunnalla vuokrattavien asuntojen lukumäärän."
   ]
  },
  {
   "cell_type": "code",
   "execution_count": 1,
   "id": "088b7bce-d893-4778-a506-08abbba21a5f",
   "metadata": {},
   "outputs": [
    {
     "name": "stdout",
     "output_type": "stream",
     "text": [
      "Last modified 2024-10-07 20:59 by Juha Nurmonen\n"
     ]
    }
   ],
   "source": [
    "import datetime\n",
    "print(f'Last modified {datetime.datetime.now():%Y-%m-%d %H:%M} by Juha Nurmonen')"
   ]
  }
 ],
 "metadata": {
  "kernelspec": {
   "display_name": "Python 3 (ipykernel)",
   "language": "python",
   "name": "python3"
  },
  "language_info": {
   "codemirror_mode": {
    "name": "ipython",
    "version": 3
   },
   "file_extension": ".py",
   "mimetype": "text/x-python",
   "name": "python",
   "nbconvert_exporter": "python",
   "pygments_lexer": "ipython3",
   "version": "3.10.13"
  }
 },
 "nbformat": 4,
 "nbformat_minor": 5
}
