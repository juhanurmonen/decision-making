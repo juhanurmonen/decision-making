{
 "cells": [
  {
   "cell_type": "markdown",
   "id": "0de111d5",
   "metadata": {},
   "source": [
    "# Strategiset päätöksentekomallit"
   ]
  },
  {
   "cell_type": "markdown",
   "id": "4a217e68",
   "metadata": {},
   "source": [
    "## Tehtävä 4: Verkkoteoria"
   ]
  },
  {
   "cell_type": "markdown",
   "id": "0511f878",
   "metadata": {},
   "source": [
    "### Oppimistavoitteet"
   ]
  },
  {
   "cell_type": "markdown",
   "id": "5ebbe69e",
   "metadata": {},
   "source": [
    "Tässä tehtävässä tutustutaan verkkoteoriaan ja niiden käyttöön päätöksiä tehtäessä. Näin tehtäessä opitaan myös esittämään asiat selkeästi sekä dokumentoimaan ja selittämään Excelillä tehtyjä laskentapohjia."
   ]
  },
  {
   "cell_type": "markdown",
   "id": "04e6430c",
   "metadata": {},
   "source": [
    "Lisää tiedostoon ohjeet selityksineen peruskäyttäjälle ja kehittäjälle näiden käytöstä. "
   ]
  },
  {
   "cell_type": "markdown",
   "id": "e92bbda2",
   "metadata": {},
   "source": [
    "### Lähtötiedot"
   ]
  },
  {
   "cell_type": "markdown",
   "id": "e8318916",
   "metadata": {},
   "source": [
    "Tehtävänä on tarkastella seuraavaa verkkoa ja siihen liittyviä tehtäviä."
   ]
  },
  {
   "cell_type": "markdown",
   "id": "5d4aba9d",
   "metadata": {},
   "source": [
    "[Apumiesten lukumäärä](https://haagahelia-my.sharepoint.com/:b:/g/personal/nurju_haaga-helia_fi/EcdJFlyWDTpBqno1O6Sg7LUBQuTKvlxHDDX245vBhbiaHg?e=oJzaAG \"Apumiesten lukumäärä\") (pdf-tiedosto)"
   ]
  },
  {
   "cell_type": "markdown",
   "id": "e9e57c9b",
   "metadata": {},
   "source": [
    "### Selvitettävät asiat"
   ]
  },
  {
   "cell_type": "markdown",
   "id": "fcea7f63",
   "metadata": {},
   "source": [
    "Selvitä oheisesta verkosta:\n",
    "\n",
    "1. lyhin suorituaika\n",
    "2. Te, Tl ja pelivarat\n",
    "3. Ganttin kaavio (perusmuodossaan)\n",
    "4. millä viikolla keittiökalusteiden asennus voi alkaa ja milloin sen pitää olla valmis.\n",
    "\n",
    "5. Kukin toiminto tarvitsee tietyn määrän apuhenkilöitä. Apuhenkilöiden lukumäärä on kaaviossa suluissa toiminnon jälkeen. Apuhenkilöitä voidaan siirtää toiminnosta toiseen. Selvitä pelivarallisia toimintoja siirtelemällä, mikä on pienin määrä apuhenkilöitä, jotta projekti saadaan toteutettua, kun apuhenkilöt palkataan koko projektin ajaksi.\n"
   ]
  },
  {
   "cell_type": "code",
   "execution_count": 1,
   "id": "1daa57ae",
   "metadata": {},
   "outputs": [
    {
     "name": "stdout",
     "output_type": "stream",
     "text": [
      "Last modified 2024-08-12 20:20 by Juha Nurmonen\n"
     ]
    }
   ],
   "source": [
    "import datetime\n",
    "print(f'Last modified {datetime.datetime.now():%Y-%m-%d %H:%M} by Juha Nurmonen')"
   ]
  }
 ],
 "metadata": {
  "kernelspec": {
   "display_name": "Python 3 (ipykernel)",
   "language": "python",
   "name": "python3"
  },
  "language_info": {
   "codemirror_mode": {
    "name": "ipython",
    "version": 3
   },
   "file_extension": ".py",
   "mimetype": "text/x-python",
   "name": "python",
   "nbconvert_exporter": "python",
   "pygments_lexer": "ipython3",
   "version": "3.11.7"
  }
 },
 "nbformat": 4,
 "nbformat_minor": 5
}
