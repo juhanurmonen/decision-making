{
  "cells": [
    {
      "cell_type": "markdown",
      "id": "3b396e12",
      "metadata": {
        "id": "3b396e12"
      },
      "source": [
        "# Velan optimointi"
      ]
    },
    {
      "cell_type": "markdown",
      "id": "239101b7",
      "metadata": {
        "id": "239101b7"
      },
      "source": [
        "<style type=\"text/css\">\n",
        "    ol { list-style-type: upper-alpha; }\n",
        "    ol ol { list-style-type: lower-alpha; }\n",
        "    ol ol ol { list-style-type: lower-roman; }\n",
        "</style>"
      ]
    },
    {
      "cell_type": "markdown",
      "id": "b30f98e6",
      "metadata": {
        "id": "b30f98e6"
      },
      "source": [
        "Tässä esimerkissä käydään läpi eräs tyypillinen velan optimointiin liittyvä tapaus, jossa päätösmuuttujat vaikuttavat tilanteeseen eri tavoin. Oleellista on näistä erilaisista vaihtoehdoista koostuvan kokonaisuuden tarkastelu ja päätöksen tekeminen sen pohjalta. Esimerkki pohjautuu todelliseen, tapahtuneeseen tilanteeseen."
      ]
    },
    {
      "cell_type": "markdown",
      "id": "0b1ae974",
      "metadata": {
        "id": "0b1ae974"
      },
      "source": [
        "Yrittäjällä on kaupungin paras liikepaikka. Hänen tavoitteenaan on rakentaa liiketalo, olkoon sen nimi tässä tarinassa Kiinteistö Oy. Kiinteistö Oy:n kaikki tilat ovat liiketiloja. Näin ollen se täyttää myös kiinteistöosakeyhtiöltä vaadittavan vaatimuksen, jonka mukaan korkeintaan alle puolet tiloista saa olla asuinkäytössä."
      ]
    },
    {
      "cell_type": "markdown",
      "id": "986fa882",
      "metadata": {
        "id": "986fa882"
      },
      "source": [
        "Kiinteistö Oy:n pinta-ala on 3 000 m$^2$ ja koko tästä alasta odotetaan vuokratuloja. Kustannusarvio on 10 miljoonaa euroa."
      ]
    },
    {
      "cell_type": "markdown",
      "id": "c792faed",
      "metadata": {
        "id": "c792faed"
      },
      "source": [
        "Tällaisessa tapauksessa on syytä miettiä yrityksen _kannattavuutta_, _maksuvalmiutta_ ja _vakavaraisuutta_. Kannattavuus on laskennallinen, pidemmän aikavälin suunnitelmia kuvaava termi. Sen muodostavat ostomenojen ja myyntitulojen kokonaisuus sekä asiakkailta tuleva tulorahoitus. Tässä tapauksessa ainakin vastike on ostomeno ja vuokratuotot puolestaan tuloa.\n",
        "\n",
        "Maksuvalmius on konkreettisempia asia, rahaa omien velkojen maksamiseen joko on tai sitä ei ole. Maksuvalmiudesta on syytä pitää huoli, vakavaraisetkin yritykset ovat tehneet konkursseja maksuvalmiuteen liittyvissä vaikeuksissa. Maksuvalmiuden muodostavat kassatulojen ja kassamenojen kokonaisuus.\n",
        "\n",
        "Pääomarahoitus koostuu usein sekä vieraasta että omasta pääomasta. Tässä investoinnissa kaikki pitää rahoittaa pääomalla, mutta vieraan ja oman pääoman suhde ei ole tiedossa. Pääoman palautukseen ja voitonjakoon liittyvät kysymykset kuten korot, verot ja osingot on myös syytä käydä läpi. Nämä asiat liittyvät vakavaraisuuteen."
      ]
    },
    {
      "cell_type": "markdown",
      "id": "a355370c",
      "metadata": {
        "id": "a355370c"
      },
      "source": [
        "Tässä tapauksessa tilanteeseen vaikuttavat seuraavat tekijät, joiden muodostamaa kokonaisuutta tarkastellaan."
      ]
    },
    {
      "cell_type": "markdown",
      "id": "ebe640db",
      "metadata": {
        "id": "ebe640db"
      },
      "source": [
        "**A**. Vuokratasoa (tuottotaso) halutaan tarkastella kolmen vaihtoehdon kautta:\n",
        "<ol type=\"a\">\n",
        "  <li>240 €/m$^2$/kk</li>\n",
        "  <li>180 €/m$^2$/kk</li>\n",
        "  <li>120 €/m$^2$/kk</li>\n",
        "</ol>"
      ]
    },
    {
      "cell_type": "markdown",
      "id": "17fb869b",
      "metadata": {
        "id": "17fb869b"
      },
      "source": [
        "**B**. Korkotason suhteen taas halutaan varautua seuraaviin kolmeen vaihtoehtoon:\n",
        "<ol type=\"a\">\n",
        "  <li>12 %</li>\n",
        "  <li>8 %</li>\n",
        "  <li>4 %</li>\n",
        "</ol>\n"
      ]
    },
    {
      "cell_type": "markdown",
      "id": "e4b03aa7",
      "metadata": {
        "id": "e4b03aa7"
      },
      "source": [
        "**C**. Käyttöaste taas voisi olla\n",
        "<ol type=\"a\">\n",
        "  <li>90 %</li>\n",
        "  <li>70 %</li>\n",
        "</ol>"
      ]
    },
    {
      "cell_type": "markdown",
      "id": "e3653b23",
      "metadata": {
        "id": "e3653b23"
      },
      "source": [
        "**D**. Inflaatio puolestaan\n",
        "<ol type=\"a\">\n",
        "  <li>2 %</li>\n",
        "  <li>5 %</li>\n",
        "</ol>"
      ]
    },
    {
      "cell_type": "markdown",
      "id": "b855f353",
      "metadata": {
        "id": "b855f353"
      },
      "source": [
        "Vastike on 15 €/m$^2$/kk."
      ]
    },
    {
      "cell_type": "markdown",
      "id": "f11cc5cf",
      "metadata": {
        "id": "f11cc5cf"
      },
      "source": [
        "Kymmenen miljoonaa pitää siis löytyä, jotta talo saadaan pystyyn. Riskiä kannattaa kuitenkin jakaa eli ottaa myös lainaa. Mutta kuinka paljon?"
      ]
    },
    {
      "cell_type": "markdown",
      "id": "eea9b83f",
      "metadata": {
        "id": "eea9b83f"
      },
      "source": [
        "_Mikä on suurin velan määrä, että maksuvalmius säilyy?_"
      ]
    },
    {
      "cell_type": "markdown",
      "id": "81cfca3b",
      "metadata": {
        "id": "81cfca3b"
      },
      "source": [
        "Kootaan päätösmuuttujat omaan taulukkoonsa. Jokaiselle muuttujalle on annettu joku mahdollinen esimerkkiarvo.\n",
        "\n",
        "<table>\n",
        "  <tr>\n",
        "    <th>Päätösmuuttuja</th>\n",
        "    <th>Arvo</th>\n",
        "  </tr>\n",
        "  <tr>\n",
        "    <td>Alkuvelka</td>\n",
        "    <td>5 000 000 €</td>\n",
        "  </tr>\n",
        "  <tr>\n",
        "    <td>Pinta-ala</td>\n",
        "    <td>3 000 m$^2$</td>\n",
        "  </tr>\n",
        "  <tr>\n",
        "    <td>Vastike</td>\n",
        "    <td>15 €/m$^2$/kk</td>\n",
        "  </tr>\n",
        "  <tr>\n",
        "    <td>Vuokrataso</td>\n",
        "    <td>180 €/m$^2$/kk</td>\n",
        "  </tr>\n",
        "  <tr>\n",
        "    <td>Korkotaso</td>\n",
        "    <td>8 %</td>\n",
        "  </tr>\n",
        "  <tr>\n",
        "    <td>Käyttöaste</td>\n",
        "    <td>70 %</td>\n",
        "  </tr>\n",
        "  <tr>\n",
        "    <td>Inflaatio</td>\n",
        "    <td>2 %</td>\n",
        "  </tr>\n",
        "</table>"
      ]
    },
    {
      "cell_type": "markdown",
      "id": "a7fb356f",
      "metadata": {
        "id": "a7fb356f"
      },
      "source": [
        "Seuraavana tehtävänä olisikin selvittää, millä tavoin velka lähtee muodostumaan. Tässä lähdetään liikkeelle seuraavan kaltaisesta laskentataulukosta eddellä olevia muuttujien arvoja hyödyntäen."
      ]
    },
    {
      "cell_type": "markdown",
      "id": "d5ea02b0",
      "metadata": {
        "id": "d5ea02b0"
      },
      "source": [
        "<style>\n",
        "table, th, td {\n",
        "  border: 1px solid black;\n",
        "}\n",
        "</style>\n",
        "\n",
        "<table>\n",
        "  <tr>\n",
        "    <th></th>\n",
        "    <th colspan=\"5\">Vuosi</th>\n",
        "  </tr>\n",
        "  <tr>\n",
        "    <th></th>\n",
        "    <th>1</th>\n",
        "    <th>2</th>\n",
        "    <th>3</th>\n",
        "    <th>4</th>\n",
        "    <th>5</th>\n",
        "  </tr>\n",
        "  <tr>\n",
        "      <td>alkuvelka</td>\n",
        "      <td>5 000 000 €</td>\n",
        "      <td>1. v. loppuvelka</td>\n",
        "      <td>2. v. loppuvelka</td>\n",
        "      <td>3. v. loppuvelka</td>\n",
        "      <td>4. v. loppuvelka</td>\n",
        "  </tr>\n",
        "  <tr>\n",
        "      <td>vuokratuotot (+)</td>\n",
        "      <td>3 000 * 0,7 * 180 * 12</td>\n",
        "      <td>+ inflaatio</td>\n",
        "      <td>+ inflaatio</td>\n",
        "      <td>+ inflaatio</td>\n",
        "      <td>+ inflaatio</td>\n",
        "  </tr>\n",
        "  <tr>\n",
        "      <td>vastikekulut (-)</td>\n",
        "      <td>3 000 * 15 * 12</td>\n",
        "      <td>+ inflaatio</td>\n",
        "      <td>+ inflaatio</td>\n",
        "      <td>+ inflaatio</td>\n",
        "      <td>+ inflaatio</td>\n",
        "  </tr>\n",
        "  <tr>\n",
        "      <td>korkokulut (-)</td>\n",
        "      <td>5 000 000 * 0,08</td>\n",
        "      <td>velka * 0,08</td>\n",
        "      <td>velka * 0,08</td>\n",
        "      <td>velka * 0,08</td>\n",
        "      <td>velka * 0,08</td>\n",
        "  </tr>\n",
        "  <tr>\n",
        "      <td>kassatulot</td>\n",
        "      <td></td>\n",
        "      <td></td>\n",
        "      <td></td>\n",
        "      <td></td>\n",
        "      <td></td>\n",
        "  </tr>\n",
        "  <tr>\n",
        "      <td>loppuvelka</td>\n",
        "      <td>alkuvelka-kassatulot</td>\n",
        "      <td>2.v alkuvelka-kassatulot</td>\n",
        "      <td>3.v alkuvelka-kassatulot</td>\n",
        "      <td>4.v alkuvelka-kassatulot</td>\n",
        "      <td>5.v alkuvelka-kassatulot</td>\n",
        "  </tr>   \n",
        "    \n",
        "</table>"
      ]
    },
    {
      "cell_type": "markdown",
      "id": "980b3577",
      "metadata": {
        "id": "980b3577"
      },
      "source": [
        "Tässä yhteydessä on varmaankin syytä mainita muutama yrittäjän velkaan liittyvä oletus, joka selittää myös edellä olevaa laskentataulukkoa.\n",
        "\n",
        "* Inflaatio vaikuttaa toisesta vuodesta alkaen.\n",
        "* Jos loppuvelka menee miinukselle, se pysähtyy nollaan.\n",
        "* Jos kassavirta on negatiivinen. otetaan lainaa samoilla ehdoilla.\n",
        "* Velan tulisi pienentyä viidennen vuoden jälkeen."
      ]
    },
    {
      "cell_type": "markdown",
      "id": "80493bab",
      "metadata": {
        "id": "80493bab"
      },
      "source": [
        "Päätösmuuttujien A&ndash;D mahdollisia kombinaatioita on $3\\cdot 3\\cdot 2\\cdot 2=36$ kappaletta. Jokaisella alkuvelan arvolla on laskettava näiden mahdollisten skenaarioiden lopputulos. Yllä oleva taulukko on siis laskettava jokaisella velan määrällä ja päätösmuuttujien kombinaatioita muunnellen. Kaikki nuo taulukot laskevat siis käyttäen ensimmäisen taulukon alkuvelkaa, mutta omista lähtötiedoistaan päätösmuuttujien kombinaation mukaisesti."
      ]
    },
    {
      "cell_type": "markdown",
      "id": "e744bf65",
      "metadata": {
        "id": "e744bf65"
      },
      "source": [
        "_Mikä on optimivelka?_"
      ]
    },
    {
      "cell_type": "markdown",
      "id": "79bb7b61",
      "metadata": {
        "id": "79bb7b61"
      },
      "source": [
        "Vielä edellä mainittua ongelmaa tarkentaen, edellä kuvatulla tavalla lähdetään etsimään suurinta mahdollista velan määrää, minkä investointi kestää, kun päätösmuuttujat voivat vaihdella minkälaisina kombinaatioina tahansa ja yrittäjä on määritellyt, että suurin mahdollinen velan määrä on sellainen, missä viiden vuoden sisällä velan määrä ei lähde kasvamaan, oli päätösmuuttujien kombinaatio millainen tahansa."
      ]
    },
    {
      "cell_type": "markdown",
      "id": "101b01a2",
      "metadata": {
        "id": "101b01a2"
      },
      "source": [
        "<table>\n",
        "  <tr>\n",
        "    <th colspan=\"4\">Velan määrällä X EUR</th>\n",
        "  </tr>\n",
        "  <tr>\n",
        "    <th>skenaario</th>\n",
        "    <th>loppuvelka</th>\n",
        "    <th>alkuvelka$-$loppuvelka</th>\n",
        "    <th>IF-lauseke</th>\n",
        "  </tr>\n",
        "  <tr>\n",
        "      <td>1</td>\n",
        "      <td>Y EUR</td>\n",
        "      <td>P EUR</td>\n",
        "      <td>IF( (alkuvelka-loppuvelka) &lt; 0 ; 1 ; 0)</td>\n",
        "  </tr>\n",
        "  <tr>\n",
        "      <td>2</td>\n",
        "      <td>Z EUR</td>\n",
        "      <td>Q EUR</td>\n",
        "      <td>IF( (alkuvelka-loppuvelka) &lt; 0 ; 1 ; 0)</td>\n",
        "  </tr>\n",
        "  <tr>\n",
        "      <td>$\\cdots$</td>\n",
        "      <td>$\\cdots$</td>\n",
        "      <td>$\\cdots$</td>\n",
        "      <td>$\\cdots$</td>\n",
        "  </tr>\n",
        "  <tr>\n",
        "      <td>$\\cdots$</td>\n",
        "      <td>$\\cdots$</td>\n",
        "      <td>$\\cdots$</td>\n",
        "      <td>$\\cdots$</td>\n",
        "  </tr>\n",
        "  <tr>\n",
        "      <td>35</td>\n",
        "      <td>$\\cdots$</td>\n",
        "      <td>$\\cdots$</td>\n",
        "      <td>IF( (alkuvelka-loppuvelka) &lt; 0 ; 1 ; 0)</td>\n",
        "  </tr>\n",
        "  <tr>\n",
        "      <td>36</td>\n",
        "      <td>$\\cdots$</td>\n",
        "      <td>$\\cdots$</td>\n",
        "      <td>IF( (alkuvelka-loppuvelka) &lt; 0 ; 1 ; 0)</td>\n",
        "  </tr>   \n",
        "    \n",
        "</table>"
      ]
    },
    {
      "cell_type": "markdown",
      "id": "6aa01727",
      "metadata": {
        "id": "6aa01727"
      },
      "source": [
        "Oikeanpuoleiseen sarakkeeseen tulee arvoksi yksi, mikäli tilanne on yrittäjän kannalta epäsuotuisa eli velka onkin lähtenyt kasvamaan. Tilannetta ja sen yleisyyttä voi helposti havainnollistaa esim. pylväskaaviolla."
      ]
    },
    {
      "cell_type": "markdown",
      "id": "a7b328c2",
      "metadata": {
        "id": "a7b328c2"
      },
      "source": [
        "Tällainen eri kombinaatioiden tarkastelu tehdään siis jokaiselle velan määrälle erikseen."
      ]
    },
    {
      "cell_type": "markdown",
      "id": "0d598b82",
      "metadata": {
        "id": "0d598b82"
      },
      "source": [
        "_Jos yrittäjä haluaa ottaa lisää velkaa, mitä käy riskille?_"
      ]
    },
    {
      "cell_type": "markdown",
      "id": "c6e63bd6",
      "metadata": {
        "id": "c6e63bd6"
      },
      "source": [
        "Käydään jokaisella velan määrällä läpi mahdolliset kombinaatiot ja katsotaan, onko velan määrä lähtenyt kasvamaan. Velan määrän kasvaessa riski kasvaa."
      ]
    },
    {
      "cell_type": "markdown",
      "id": "3dc5dba0",
      "metadata": {
        "id": "3dc5dba0"
      },
      "source": [
        "$$\\textrm{riski} = \\frac{\\textrm{SUM()}}{\\textrm{COUNT()}}$$"
      ]
    },
    {
      "cell_type": "markdown",
      "id": "c41a666b",
      "metadata": {
        "id": "c41a666b"
      },
      "source": [
        "Optimivelka on siis suurin mahdollinen velan määrä, jossa riski on nolla. On kuitenkin syytä laskea ja tietää riskin suuruus, jos joudutaan tilanteeseen, jossa optimivelka joudutaan ylittämään.\n",
        "\n",
        "On varmaan hyvä huomata, että riski ei kuitenkaan kasva lineaarisesti velan määrän suhteen. Oheinen mielikuvituskuva pyrkii havainnollistamaan tätä tilannetta."
      ]
    },
    {
      "cell_type": "markdown",
      "id": "2fe9e625",
      "metadata": {
        "id": "2fe9e625"
      },
      "source": [
        "Riski kasvaa suhteessa velan määrään mutta ei lineaarisesti![velan_optimointi__velan_maara_riski.PNG](data:image/png;base64,iVBORw0KGgoAAAANSUhEUgAAAqgAAAEjCAYAAAD+J/PaAAAAAXNSR0IArs4c6QAAAARnQU1BAACxjwv8YQUAAAAJcEhZcwAADsMAAA7DAcdvqGQAACSsSURBVHhe7d3PiyzXecbx+0/kHxBaZ6FdxivvsrMXWZtk0wiBTRZaOMKYkI2vtQiNMIliDJEM8Q+Mce6mbRkCBhmijY3gBizUC1vaaKGFtBFadup09ek+XXOqqqun37feZ+r7QQfdO3e6e6aeU+c8U9M982Qn5i9/+cvhT1BEfoiGOamN/LSRnzbL/CiocEV+iIY5qY38tJGfNsv8KKhwRX6Ihjmpjfy0kZ82y/woqHBFfoiGOamN/LSRnzbL/CiocEV+iIY5qY38tJGfNsv8KKhwRX6Ihjmpjfy0kZ82y/woqHBFfoiGOamN/LSRnzbL/CiocEV+iIY5qY38tJGfNsv8KKhwRX6Ihjmpjfy0kZ82y/woqHBFfoiGOamN/LSRnzbL/CiocEV+iIY5qY38tJGfNsv8KKhwRX6Ihjmpjfy0kZ82y/woqHBFfoiGOamN/LSRnzbL/CiocEV+iIY5qY38tJGfNsv8KKhwRX6Ihjmpjfy0kZ82y/xkC+rHn362/z+0sBghGuakNvLTRn7aLPOTLKiff/Hl7qVX3zi8BUpYjBANc1Ib+WkjP22W+UkW1O//6ne7v/r7f9n/H1pYjBANc1Ib+WkjP22W+ckV1OcffLh78ZXX9wU1/R9aWIwQDXNSG/lpIz9tFNTCa28925fTPLiKqoXFCNEwJ7WRnzby00ZBPUjPPX3h5adnBZWrqFpYjBANc1Ib+WkjP22mBTXducroXj3NI7299v4MBoPBYDAYDL0hcwU1XT3Nzz3tDq6i6kiTDoiEOamN/ID5WJ5/MgU1v3K/b/BcVA1sJoiGOamN/ID5LL6gDl09zYOrqBrYTBANc1Ib+QHzWXxBHbt6mgdXUeNjM0E0zElt5AfMZ9EF9ZKrp3lwFTU+NhNEw5zURn7AfBZdUC+9epoHV1FjYzNBNMxJbeQHzGexBXXK1dM8uIoaG5sJomFOaiM/YD6LLajPP/pkf0W0HLXfJNUd6XaIic0E0TAntZEfMJ/FFtSadDDKgjrFdrvZbbaHvzia63EjYjNBNMxJbeQ3n1vsbeyPLdXjQEEtXF1QN6vdkydPmnG3Wz9oEmx2q/39rJo/XeBmj/s4sJkgGuaktv788lr9ZLcaW6y3693dlHX90Tkdq8Fxt94dt7Epe1t+3/L2CftjS/g4UFALVxfUvADdPXQBmlhQb/a4jwNlANEwJ7VRUG+hLKh3u7u7nrEqCuaUva2voLI/toSPAwW1cHVBvZmJBRVnKAOIhjmpjYJ6CxOO1TX6CirkUVALFFRtlAFEw5zURkG9BQoqrkNBLfQW1OMl8vYE2K5X7d+PZ9tQsdw258/dYYE6jLvVbl19xvLA/VSfR0KhLVEGEA1zUptpQR0sVtvd+q673he2m9262VeOe0oz0rfIq9tKd/9qHve0HzV70/r0Ue3/bf+4+T43lY9tqmsK6oS9rfc49tzH4PEY+Zyb4766K497emrCyDG6d5tmNH9fDb1qacptru0nXsfhAY9DQS1cUlDXq/MD2+qZAMe3p9uudqtVGqeyendv5RmZSM04PuRe3+MuE2UA0TAntYUsqMV+kPeVU6kceP/9/tWWivZ5n/k27V6ULqS095n+rSgfo5/gmAnH6mjC3vaAgnos+an8jX3OxXG/y/t5PoZ9z+/MH1u6TfP+63X7mMf7qX31MfU2Z59P+z7tbfNHNPNxuPZxGhTUwmhB3Y9mAbj3VUx9AmzXhwC6B/94f90wa/eT31abzD0Tb6EoA4iGOaktXkEtH/f8VunKVPX+yv0rFYjyH4sydO+xevepqSYcq6MJe1vvcey5j6Hj0fs5n/K4v5337PPH21Q+79HHmXCb8vOZ0E/Obmd5HK56nBYFtTBeUCtfne7VJ0AOrPpV0nab/uvo3s9pstYXsQkn8QJQBhANc1LbJQX18tFZp68pqBfdplNuBktA/jxqe1vPxzBZeazaq7P3x6rzGBP2tqsLau2+R477vdaY9H2szR6/2ew2TSO7f/j6ju0Vt7myn7gdh2se54CCWhgvqLUDnPQEk8NMb69OnK7z+9kcL9dPfNyFogwgGuaktmgFdfCiR6N6FWtw/xraQ/LHMOXKZ80lx6pbUCbsbSYF9fxzzse17zjkvfry4zRczOp6bnNtP/E6Dlc8TkZBLdy8oBYHvx13u9W654nse6f7WeeFZnACTziJF4AygGiYk9ouKaijpaRv/7iioI4WodoVrsH9a2gPGS4Pl5twrI4m7G0OBTUf9+NzLjsjP5+39/PbbnebzabZ14vb7D+Ggf390ttc20+8jsMVj5NRUAu3L6it7WZ9ehJxHt3nYuzl+0nf8sjv2/eYyYSTeAEoA4iGOalNtqCW9zm4fw3tIRTULB/3sXHv82seq9z709MZjmVu/7ZKQZ16m8HPJ5n5OFzxOBkFtWBVUEvnZbX7/uX95D83o7qAJZc/7hJQBhANc1KbbEEt32Fw/xraQyio2ehxrzk+TnpBUTfher4Pu03fsYpyHC5/nIyCWvAoqK2+UDr3c3zcvuccTX3cx40ygGiYk9qiFlTV56Befj8T9jbHgtp33GuGb3NNvvXbDH8+ybzH4ZrHySiohVsX1PbVePUfQpuDPg+lcj/55Lv3vsmEk3gBKAOIhjmpzbSg5rdXC2q+/04ZuajUdj6mwf1raA8ZLg+Xm3CsjibsbQ4F9fgYfZ/A/qfydB69usdn+XHqBXXKba7tJ17H4arHOaCgFm5dUE+TrRNY30TruZ/jV8UXvv9SUQYQDXNSm2lBPd5Ht3A0bz9s2v1r/v19ZfznoNb2iaE9pK88nN5++mHwQyYcq6Ohj6sjf36WBfV4X/eP++n+zrPqv9p4eoxb3Gb480nmPQ7XPU6Lglq4dUE93a6ZcMWr3vLb7n8V0nM/jTxxz0/C/vdfIsoAomFOarMtqMW6nsb+54G2f06/trTduLsFtVHsK+nFtvt9pa+8JIP719Ae0lMeyse/aO85Hav08Z3//NNiNJ/zdXtbcf/N/azW+buWPfcxeDwGClPxeZ/283zxqFIqB94/fa5tZn1l7prb9B2rKMdh4uM0KKiFmxfUpPlquPw1ZfuRTqJ7V1WToZOyOAmPSQ69//JQBhANc1KbdUFNG/TxV4zuR94b8sZdKZzJYV853a4tMNVtZfDxh/aQ/vKQP+bLnotY7F1D4yEXX5rP8VjSj/fTcx8PKEzV496UtPu/vemg/LjSKPb+9ouT+hcUk24z+PkkMx+HBzwOBbXQW1AhgTKAaJiT2sgPmA8FtUBB1cZmgmiYk9rID5gPBbVAQdXGZoJomJPayA+YDwW1QEHVxmaCaJiT2sgPmA8FtUBB1cZmgmiYk9rID5gPBbVAQdXGZoJomJPayA+YDwW1QEHVxmaCaJiT2sgPmA8FtUBB1cZmgmiYk9rID5iPaUFNd642yoJa+3cGg8FgMBgMhu7gCipcpfyASJiT2shPG/lps8yPggpXLEaIhjmpjfy0kZ82y/woqHDFYoRomJPayE8b+WmzzI+CClcsRoiGOamN/LSRnzbL/CiocMVihGiYk9rITxv5abPMj4IKVyxGiIY5qY38tJGfNsv8KKhwxWKEaJiT2shP21Lz+/2f/nz4kzbL/CiocMVmgmiYk9rIT9uS8nv+0Se77//qd7uvfveH+/7y8aefHf5Fl2V+FFS4YjNBNMxJbeSn7bHn9/kXX56V0nK8+c57h/fSZZkfBRWu2EwQDXNSG/lpe4z5pVL603ff35fSF195/ayzlCP9mzrL/CiocMVmgmiYk9rIT9tjyS+V0vS80m+88fPBUppHep+vP337cGtdlvlRUOGKzQTRMCe1kZ825fxyKf3OT96ZVErTt/bTbR8Dy/woqHDFZoJomJPayE+bYn6plKbnlb706htnfaRv5FL6GF4U1WWZHwUVrthMEA1zUhv5aVPJL5XLvhc71UZ6v/T+6ZX7j5llfhRUuGIzQTTMSW3kpy1yfunb8OnK56WlNH0LP327/7GX0pJlfhRUuGIzQTTMSW3kpy1afqmUbv7wwegr8PNI75NeGJVK6WN5XukUlvlRUOGKzQTRMCe1kZ+2CPnlFzt980fPJr3YKf0oqSWW0pJlfhRUuGIzQTTMSW3kp23O/Ka8Aj+Nx/YK/FuwzI+CCldsJoiGOamN/LR559f9daNjI5XSJbzY6VqW+VFQ4YrNBNEwJ7WRnzaP/NIVzymlNP34KErpZSzzo6DCFZsJomFOaiM/bVb5pVJ6ya8bzSO9T3oO6lJf7HQty/OPggpXbCaIhjmpjfy03TK/VCyv+XWj6VX7lNLrWJ5/FFS4YjNBNMxJbeSn7aH55VK65F83OifL84+CCldsJoiGOamN/LRdmx+/bjQGy/OPggpXbCaIhjmpjfy0TcmPXzcaj+X5R0GFKzYTRMOc1EZ+2sbyS9+G59eNxmV5/lFQ4YrNBNEwJ7WRn7ZafqmU8utGNViefxRUuGIzQTTMSW2q+eXnUC5tpM+7lPPLL3bi141qsTz/KKhwRRlANMxJbar5pbJW7mVLGenzLqX8+HWjuizPPwoqXFEGEA1zUptqfhTUVspv7JX4qZSm2/G80ngszz8KKlxRBhANc1Kban4U1FbKL11B7b4fv25Ug+X5R0GFK8oAomFOalPNr1tQ81XCxz5qz0FN365PxyB9m59fN6rF8vyjoMIVZQDRMCe1qeaXylq5l6W/L1HOj183qsny/KOgwhVlANEwJ7Wp5kdBbXH+abPM70m6c7VRntS1f2cwGAwGI/J47a1nZ3tZ+nvt/RiMpQ6uoMJVyg+IhDmpTTU/rqC2OP+0WeZHQYUrFiNEw5zUppofBbXF+afNMj8KKlyxGCEa5qQ21fwoqC3OP22W+VFQ4YrFCNEwJ7Wp5kdBbXH+abPMj4IKVyxGiIY5qU01Pwpqi/NPm2V+FFS4YjFCNMxJbar5UVBbnH/aLPOjoMIVixGiYU5qU82Pgtri/NNmmR8FFa5YjBANc1Kban4U1BbnnzbL/CiocMVihGiYk9pU86Ogtjj/tFnmR0GFKxYjRMOc1KaaHwW1xfmnzTI/CipcsRghGuakNtX8KKgtzj9tlvlRUOGKxQjRMCe1qeZHQW1x/mmzzI+CClcsRoiGOalNNT8KaovzT5tlfhRUuGIxQjTMSW2q+VFQW5x/2izzo6DCFYsRomFOalPNj4La4vzTZpkfBRWuWIwQDXNSm2p+FNQW5582y/woqHDFYoRomJPaVPOjoLY4/7RZ5kdBhSsWI0TDnNSmmh8FtcX5p80yPwoqXLEYIRrmpDbV/CioLc4/bZb5UVDhisUI0TAntanmR0Ftcf5ps8yPggpXLEaIhjmpTTU/CmqL80+bZX4UVLhiMUI0zEltqvlRUFucf9os86OgwhWLEaJhTmpTzY+C2uL802aZHwUVrliMEA1zUptqfhTUFuefNsv8KKhwxWKEaJiT2lTzo6C2OP+0WeZHQYUrFiNEw5zUppofBbXF+afNMj8KKlyxGCEa5qQ21fwoqC3OP22W+VFQ4YrFCNEwJ7Wp5kdBbXH+abPMj4IKVyxGiIY5qU01Pwpqi/NPm2V+FFS4YjFCNMxJbar5UVBbnH/aLPOjoMIVixGiYU5qU82Pgtri/NNmmR8FFa5YjBANczKW3//pz/uydul47a1n1bdHH19/+vbZXpbetkScf9ooqAUKqjYWI0TDnIzh8y++3D3/6JPd6t9/ebbGL2VQUKGIglqgoGpjMUI0zEk/uYRu/vDB7s133tt95yfv7L763R/uXnzl9bN1fYmDggpFpgU13bnaKE/q2r8zGAwGY57x/IMPd79974+7t3/z7u57P/v17ltv/mL3lW//YPfCy0/P1m7G+UhPVagdTwZjqYMrqHCV8gMiYU5O13cl9KVX3zhbn68df/NP/3Z8rubYUH0Oanek594uEeefNsv8KKhwxWKEaJiTdbUSml7Yc6sS2h3p2/yp5H7jjZ/vC9ulyE8b+WmzzI+CClcsRohmyXNyzhKaHis9ZrpymD6G9LFcgzVFG/lps8yPggpXLEaI5rHPyaESavHiJIsSOoQ1RRv5abPMj4IKVyxGiOYxzMm+Emr1CnnvEjqENUUb+WmzzI+CClcsRohGZU7OUULTVdYIJXQIa4o28tNmmR8FFa5YjBBNpDk5VwlNjxG5hA5hTdFGftos86OgwhWLEaLxnpOp+H386WduJTQN9RI6hDVFG/lps8yPggpXLEaIxmJOUkL9sKZoIz9tlvlRUOGKxQjRXDsncwlNRdCrhKb7TY/xzR+1P5x+KSV0CGuKNvLTZpkfBRWuWIwQzdicpITGxpqijfy0WeZHQYUrFiNEk+ZkKn+UUE2sKdrIT5tlfhRUuGIxwlxyCf3pu+/vS2EuoS+8/PRsTbnVSCU03X8uoen5qJTQ22NN0UZ+2iioBQqqNhYjWOoroZZXQtP9598fTwn1x5qijfy0UVALFFRtLEZ4qFT+Ugmcq4Smx6WExsGaoo38tFFQCxRUbSxGuES3hKZySAlFDWuKNvLTRkEtUFC1sRghyyU0fVs8lcL0XE2vEpp/Vmh6/OcffHj4iKCINUUb+WmjoBYoqNpYjJYlSgkduhLKnNRGftrIT5tlfhRUuGIxenwUSugQ5qQ28tNGftos86OgwhWLkb70/MxUDOcooemH5t8ac1Ib+WkjP22W+VFQ4YrFSF8qjOU5eO3wLKFDmJPayE8b+WmzzI+CClcsRlrSt+zzyNKfy3NwaNRKaPo5pd4ldAhzUhv5aSM/bZb5UVDhisVIR7eI5pKanmtavn2ohF77vFBPzElt5KeN/LRZ5kdBhSsWIx19BTWVzlxCH/LipCiYk9rITxv5abPMj4IKVyxGOvoK6mPDnNRGftrIT5tlfhRUuGIx0kFBhQLy00Z+2izzo6DCFYuRDgoqFJCfNvLTZpkfBRWuWIx0UFChgPy0kZ82y/woqHDFYqSDggoF5KeN/LRZ5kdBhSsWIx0UVCggP23kp80yPwoqXLEY6aCgQgH5aSM/bZb5UVDhisVIBwUVCshPG/lps8yPggpXLEY6KKhQQH7ayE+bZX4UVLhiMdJBQYUC8tNGftos83uS7lxtlJtm7d8ZDMbDx2tvPTs719Lfa+/HYDAYDMatB1dQ4SrlBw1cQYUC8tNGftos86OgwhWLkQ4KKhSQnzby02aZHwUVrliMdFBQoYD8tJGfNsv8KKhwxWKkg4IKBeSnjfy0WeZHQYUrFiMdFFQoID9t5KfNMj8KKlyxGOmgoEIB+WkjP22W+VFQ4YrFSAcFFQrITxv5abPMj4IKVyxGOiioUEB+2shPm2V+FFS4YjHSQUGFAvLTRn7aLPOjoMIVi5EOCioUkJ828tNmmR8FFa5YjHRQUKGA/LSRnzbL/CiocMVipIOCCgXkp438tFnmR0GFKxYjHRRUKCA/beSnzTI/CipcsRjpoKBCAflpIz9tlvlRUOGKxUgHBRUKyE8b+WmzzI+CClcsRjooqFBAftrIT5tlfhRUuGIx0kFBhQLy00Z+2izzo6DCFYuRDgoqFJCfNvLTZpkfBRWuWIx0UFChgPy0kZ82y/woqHDFYqSDggoF5KeN/LRZ5kdBhSsWIx0UVCggP23kp80yPwoqXLEY6aCgQgH5aSM/bZb5UVDhakmLUSp0yuNrT398dq6ltz1GbJDayE8b+WmzzI+CCldLWoxSoSvnqvqgoCIi8tNGftos86OgwtWSFiMKqgY2SG3kp438tFnmR0GFqyUtRhRUDWyQ2shPG/lps8yPggpXS1qMugU1PaczvU15PEZskNrITxv5abPMj4IKV0tajFKhK+fqYy146tggtZGfNvLTZpkfBRWulrQYUVA1sEFqIz9t5KfNMj8KKlwtaTGioGpgg9RGftrIT5tlfhRUuFrSYkRB1cAGqY38tJGfNsv8KKhwtaTFiIKqgQ1SG/lpIz9tlvlRUOFqSYsRBVUDG6Q28tNGftos86OgwtWSFiMKqgY2SG3kp438tFnm9yTdudooN/3avzMYEcZrbz07m6vp77X3YzAYDAaDcT64ggpXKb+l4AqqhiXNyceI/LSRnzbL/CiocLWkxYiCqoENUhv5aSM/bZb5UVDhakmLEQVVAxukNvLTRn7aLPOjoMLVkhYjCqoGNkht5KeN/LRZ5kdBhaslLUYUVA1skNrITxv5abPMj4IKV0tajCioGtggtZGfNvLTZpkfBRWulrQYUVA1sEFqIz9t5KfNMj8KKlwtaTGioGpgg9RGftrIT5tlfhRUuFrSYkRB1cAGqY38tJGfNsv8KKhwtaTFiIKqgQ1SG/lpIz9tlvlRUOFqSYsRBVUDG6Q28tNGftos86OgwtWSFiMKqgY2SG3kp438tFnmR0GFqyUtRhRUDWyQ2shPG/lps8yPggpXS1qMKKga2CC1kZ828tNmmR8FFa6WtBhRUDWwQWojP23kp80yPwoqXC1pMaKgamCD1EZ+2shPm2V+FFS4WtJiREHVwAapjfy0kZ82y/woqHC1pMWIgqqBDVIb+WkjP22W+VFQ4WpJixEFVQMbpDby00Z+2izzo6DC1ZIWIwqqBjZIbeSnjfy0WeZHQYWrJS1GFFQNbJDayE8b+WmzzI+CCldLWowoqBrYILWRnzby02aZHwUVrpa0GFFQNbBBaiM/beSnzTI/CipcLWkxoqBqYIPURn7ayM/Wx59+dviTDcv8KKhwtaTFiIKqgQ1SG/lpIz9bad956dU3dj999/3DW27LMj8KKlwtaTGioGpgg9RGftrIz1a5D734yus3L6qW+VFQ4WpJixEFVQMbpDby00Z+trr7UBq3LKqW+VFQ4Wppi1FaHPJATGyQ2shPG/nZqhXUPG5RVC3zo6DCFYsRomFOaiM/beRna6igluM7P3nncItpLPOjoMIVixGiYU5q88zv8y++nDzSq6injucffTJ5/P5Pf540Nn/4YPJIV9umjDffeW90fO9nvz77e/ldp0tGKlZTxzd/9GzS+MYbP580vv707cnjq9/94eSRXvw0NtJV0rIzjY10fKagoBYoqNooA7HVNtixUdtgh0Ztcx0btQ12aNQ2177x9m/e3f+/tsEOjXJTvXTUNtih0d1YLxm1DXZo1DbYsVHbYIdGbXMdG7XNtjb++h//9fjntBlPHeV+wmAw2m/9p7X6EhTUwkMKam1zHRvdzXVs1DbXsVHbYIdGd4O9ZNQ22KFR21zHRm2D7Y7X3np2/HNtcx0btQ12bNQ22KFR22CHRm1zHRvlBnvp6G6sl4zyXGEwGAwGo2+kPSPtzanLXIqCWugWVAaDwWAwPEb3C8BLRu2LzbFR+6J2bNS+eB4atS/Ox0btAsDQqF1k6I5vvfmLs7/nCxiXjtrFkrFRuygzNGoXfYZG7cLS2KhdvBob3QtktZGOaW0ulyPN03Qs0/tPRUEtpIORDuTXnv64eqAZDMb1o7u5XjJqG+zQqG2uY6O2wQ6N2ubaN/7u6X/u/1/bYIdGualeOsqN9ZJR21zHRm2DHRq1DXZs1DbYoVHbXMdGd6PtG//7/v8d/1z7LtjYwLwsCw52+zWhttankdbvtC6lc+dapgU13bniSN8qrh3wofHCy08nj/T8pinjK9/+weTxt//8H5NG2lCnjn9Y/9ekkb6qnTpSJlNGenL81PGD//6fySM9x3DK+OXv3ps0fvveHyePtKlOHc8/+HDyqJ07DAaDwVjGSPtmrQulPTvtK7XbRBmSV1Chi/wQDXNSG/lpIz9b5RXUW1wx7bLMj4IKV+SHaJiT2shPG/nZSgU1FdP0NKZbFtPMMj8KKlyRH6JhTmojP23kZys/p9uKZX4UVLgiP0TDnNRGftrIT5tlfhRUuCI/RMOc1EZ+2shPm2V+FFS4Ij9Ew5zURn7ayE+bZX4UVLgiP0TDnNRGftrIT5tlfhRUuCI/RMOc1EZ+2shPm2V+FFS4Ij9Ew5zURn7ayE+bZX4zFtTtbr262909ebJ7chh3q/Vusz38cw8mczRNjneH/NYj4TXID1a2m/VudXd3XE/2c/JutVuPLCrMySC2G/J7TLbr4/6+2hzeVjFbfptVO8/u1s0uVmrm4f7jXjV/whjL/GYqqHkC5EWoXJSGJwWLUSSncrrPkYKKmWzX3WLT+fvA3GROBtCUhbOLFU1+Z38nPzHnewMF9fGyzG+WgrpZHSZuM2tPE2N79vY+LEYRbHfbzoaSBgUVszi7UnM+B9M8befn3a5vejIn53a6YNFdQ07rDPlJOZ53+bw8vL1itvwoqDdhmZ9/QT1uJpUFZ+jfDliM5lZ+ZXy3WzVB5S8sKKiYw/Hqac8uODY/mZPzIr/H5lTwVofsKKiPl2V+/gW1d1Ik489nZDGaW5PRKhXTzW57iIiCijnl+de3CY4VIObkvMbWj5wfe4KG8nwcOzeT+/mdesDkc/re85jvdnfN+1RnzjUF9XhluHaBrfvY6b6bvXLshTXiLM8/94I6tlmwmeihoCIy1hRl42WF/ALJBe4Q1nUFdeyc7ZkTxVN90ovrVqtm5O/2NX+/d09TC+rQi76OxbV57OZx1+v12YvAL9kbVVmef+4F9dKvltlMdFBQERcFR9lxP6h+x61FflHcL3bXFtRjGazmXiuQ+TxPVywPbzro7RSTCmp+W22fG1hjjqW2UpAfCcvzz7mgnoLsLTO9k6bFYhQPBRVhHa9s9G8QzMlYNunKU/Eq/vTjB4dWFvKLIRfBch+4uqAeu0LlW+n5nC7vtPa2o54rohcX1FNvqfeS9KLhzW6zaf5/eMvJwOfxSFief7MV1N4JS0GVQ0FFTENXPU6Yk7Hk9SSP9O3aoafxkV8APVc8ry+o6S7vF96kdp/5ffsep/pxXFhQT/Ox/4vcfhTUh+AKKh4sn8AUVMTRbDL5qsfQ7thgTka13W3W/Jip+PpL2EMKar301q+GHveg/NzTzrirXRi7oKCu89MDLi2Y22bObjbN7YrHnnJ7QZbnH89BxYNRUBHL5eU0YU4Gx0WL0PqudCYPKqi14pvnQucO8+OMjWkFNT3VJN925OppU6aPa04z0lNUKKgP515QxwooBVUPBRVhpB/1st8Qmvk4tCsWmJPBjbzQhPxm1POt/exhBfXUB/Ltu3/PLnmcey64gro5/rn2fgfH+Vn7kVJ8i/8h3Atq/6RIxp8CwGIUDwUVIZTldMJuwJycU1kG+gy/D/nN53hBaX+18f5o/+307+kXu3QN5pfL37555n5wfx5M2YOOLiqojWMBrd//8GNTUB/Cv6AWX23cC2zo3w5YjOKhoGJ2I5vIEObknE4XJXqvfuUiQUEN51RQLxu1c3M4v6KUnpXVjjxH+ibRdtv813nsSwtqcpyDU6/eUlAfwr+gNnKgaTKdMuN38auioGJWDyinCXNyXuVVuHX3W6QXXBUnv6gu+OKjMZbf8dv6q8P/q/d1mif3vs3ed+Erv/2Sgto4m6fFDfr3v9PnT0G9ziwFtZxM+2DPvhVQ/yo5YzEKoDmx06906/s2zn70rEjkh9u6v5b0j1V1k2BOzq24OFGuI0Wuvc//a5BfVLcpqKeCmcZAPyi/UD2+mv+0P90vkMXa0cy3/a/vPnv7/cc6ztNyPg48bvoZvu2Lpyio15ipoCbN5C1+FVgOc+jn3SUsRgGcLRg9g4IKF+cFdXjUNwnmZAzbTfuFb5lZKqpjv8uc/KK6UUEt7mfou6t7282+V5zPoeYL0745tL/YcnjfY+nsL6hn6035sZT3s7+v07xtSy0F9RozFtTrsBhpIz9Ew5zURn7ayE+bZX4UVLgiP0TDnNRGftrIT5tlfhRUuCI/RMOc1EZ+2shPm2V+FFS4Ij9Ew5zURn7ayE+bZX4UVLgiP0TDnNRGftrIT5tlfhRUuCI/RMOc1EZ+2shPm2V+FFS4Ij9Ew5zURn7ayE+bZX4UVLgiP0TDnNRGftrIT5tlfk/SnTMYDAaDwWAwGFEGV1DhivwQDXNSG/lpIz9tlvlRUOGK/BANc1Ib+WkjP22W+VFQ4Yr8EA1zUhv5aSM/bZb5UVDhivwQDXNSG/lpIz9tlvlRUOGK/BANc1Ib+WkjP22W+VFQ4Yr8EA1zUhv5aSM/bZb5UVDhivwQDXNSG/lpIz9tlvlRUOGK/BANc1Ib+WkjP22W+VFQ4Yr8EA1zUhv5aSM/bZb5UVDhivwQDXNSG/lpIz9tlvlRUOGK/BANc1Ib+WkjP22W+VFQ4Yr8EA1zUhv5aSM/bZb5UVDhivwQDXNSG/lpIz9tlvlRUOGK/BANc1Ib+WkjP22W+VFQ4Yr8EA1zUhv5aSM/bZb5UVDhivwQDXNSG/lpIz9tlvlRUOGK/BANc1Ib+WkjP22W+VFQ4Yr8EA1zUhv5aSM/bZb5UVDhivwQDXNSG/lpIz9tlvlRUOGK/BANc1Ib+WkjP22W+VFQ4Yr8EA1zUhv5aSM/bZb5UVDhivwQDXNSG/lpIz9tlvlRUOGK/BANc1Ib+WkjP22W+VFQ4Yr8EA1zUhv5aSM/bXb57Xb/Dx6Xmv/msoi3AAAAAElFTkSuQmCC)"
      ]
    },
    {
      "cell_type": "code",
      "execution_count": 1,
      "id": "7e8945da",
      "metadata": {
        "colab": {
          "base_uri": "https://localhost:8080/"
        },
        "id": "7e8945da",
        "outputId": "66cd1dac-76ce-400f-ef71-3dddf0c20d07"
      },
      "outputs": [
        {
          "output_type": "stream",
          "name": "stdout",
          "text": [
            "Last modified 2025-03-26 17:49 by Juha Nurmonen\n"
          ]
        }
      ],
      "source": [
        "import datetime\n",
        "print(f'Last modified {datetime.datetime.now():%Y-%m-%d %H:%M} by Juha Nurmonen')"
      ]
    }
  ],
  "metadata": {
    "kernelspec": {
      "display_name": "Python 3 (ipykernel)",
      "language": "python",
      "name": "python3"
    },
    "language_info": {
      "codemirror_mode": {
        "name": "ipython",
        "version": 3
      },
      "file_extension": ".py",
      "mimetype": "text/x-python",
      "name": "python",
      "nbconvert_exporter": "python",
      "pygments_lexer": "ipython3",
      "version": "3.11.7"
    },
    "colab": {
      "provenance": []
    }
  },
  "nbformat": 4,
  "nbformat_minor": 5
}