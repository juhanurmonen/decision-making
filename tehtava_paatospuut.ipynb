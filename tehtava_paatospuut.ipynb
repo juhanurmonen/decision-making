{
 "cells": [
  {
   "cell_type": "markdown",
   "id": "0de111d5",
   "metadata": {},
   "source": [
    "# Strategiset päätöksentekomallit"
   ]
  },
  {
   "cell_type": "markdown",
   "id": "4a217e68",
   "metadata": {},
   "source": [
    "## Tehtävä 3: Päätöspuut"
   ]
  },
  {
   "cell_type": "markdown",
   "id": "0511f878",
   "metadata": {},
   "source": [
    "### Oppimistavoitteet"
   ]
  },
  {
   "cell_type": "markdown",
   "id": "5ebbe69e",
   "metadata": {},
   "source": [
    "Tässä tehtävässä tutustutaan päätöspuihin ja niiden käyttöön päätöksiä tehtäessä. Näin tehtäessä opitaan myös esittämään asiat selkeästi sekä dokumentoimaan ja selittämään Excelillä tehtyjä laskentapohjia. "
   ]
  },
  {
   "cell_type": "markdown",
   "id": "04e6430c",
   "metadata": {},
   "source": [
    "Lisää tiedostoon ohjeet selityksineen peruskäyttäjälle ja kehittäjälle näiden käytöstä. "
   ]
  },
  {
   "cell_type": "markdown",
   "id": "e92bbda2",
   "metadata": {},
   "source": [
    "### Lähtötiedot"
   ]
  },
  {
   "cell_type": "markdown",
   "id": "e8318916",
   "metadata": {},
   "source": [
    "Nokia tuo markkinoille uuden puhelimen, joka välittää äänen ja kuvan lisäksi myös tuoksuja ja tunteita. Yhtiöllä on uudelle tuotteelleen kolme vaihtoehtoista hinnoittelustrategiaa A, B ja C, joiden katteet ovat 5 600 €/kpl, 2 800 €/kpl ja 1 900 €/kpl. "
   ]
  },
  {
   "cell_type": "markdown",
   "id": "5c2385d8",
   "metadata": {},
   "source": [
    "Alla olevaan kuvioon on koottu pahimmat kilpailijan odotetut reaktiot hintatason suhteen. Luvut on estimoitu tuotteen tunnetun kysynnän hintajouston sekä markkinoiden kokonaiskysynnän avulla. Luvut ovat miljoonaa kappaletta. "
   ]
  },
  {
   "cell_type": "markdown",
   "id": "5d4aba9d",
   "metadata": {},
   "source": [
    "![Kilpailijan odotetut reaktiot](https://raw.githubusercontent.com/juhanurmonen/decision-making/main/tehtavan3_liite_paatospuut_hinnoittelustrategiat.PNG \"Kilpailijan odotetut reaktiot\")"
   ]
  },
  {
   "cell_type": "markdown",
   "id": "e9e57c9b",
   "metadata": {},
   "source": [
    "### Selvitettävät asiat"
   ]
  },
  {
   "cell_type": "markdown",
   "id": "fcea7f63",
   "metadata": {},
   "source": [
    "1. Selvitä ja perustele, millä hinnoitteluvaihtoehdolla yrityksen kannattaisi lähteä liikkeelle. (60 %)\n",
    "2. Oletetaan ensimmäisen vuoden myyntiluvut annetuiksi. Toisen vuoden myyntiluvut voivat kaikissa vaihtoehdoissa olla 20 % pienemmät (pessimistin arvio) tai 20 % suuremmat (optimistin arvio). Mitkä ovat A:n, B:n ja C:n pessimistin ja optimistin odotusarvot? Mitä hinnoitteluvaihtoehtoa suosittelet nyt? (40 %)\n"
   ]
  },
  {
   "cell_type": "markdown",
   "id": "133e79fe",
   "metadata": {},
   "source": [
    "[//]: # (\n",
    "Tämä osa ei kuulu kurssin tehtävään. Se on tässä esimerkin vuoksi, millä tavoin asiaa voisi hyödyntää. \n",
    "3. Oletetaan ensimmäisen ja toisen vuoden myyntiluvut muuttumattomiksi, lähtötiedoissa annetuiksi. Annettujen todennäköisyyksien oletetaan vaihtelevan 10 % molempiin suuntiin. Vaihtoehtoiset todennäköisyydet ovat siis, selvyyden vuoksi seuraavassa on listattu myös annetut:\n",
    "    1. Annetut todennäköisyydet olivat 0,2, 0,5 ja 0,3; uudet ovat 0,1, 0,5 ja 0,4 sekä 0,3, 0,5 ja 0,2.\n",
    "    2. Annetut todennäköisyydet olivat 0,8 ja 0,2; uudet ovat 0,7 ja 0,3 sekä 0,9 ja 0,1.\n",
    "    3. Annetut todennäköisyydet olivat 0,4 ja 0,6; uudet ovat 0,3 ja 0,7 sekä 0,5 ja 0,5.\n",
    "\n",
    "Kullakin hinnoitteluvaihtoehdolla on siten kolme eri vaihtoehtoista todennäköisyyttä kilpailijan toimenpiteiksi. Hinnoittelulle voidaan siten laskea $3^3=27$ eri vaihtoehtoa. Selvitä kunkin hinnoitteluvaihtoehdon odotusarvojen keskiarvo ja hajonta.\n",
    "\n",
    "Kuinka monessa tapauksessa A on paras, kuinka monessa B on paras ja kuinka monessa taas C? \n",
    "\n",
    "Mikä hinnoitteluvaihtoehto edellä olevan perusteella tulisi valita?\n",
    ")"
   ]
  },
  {
   "cell_type": "code",
   "execution_count": 13,
   "id": "1daa57ae",
   "metadata": {},
   "outputs": [
    {
     "name": "stdout",
     "output_type": "stream",
     "text": [
      "Last modified 2025-01-16 01:58 by Juha Nurmonen\n"
     ]
    }
   ],
   "source": [
    "import datetime\n",
    "import pytz\n",
    "\n",
    "tz = pytz.timezone('Europe/Helsinki')\n",
    "print(f'Last modified {tz.localize(datetime.datetime.now()):%Y-%m-%d %H:%M} by Juha Nurmonen')"
   ]
  }
 ],
 "metadata": {
  "kernelspec": {
   "display_name": "Python 3 (ipykernel)",
   "language": "python",
   "name": "python3"
  },
  "language_info": {
   "codemirror_mode": {
    "name": "ipython",
    "version": 3
   },
   "file_extension": ".py",
   "mimetype": "text/x-python",
   "name": "python",
   "nbconvert_exporter": "python",
   "pygments_lexer": "ipython3",
   "version": "3.11.9"
  }
 },
 "nbformat": 4,
 "nbformat_minor": 5
}
