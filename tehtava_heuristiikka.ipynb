{
 "cells": [
  {
   "cell_type": "markdown",
   "id": "0de111d5",
   "metadata": {},
   "source": [
    "# Strategiset päätöksentekomallit"
   ]
  },
  {
   "cell_type": "markdown",
   "id": "4a217e68",
   "metadata": {},
   "source": [
    "## Tehtävä 2: Heuristinen päätöksenteko"
   ]
  },
  {
   "cell_type": "markdown",
   "id": "0511f878",
   "metadata": {},
   "source": [
    "### Oppimistavoitteet"
   ]
  },
  {
   "cell_type": "markdown",
   "id": "5ebbe69e",
   "metadata": {},
   "source": [
    "Tässä tehtävässä tutustutaan heuristiikkaan ja sen käyttöön päätöksiä tehdessä. Näin tehtäessä opitaan myös esittämään asiat selkeästi sekä dokumentoimaan ja selittämään Excelillä tehtyjä laskentapohjia."
   ]
  },
  {
   "cell_type": "markdown",
   "id": "04e6430c",
   "metadata": {},
   "source": [
    "Lisää tiedostoon ohjeet selityksineen peruskäyttäjälle ja kehittäjälle näiden käytöstä. "
   ]
  },
  {
   "cell_type": "markdown",
   "id": "e92bbda2",
   "metadata": {},
   "source": [
    "### Lähtötiedot"
   ]
  },
  {
   "cell_type": "markdown",
   "id": "e8318916",
   "metadata": {},
   "source": [
    "<table>\n",
    "\n",
    "<tr>\n",
    "<th></th>\n",
    "<th>Keskusvarasto</th>\n",
    "<th colspan=\"5\">Kysyntä</th>\n",
    "\n",
    "<th>Yhteensä</th>\n",
    "</tr>\n",
    "\n",
    "<tr>\n",
    "<td></td>\n",
    "<td></td>\n",
    "<td>27 000</td>\n",
    "<td>43 000</td>\n",
    "<td>38 000</td>\n",
    "<td>72 000</td>\n",
    "<td>51 000</td>\n",
    "<td>231 000</td>\n",
    "</tr>\n",
    "\n",
    "<tr>\n",
    "<th>Tehdas</th>\n",
    "<td><strong>Tarjonta</strong></td>\n",
    "<td>A</td>\n",
    "<td>B</td>\n",
    "<td>C</td>\n",
    "<td>D</td>\n",
    "<td>E</td>\n",
    "<td></td>\n",
    "</tr>\n",
    "\n",
    "<tr>\n",
    "    <td>1</td>\n",
    "    <td>32 000</td>\n",
    "    <td>56</td>\n",
    "    <td>47</td>\n",
    "    <td>58</td>\n",
    "    <td>50</td>\n",
    "    <td>49</td>\n",
    "    <td></td>\n",
    "</tr>\n",
    "\n",
    "<tr>\n",
    "    <td>2</td>\n",
    "    <td>86 000</td>\n",
    "    <td>49</td>\n",
    "    <td>61</td>\n",
    "    <td>55</td>\n",
    "    <td>46</td>\n",
    "    <td>50</td>\n",
    "    <td></td>\n",
    "</tr>\n",
    "\n",
    "<tr>\n",
    "    <td>3</td>\n",
    "    <td>75 000</td>\n",
    "    <td>48</td>\n",
    "    <td>59</td>\n",
    "    <td>44</td>\n",
    "    <td>51</td>\n",
    "    <td>62</td>\n",
    "    <td></td>\n",
    "</tr>\n",
    "\n",
    "<tr>\n",
    "    <td>4</td>\n",
    "    <td>100 000</td>\n",
    "    <td>58</td>\n",
    "    <td>57</td>\n",
    "    <td>52</td>\n",
    "    <td>59</td>\n",
    "    <td>56</td>\n",
    "    <td></td>\n",
    "</tr>    \n",
    "\n",
    "<tr>\n",
    "    <td>5</td>\n",
    "    <td>80 000</td>\n",
    "    <td>60</td>\n",
    "    <td>62</td>\n",
    "    <td>54</td>\n",
    "    <td>53</td>\n",
    "    <td>64</td>\n",
    "    <td></td>\n",
    "</tr> \n",
    "\n",
    "<tr>\n",
    "    <td>6</td>\n",
    "    <td>62 000</td>\n",
    "    <td>49</td>\n",
    "    <td>50</td>\n",
    "    <td>60</td>\n",
    "    <td>63</td>\n",
    "    <td>66</td>\n",
    "    <td></td>\n",
    "</tr> \n",
    "    \n",
    "<tr>\n",
    "    <td><em>Yhteensä</em></td>\n",
    "    <td colspan=\"7\">435 000</td>\n",
    "   \n",
    "</tr> \n",
    "    \n",
    "</table>"
   ]
  },
  {
   "cell_type": "markdown",
   "id": "5c2385d8",
   "metadata": {},
   "source": [
    "Tukkuliike tilaa tavaraa eri tehtailta. Tavarat toimitetaan tukkuliikkeen keskusvarastoille A–E. Kullakin keskusvarastolla on tietty tarve tuotteille (kysyntä). Vastaavasti kukin tehdas pystyy toimittamaan vain tietyn määrän tuotteita (tarjonta). Keskusvarastot ja tehtaat sijaitsevat maantieteellisesti eri paikoissa ja kuljetuskustannukset ovat suoraan verrannollisia etäisyyteen. Taulukkoon on laskettu kuljetuskustannukset (senttiä/kpl) kuljetettaessa mistä tahansa tehtaasta minne tahansa keskusliikkeeseen. "
   ]
  },
  {
   "cell_type": "markdown",
   "id": "5d4aba9d",
   "metadata": {},
   "source": [
    "Tavaran hinta neuvotellaan keskitetysti ostajan ja myyjän kesken. "
   ]
  },
  {
   "cell_type": "markdown",
   "id": "e9e57c9b",
   "metadata": {},
   "source": [
    "### Selvitettävät asiat"
   ]
  },
  {
   "cell_type": "markdown",
   "id": "fcea7f63",
   "metadata": {},
   "source": [
    "Selvitä kuljetusratkaisuista *optimein*. "
   ]
  },
  {
   "cell_type": "markdown",
   "id": "133e79fe",
   "metadata": {},
   "source": [
    "<u>Arviointiohje</u>: Laskentaosiosta saa täydet pisteet, kun kokonaiskustannukset ovat korkeintaan 11 000 000 euroa. Jokainen tämän yli menevä 10 000 euroa vähentää neljäsosa numeroa. "
   ]
  },
  {
   "cell_type": "code",
   "execution_count": 1,
   "id": "1daa57ae",
   "metadata": {},
   "outputs": [
    {
     "name": "stdout",
     "output_type": "stream",
     "text": [
      "Last modified 2024-08-28 19:52 by Juha Nurmonen\n"
     ]
    }
   ],
   "source": [
    "import datetime\n",
    "print(f'Last modified {datetime.datetime.now():%Y-%m-%d %H:%M} by Juha Nurmonen')"
   ]
  }
 ],
 "metadata": {
  "kernelspec": {
   "display_name": "Python 3 (ipykernel)",
   "language": "python",
   "name": "python3"
  },
  "language_info": {
   "codemirror_mode": {
    "name": "ipython",
    "version": 3
   },
   "file_extension": ".py",
   "mimetype": "text/x-python",
   "name": "python",
   "nbconvert_exporter": "python",
   "pygments_lexer": "ipython3",
   "version": "3.11.7"
  }
 },
 "nbformat": 4,
 "nbformat_minor": 5
}
