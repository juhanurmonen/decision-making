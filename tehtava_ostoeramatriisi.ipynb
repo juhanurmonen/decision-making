{
 "cells": [
  {
   "cell_type": "markdown",
   "id": "0de111d5",
   "metadata": {},
   "source": [
    "# Strategiset päätöksentekomallit"
   ]
  },
  {
   "cell_type": "markdown",
   "id": "4a217e68",
   "metadata": {},
   "source": [
    "## Tehtävä 7: Optimaalinen ostoerä &ndash; ostoerämatriisi"
   ]
  },
  {
   "cell_type": "markdown",
   "id": "0511f878",
   "metadata": {},
   "source": [
    "### Oppimistavoitteet"
   ]
  },
  {
   "cell_type": "markdown",
   "id": "5ebbe69e",
   "metadata": {},
   "source": [
    "Tässä tehtävässä tutustutaan varastoteoriaan ja sen käyttöön päätöksiä tehtäessä. Näin tehtäessä opitaan myös esittämään asiat selkeästi sekä dokumentoimaan ja selittämään Excelillä tehtyjä laskentapohjia."
   ]
  },
  {
   "cell_type": "markdown",
   "id": "04e6430c",
   "metadata": {},
   "source": [
    "Lisää tiedostoon perustelut selityksineen, jotta voit lukea ne tapaamisessanne talousjohtajan kanssa, joka selvityksen on sinulta tilannut."
   ]
  },
  {
   "cell_type": "markdown",
   "id": "e92bbda2",
   "metadata": {},
   "source": [
    "### Lähtötiedot"
   ]
  },
  {
   "cell_type": "markdown",
   "id": "e8318916",
   "metadata": {},
   "source": [
    "Kauppias myy Huawein puhelimia. Ostohinta tuotteelle on 800 euroa ja myyntihinta 1 500 euroa. Kauppias tilaa tuotteita varastoon aina maanantaiaamuksi, jolloin toimitus tapahtuu viikonlopun aikana."
   ]
  },
  {
   "cell_type": "markdown",
   "id": "5d4aba9d",
   "metadata": {},
   "source": [
    "Aikaisempina viikkoina kysyntä on noudattanut seuraavaa jakaumaa."
   ]
  },
  {
   "cell_type": "markdown",
   "id": "672ebcb4",
   "metadata": {},
   "source": [
    "<table>\n",
    "<tr>\n",
    "<td><strong>Kysyntä</strong></td>\n",
    "<td>0</td>\n",
    "<td>1</td>\n",
    "<td>2</td>\n",
    "<td>3</td>\n",
    "<td>4</td>\n",
    "<td>5</td>\n",
    "<td>6</td>\n",
    "<td>7</td>\n",
    "<td>8</td>\n",
    "<td>9</td>\n",
    "<td>10</td>\n",
    "<td>11</td>\n",
    "<td>12</td>\n",
    "<td>13</td>\n",
    "<td>14</td>\n",
    "<td>15</td>\n",
    "<td>16</td>\n",
    "<td>17</td>\n",
    "<td>18</td>\n",
    "<td>19</td>\n",
    "<td>20</td>\n",
    "<td>21</td>\n",
    "<td>22</td>\n",
    "<td>23</td>\n",
    "<td>24</td>\n",
    "<td>25</td>\n",
    "<td>26</td>\n",
    "<td>27</td>\n",
    "<td>28</td>\n",
    "<td>29</td>\n",
    "<td>30</td>\n",
    "<td>31</td>\n",
    "<td>32</td>\n",
    "</tr>\n",
    "    \n",
    "<tr>\n",
    "<td><strong>Frekvenssi</strong></td>\n",
    "<td>1</td>\n",
    "<td>3</td>\n",
    "<td>4</td>\n",
    "<td>3</td>\n",
    "<td>6</td>\n",
    "<td>8</td>\n",
    "<td>9</td>\n",
    "<td>12</td>\n",
    "<td>16</td>\n",
    "<td>14</td>\n",
    "<td>15</td>\n",
    "<td>18</td>\n",
    "<td>20</td>\n",
    "<td>22</td>\n",
    "<td>21</td>\n",
    "<td>25</td>\n",
    "<td>28</td>\n",
    "<td>19</td>\n",
    "<td>23</td>\n",
    "<td>27</td>\n",
    "<td>29</td>\n",
    "<td>26</td>\n",
    "<td>24</td>\n",
    "<td>19</td>\n",
    "<td>20</td>\n",
    "<td>18</td>\n",
    "<td>15</td>\n",
    "<td>14</td>\n",
    "<td>11</td>\n",
    "<td>8</td>\n",
    "<td>4</td>  \n",
    "<td>0</td>\n",
    "<td>1</td>\n",
    "</tr>\n",
    "\n",
    "</table>"
   ]
  },
  {
   "cell_type": "markdown",
   "id": "e9e57c9b",
   "metadata": {},
   "source": [
    "### Selvitettävä asia"
   ]
  },
  {
   "cell_type": "markdown",
   "id": "fcea7f63",
   "metadata": {},
   "source": [
    "Kuinka suuren pitäisi alkuvaraston olla, kun jokainen myymätön tuote aiheuttaa katteen menetystä (nk. puutekustannus) 700 euroa ja jokainen varastossa oleva ylimääräinen tuote aiheuttaa 200 euroa varastointi- ja pääomakustannuksia? "
   ]
  },
  {
   "cell_type": "code",
   "execution_count": 12,
   "id": "1daa57ae",
   "metadata": {},
   "outputs": [
    {
     "name": "stdout",
     "output_type": "stream",
     "text": [
      "Last modified 2025-01-16 02:07 by Juha Nurmonen\n"
     ]
    }
   ],
   "source": [
    "import datetime\n",
    "import pytz\n",
    "\n",
    "tz = pytz.timezone('Europe/Helsinki')\n",
    "print(f'Last modified {tz.localize(datetime.datetime.now()):%Y-%m-%d %H:%M} by Juha Nurmonen')"
   ]
  }
 ],
 "metadata": {
  "kernelspec": {
   "display_name": "Python 3 (ipykernel)",
   "language": "python",
   "name": "python3"
  },
  "language_info": {
   "codemirror_mode": {
    "name": "ipython",
    "version": 3
   },
   "file_extension": ".py",
   "mimetype": "text/x-python",
   "name": "python",
   "nbconvert_exporter": "python",
   "pygments_lexer": "ipython3",
   "version": "3.11.9"
  }
 },
 "nbformat": 4,
 "nbformat_minor": 5
}
