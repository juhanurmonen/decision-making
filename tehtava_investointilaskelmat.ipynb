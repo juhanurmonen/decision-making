{
 "cells": [
  {
   "cell_type": "markdown",
   "id": "44362672",
   "metadata": {},
   "source": [
    "# Strategiset päätöksentekomallit"
   ]
  },
  {
   "cell_type": "markdown",
   "id": "9edecc1f",
   "metadata": {},
   "source": [
    "## Tehtävä 1: Investointilaskelmat"
   ]
  },
  {
   "cell_type": "markdown",
   "id": "b7ac1bee",
   "metadata": {},
   "source": [
    "### Oppimistavoitteet"
   ]
  },
  {
   "cell_type": "markdown",
   "id": "63168ac0",
   "metadata": {},
   "source": [
    "Tässä tehtävässä tutustutaan investointilaskelmiin ja samalla Excelin perusrahoitusfunktioihin ja niiden käyttöön investointipäätöksiä tehdessä. Näin tehtäessä opitaan myös esittämään asiat selkeästi sekä dokumentoimaan ja selittämään Excelillä tehtyjä laskentapohjia."
   ]
  },
  {
   "cell_type": "markdown",
   "id": "ec637162",
   "metadata": {},
   "source": [
    "Lisää tiedostoon ohjeet selityksineen peruskäyttäjälle ja kehittäjälle näiden käytöstä. "
   ]
  },
  {
   "cell_type": "markdown",
   "id": "fdb7e10e",
   "metadata": {},
   "source": [
    "### Lähtötiedot"
   ]
  },
  {
   "cell_type": "markdown",
   "id": "84632bc3",
   "metadata": {},
   "source": [
    "Yrityksellä on kaksi vaihtoehtoista investointia A ja B, joista tiedetään seuraavaa: "
   ]
  },
  {
   "cell_type": "markdown",
   "id": "a2a30c6e",
   "metadata": {},
   "source": [
    "**Investointi A**\n",
    "\n",
    "Hankintahinta 1 000 000 euroa\n",
    "\n",
    "Vuotuiset nettotuotot:\n",
    "\n",
    "\n",
    "1. vuosi 400 000 euroa\n",
    "2. vuosi 400 000 euroa\n",
    "3. vuosi 400 000 euroa\n"
   ]
  },
  {
   "cell_type": "markdown",
   "id": "ebfc8383",
   "metadata": {},
   "source": [
    "**Investointi B**\n",
    "\n",
    "Hankintahinta 600 000 euroa\n",
    "\n",
    "Vuotuiset nettotuotot:\n",
    "\n",
    "\n",
    "1. vuosi 140 000 euroa\n",
    "2. vuosi 140 000 euroa\n",
    "3. vuosi 140 000 euroa\n",
    "4. vuosi 140 000 euroa\n",
    "5. vuosi 140 000 euroa\n",
    "6. vuosi 140 000 euroa"
   ]
  },
  {
   "cell_type": "markdown",
   "id": "890df195",
   "metadata": {},
   "source": [
    "### Selvitettävät asiat"
   ]
  },
  {
   "cell_type": "markdown",
   "id": "25360816",
   "metadata": {},
   "source": [
    "Selvitä näistä investoinneista:\n",
    "- Kummankin investoinnin nykyarvot korkokannalla 10 %.\n",
    "- Kuinka investoinnit käyttäytyvät korkokannoilla 0—20 %. Anna vastaus numeerisessa ja graafisessa muodossa.\n",
    "- Millä korkokannalla kummankin investoinnin nykyarvo on sama.\n",
    "- Kumman investoinnin valitset? Perustele vastauksesi monipuolisesti."
   ]
  },
  {
   "cell_type": "code",
   "execution_count": 1,
   "id": "b390fe03",
   "metadata": {},
   "outputs": [
    {
     "name": "stdout",
     "output_type": "stream",
     "text": [
      "Last modified 2024-08-06 17:28 by Juha Nurmonen\n"
     ]
    }
   ],
   "source": [
    "import datetime\n",
    "print(f'Last modified {datetime.datetime.now():%Y-%m-%d %H:%M} by Juha Nurmonen')"
   ]
  }
 ],
 "metadata": {
  "kernelspec": {
   "display_name": "Python 3 (ipykernel)",
   "language": "python",
   "name": "python3"
  },
  "language_info": {
   "codemirror_mode": {
    "name": "ipython",
    "version": 3
   },
   "file_extension": ".py",
   "mimetype": "text/x-python",
   "name": "python",
   "nbconvert_exporter": "python",
   "pygments_lexer": "ipython3",
   "version": "3.11.7"
  }
 },
 "nbformat": 4,
 "nbformat_minor": 5
}
