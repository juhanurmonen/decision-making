{
 "cells": [
  {
   "cell_type": "markdown",
   "id": "0de111d5",
   "metadata": {},
   "source": [
    "# Strategiset päätöksentekomallit"
   ]
  },
  {
   "cell_type": "markdown",
   "id": "4a217e68",
   "metadata": {},
   "source": [
    "## Tehtävä 10: Peliteoria"
   ]
  },
  {
   "cell_type": "markdown",
   "id": "0511f878",
   "metadata": {},
   "source": [
    "### Oppimistavoitteet"
   ]
  },
  {
   "cell_type": "markdown",
   "id": "5ebbe69e",
   "metadata": {},
   "source": [
    "Tässä tehtävässä tutustutaan peliteoriaan ja sen käyttöön päätöksiä tehtäessä. Näin tehtäessä opitaan myös esittämään asiat selkeästi sekä dokumentoimaan ja selittämään Excelillä tehtyjä laskentapohjia."
   ]
  },
  {
   "cell_type": "markdown",
   "id": "04e6430c",
   "metadata": {},
   "source": [
    "Lisää tiedostoon ohjeet selityksineen peruskäyttäjälle. "
   ]
  },
  {
   "cell_type": "markdown",
   "id": "e92bbda2",
   "metadata": {},
   "source": [
    "### Lähtötiedot"
   ]
  },
  {
   "cell_type": "markdown",
   "id": "e8318916",
   "metadata": {},
   "source": [
    "Olet uuden tuttavasi kanssa päättänyt harrastaa totoa. Olet saanut luotettavalta taholta vastuttamattoman vihjeen erään hevosen puolesta. Päätät lyödä vetoa hevosen puolesta. Panoksesi on kahden kerrannainen ja päätösmatriisi on seuraava:"
   ]
  },
  {
   "cell_type": "markdown",
   "id": "5d4aba9d",
   "metadata": {},
   "source": [
    "<table style=\"width:100%\">\n",
    "<tr>\n",
    "<th colspan=\"6\">Hevonen</th>\n",
    " \n",
    "</tr>\n",
    "  \n",
    "<tr>\n",
    "<td></td>\n",
    "<td></td>\n",
    "<td>C1</td>\n",
    "<td>C2</td>\n",
    "<td>C3</td>\n",
    "<td>C4</td>\n",
    "</tr>\n",
    "   \n",
    "<tr>\n",
    "<td></td>\n",
    "<td></td>\n",
    "<td>voittaa</td>\n",
    "<td>tulee toiseksi</td>\n",
    "<td>tulee kolmanneksi</td>\n",
    "<td>ei sijoitu</td>\n",
    "</tr>\n",
    "   \n",
    "<tr>\n",
    "<td>S1</td> \n",
    "<td>Lyöt vetoa, että hevonen voittaa</td>\n",
    "<td>7</td>\n",
    "<td>-2</td>\n",
    "<td>-2</td>\n",
    "<td>-2</td>\n",
    "</tr>\n",
    "    \n",
    "<tr>\n",
    "<td>S2</td> \n",
    "<td>Lyöt vetoa, että hevonen sijoittuu toiseksi</td>\n",
    "<td>3</td>\n",
    "<td>3</td>\n",
    "<td>-2</td>\n",
    "<td>-2</td>\n",
    "</tr>\n",
    "   \n",
    "<tr>\n",
    "<td>S3</td> \n",
    "<td>Lyöt vetoa, että hevonen sijoittuu kolmanneksi</td>\n",
    "<td>2</td>\n",
    "<td>2</td>\n",
    "<td>2</td>\n",
    "<td>-2</td>\n",
    "</tr>\n",
    "   \n",
    "<tr>\n",
    "<td>S4</td> \n",
    "<td>Et lyö vetoa</td>\n",
    "<td>0</td>\n",
    "<td>0</td>\n",
    "<td>0</td>\n",
    "<td>0</td>\n",
    "</tr>\n",
    "   \n",
    "</table>\n"
   ]
  },
  {
   "cell_type": "markdown",
   "id": "e9e57c9b",
   "metadata": {},
   "source": [
    "### Selvitettävät asiat"
   ]
  },
  {
   "cell_type": "markdown",
   "id": "fcea7f63",
   "metadata": {},
   "source": [
    "Anna seuraaviin kysymyksiin perusteltu vastaus."
   ]
  },
  {
   "cell_type": "markdown",
   "id": "7f438640",
   "metadata": {},
   "source": [
    "1. Miten toimit? (50 %)\n",
    "2. Aikaisempi tilasto hevosen menestymisestä kilpailuissa on seuraava.\n",
    "   - voittanut seitsemän kertaa\n",
    "   - tullut toiseksi 12 kertaa\n",
    "   - tullut kolmanneksi 21 kertaa\n",
    "   - ei ole sijoittunut 50 kertaa\n",
    "    \n",
    "    Mitä päätät tällä kertaa? (50 %)"
   ]
  },
  {
   "cell_type": "code",
   "execution_count": 1,
   "id": "1daa57ae",
   "metadata": {},
   "outputs": [
    {
     "name": "stdout",
     "output_type": "stream",
     "text": [
      "Last modified 2024-08-09 17:28 by Juha Nurmonen\n"
     ]
    }
   ],
   "source": [
    "import datetime\n",
    "print(f'Last modified {datetime.datetime.now():%Y-%m-%d %H:%M} by Juha Nurmonen')"
   ]
  }
 ],
 "metadata": {
  "kernelspec": {
   "display_name": "Python 3 (ipykernel)",
   "language": "python",
   "name": "python3"
  },
  "language_info": {
   "codemirror_mode": {
    "name": "ipython",
    "version": 3
   },
   "file_extension": ".py",
   "mimetype": "text/x-python",
   "name": "python",
   "nbconvert_exporter": "python",
   "pygments_lexer": "ipython3",
   "version": "3.11.7"
  }
 },
 "nbformat": 4,
 "nbformat_minor": 5
}
