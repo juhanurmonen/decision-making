{
  "nbformat": 4,
  "nbformat_minor": 0,
  "metadata": {
    "colab": {
      "provenance": []
    },
    "kernelspec": {
      "name": "python3",
      "display_name": "Python 3"
    },
    "language_info": {
      "name": "python"
    }
  },
  "cells": [
    {
      "cell_type": "markdown",
      "source": [
        "# Lineaarinen optimointi Pythonia hyödyntäen"
      ],
      "metadata": {
        "id": "poiLmYOLVshV"
      }
    },
    {
      "cell_type": "markdown",
      "source": [
        "__Matemaattista optimointia__ on sovelletaan usealla eri alalla. Perusidea on _maksimoida_ tai _minimoida_ jonkin yhtälön arvo. Tällaisessa tilanteessa läsnä on yleensä joitain _rajoitteita_, joiden puitteissa arvoja tarkastellaan. __Lineaarisessa optimoinnissa__ kaikki yllä mainitut, maksimoitava tai minimoitava funktio sekä rajoitefunktiot ovat lineaarisia. Optimoitavasta funktiosta usein käytettyjä sovelluksia ovat mm. kustannus- ja kysyntäfuntiot.\n",
        "\n",
        "Lisätietoa perusasioista löytyy mm.Wikipediasta:\n",
        "*  [Linear function](https://en.wikipedia.org/wiki/Linear_function)\n",
        "* [System of linear equations](https://en.wikipedia.org/wiki/System_of_linear_equations)"
      ],
      "metadata": {
        "id": "l1fFh2nfXqu1"
      }
    },
    {
      "cell_type": "markdown",
      "source": [
        "Katsotaan seuraavaksi esimerkkiä lineaarisesta optimoinnista."
      ],
      "metadata": {
        "id": "AHmn0lV0aU57"
      }
    },
    {
      "cell_type": "markdown",
      "source": [
        "Tehtävänä on __maksimoida__ funktion $$z=x+2y$$ arvo. Rajoitteina tässä tilanteessa toimivat funktiot\n",
        "$$2x+y\\leq 20$$\n",
        "$$-4x+5y\\leq 10$$\n",
        "$$-x + 2y\\geq -2$$\n",
        "$$x\\geq 0$$\n",
        "$$y \\geq 0$$"
      ],
      "metadata": {
        "id": "R4anqW2qcckW"
      }
    },
    {
      "cell_type": "markdown",
      "source": [
        "Tavoitteena on löytää sellaiset muuttujien $x$ ja $y$ arvot, että kaikki rajoitefunktioden epäyhtälöt toteutuvat ja samalla muuttujan $z$ arvo on suurin mahdollinen."
      ],
      "metadata": {
        "id": "11XAzGexdNAs"
      }
    },
    {
      "cell_type": "markdown",
      "source": [
        "Riippumattomia muuttujia, edellä $x$ ja $y$, kutsutaan __päätösmuuttujiksi__ ja maksimoitavaa tai minimoitava muuttujaa, edellä $z$, __kohdefunktioksi__, __kustannusfunktioksi__ tai yksinkertaisesti __tavoitteeksi__."
      ],
      "metadata": {
        "id": "142lsCB0dgh1"
      }
    },
    {
      "cell_type": "markdown",
      "source": [
        "Graafisesti rajoitteiden rajaama tilanne näyttää seuraavalta."
      ],
      "metadata": {
        "id": "JdOEPSLifaJG"
      }
    },
    {
      "cell_type": "markdown",
      "source": [
        "![Optimointiongelma graafisesti](https://realpython.com/cdn-cgi/image/width=828,format=auto/https://files.realpython.com/media/lp-py-fig-1.00f609c97aec.png \"Optimointiongelma\")"
      ],
      "metadata": {
        "id": "q8EZFRLhbswT"
      }
    },
    {
      "cell_type": "markdown",
      "source": [
        "Punainen viiva kuvaa funktiota $2x+y=20$ ja punainen alue sen yläpuolella aluetta, jossa epäyhtälö ei ole tosi. Vastaavasti sininen viiva kuvaa suoraa $-4x+5y=10$ ja yllä esitetty epäyhtälö ei voimassa sinisellä alueella. Samoin keltainen suora on $-x+2y=-2$ ja yllä kuvattu epäyhtälö ei ole tosi keltaisella alueella."
      ],
      "metadata": {
        "id": "tQybYU51fh_d"
      }
    },
    {
      "cell_type": "markdown",
      "source": [
        "Kun jätetään laskuista alueet, joissa ainakin yksi epäyhtälöistä ei ole tosi, jäljelle jää harmaa alue. Jokainen harmaan alueen piste toteuttaa jokaisen rajoitefunktion ehdon (epäyhtälön) ja jokainen piste on siis mahdollinen ratkaisu optimointiongelmaan. Tällaista aluetta kutsutaan __mahdolliseksi__ (__feasible region__) ja sen pisteet ovat __mahdollisia ratkaisuja__ (__feasible solutions__). Yllä olevassa esimerkissä mahdollisia ratkaisuja on rajoittamaton määrä."
      ],
      "metadata": {
        "id": "gCk2XgAvgpag"
      }
    },
    {
      "cell_type": "markdown",
      "source": [
        "Seuraavaksi tullaan muuttujan $z$ arvon maksimointiin. Se mahdollisista ratkaisuista, jolla muuttujan $z$ arvo  on maksimaalinen, on __optimaalinen ratkaisu__ (__optimal solution__). Samoin tietysti, jos tarkoitus olisi minimoida tavoitefunktion arvo, optimaalisin ratkaisu olisi mahdollisista ratkaisuista pienin."
      ],
      "metadata": {
        "id": "zQRhxnJ_gppX"
      }
    },
    {
      "cell_type": "markdown",
      "source": [
        "Nyt on hyvä kiinnittää huomiota siihen, että $z$ on lineaarinen. Sen voi ajatella olevan taso kolmiulotteisessa avaruudessa. Tästä syystä optimaalisen ratkaisun on oltava mahdollisten ratkaisujen __kärkipiste__ tai __kulmapiste__. Osaatko jo tässä vaiheessa sanoa, kumpi esimerkin kahdesta kärkipisteestä on optimiratkaisu?"
      ],
      "metadata": {
        "id": "3V7bqz4wgp0f"
      }
    },
    {
      "cell_type": "markdown",
      "source": [
        "Voi olla myös niin, että mahdollisen alueen jonkun reunan kaikki pisteet tai jopa kaikki mahdollisen alueen pisteet ovat antavat tavoitefunktiolle saman arvon. Silloin optimiratkaisuja on siis  useita."
      ],
      "metadata": {
        "id": "OKlWljNEk5Iz"
      }
    },
    {
      "cell_type": "markdown",
      "source": [
        "Tutustuaksemme aiheeseen tarkemmin, lisätään edellisten lisäksi vielä yksi rajoite, yhtälö\n",
        "$$-x+5y=15$$"
      ],
      "metadata": {
        "id": "W9YNBIZ9k5NC"
      }
    },
    {
      "cell_type": "markdown",
      "source": [
        "Tämä rajoite näkyy kuvassa vihreänä suorana.\n",
        "\n",
        "![Optimaalinen ratkaisu, osa 2](https://realpython.com/cdn-cgi/image/width=828,format=auto/https://files.realpython.com/media/lp-py-fig-2.3d21c2b24205.png)"
      ],
      "metadata": {
        "id": "J7FnJKE3npc8"
      }
    },
    {
      "cell_type": "markdown",
      "source": [
        "Ratkaisun pitää nyt toteuttaa myös yo. yhtälö, joten mahdolliset ratkaisut eivät löydykään enää koko harmaalta alueelta. Se löytyy harmaan alueen vihreän suoran osasta, joka leikkaa sinisen suoran ja punaisen suoran. Optimiratkaisu on itse asiassa jälkimmäinen."
      ],
      "metadata": {
        "id": "PO4YXLiLnpfr"
      }
    },
    {
      "cell_type": "markdown",
      "source": [
        "Jos ongelmaan lisätään vielä rajoite, että kaikkien $x$-muuttujan arvojen tulee olla kokonaislukuja, ongelma muuttuu vielä lisää. Mahdollisten ratkaisujen joukko onkin kokoelma harmaalla alueella olevia pisteitä, joissa $x$ on kokonaisluku. Optimaalisin näistä on nyt se, joka on lähinnä punaista viivaa.\n",
        "\n",
        "![Optimaalinen kokonaislukuratkaisujen joukko](https://realpython.com/cdn-cgi/image/width=828,format=auto/https://files.realpython.com/media/lp-py-fig-3.c13d0660ce57.png)"
      ],
      "metadata": {
        "id": "EjX9u--fk5UC"
      }
    },
    {
      "cell_type": "markdown",
      "source": [
        "Edellä olevat kolme esimerkkiä kuvaavat __mahdollisia lineaarisia ratkaisuja__, koska mahdollisten ratkaisujen joukot ovat rajoitettuja ja ratkaisujen määrä on rajoitettu."
      ],
      "metadata": {
        "id": "tzOFBfHak5a1"
      }
    },
    {
      "cell_type": "markdown",
      "source": [
        "## Mahdoton lineaarinen optimointiongelma"
      ],
      "metadata": {
        "id": "Kw37d8OqrVVW"
      }
    },
    {
      "cell_type": "markdown",
      "source": [
        "Optimointiongelma on __mahdoton__, jos sillä ei ole ratkaisua. Tällaisessa tilanteessa yleensä yksikään ratkaisu ei voi toteuttaa kaikkia annettuja rajoitteita samaan aikaan."
      ],
      "metadata": {
        "id": "IYsUU_hNrVkN"
      }
    },
    {
      "cell_type": "markdown",
      "source": [
        "Mitä tapahtuisi, jos vaikkapa edellisessä esimerkissä lisättäisiin vielä rajoite $x+y\\leq -1$. Silloin ainakin toisen päätösmuuttujan ($x$ tai $y$) olisi oltava negatiivinen. Tämä puolestaan on ristiriidassa rajoitteiden $x\\geq 0$ ja$y\\geq 0$ kanssa. Sellaisella systeemillä ei ole mahdollista ratkaisua ja se on siis mahdoton."
      ],
      "metadata": {
        "id": "xYjVP5ctrVsV"
      }
    },
    {
      "cell_type": "markdown",
      "source": [
        "Toinen esimerkki mahdottomasta ratkaisusta (yhtälösysteemistä) olisi, jos edellä rajoitteisiin lisättäisiin vihreän suoran lisäksi toinen, sen kanssa rinnakkainen suora. Kahdella rinnakkaisella suoralla ei voi olla yhteistä pistettä, joten tällaisessa tapauksessa ei voida löytää ratkaisua, joka täyttäisi molemmat rajoitteet."
      ],
      "metadata": {
        "id": "yT3g5lOtgqAP"
      }
    },
    {
      "cell_type": "markdown",
      "source": [
        "## Rajoittamaton optimointiongelma"
      ],
      "metadata": {
        "id": "5jgzuvGAtDB5"
      }
    },
    {
      "cell_type": "markdown",
      "source": [
        "Optimointiongelma on __rajoittamaton__, jos sen mahdollinen ratkaisualue ei ole rajoitettu eikä ratkaisu näin ollen ole rajoitettu. Tällaöin ainakin yksi muuttuja ei ole rajoitettu ja se voi saada mielivaltaisen suuria positiivia tai mielivaltaisen pieniä negatiivisia arvoja. Tällöin tavoitteesta tulee myös rajoittamaton."
      ],
      "metadata": {
        "id": "vjIBIrPTtDEo"
      }
    },
    {
      "cell_type": "markdown",
      "source": [
        "Jos vaikka edellä olevassa esimerkissä jätettäisiinkin punaisen ja keltaisen suoran rajoitteet pois, muuttujien $x$ ja $y$ arvot olisivat rajoitettu alhaalta mutta eivät positiiviselta puolelta. Ne voisivat silloin saada vaikka kuinka suuria positiivisia arvoja ja samalla tavoitefunktion $z$ arvoksi tulisi mielivaltaisen suuria arvoja."
      ],
      "metadata": {
        "id": "7ar0TnqZtDHc"
      }
    },
    {
      "cell_type": "markdown",
      "source": [
        "## Resurssien kohdentamisen ongelma"
      ],
      "metadata": {
        "id": "M5iPNNHItDJ4"
      }
    },
    {
      "cell_type": "markdown",
      "source": [
        "Edellä tutustuttiin abstraktiin lineaariseen optimointiongelmaan, jota ei oltu suoranaisesti kytketty mihinkään käytännön ongelmaan. Seuraavaksi tutustutaan konkreettiseen ja käytännölliseen optimointiongelmaan, joka liittyy tuotannon resurssien kohdentamiseen."
      ],
      "metadata": {
        "id": "8IsIYNKox2Pq"
      }
    },
    {
      "cell_type": "markdown",
      "source": [
        "Oletetaan, että tehdas tuottaa neljää erilaista tuotetta, ensimmäistä tuotetta päivittäin $x_1$ kappaletta, toista $x_2$ kappaletta jne. Tavoitteena on määrittää maksimimäärät tuotteita päivittäin seuraavat rajoitteet huomioiden:\n",
        "\n",
        "1. Kate tuotteille on 20 €/kpl ensimmäiselle tuotteelle, 12 €/kpl toiselle tuotteelle, 40 €/kpl kolmannelle ja 25 €/kpl neljännelle tuotteelle.\n",
        "\n",
        "2. Työvoimaan liittyvän rajoitteen mukaan jokaisena päivänä pystytään tuottamaan korkeintaan 50 tuotetta yhteensä.\n",
        "\n",
        "3. Ensimmäisen tuotteen osalta kuluu kolme yksikköä raakamateriaalia A kappaleelta. Toisen tuotteen osalta kuluu kaksi yksikköä raakamateriaalia A ja yksi yksikkö raakamateriaalia B kappaleelta. Kolmannen tuotteen osalta kuluu yksi yksikkö raakamateriaalia A ja kaksi yksikköä raakamateriaalia B kappaleelta. Vastaavasti neljännen tuotteen osalta kuluu kolme yksikköä raakamateriaalia B kappaleelta.\n",
        "\n",
        "4. Kuljetus- ja varastointirajoitteen mukaan tehdas pystyy käyttämään korkeintaan sata yksikköä raakamateriaalia A ja 90 yksikköä raakamateriaalia B päivittäin.\n"
      ],
      "metadata": {
        "id": "9WlnMTH6tDMS"
      }
    },
    {
      "cell_type": "markdown",
      "source": [
        "Ehtoja vastaava matemaattinen malli on:\n",
        "\n",
        "$$\\textrm{max } 20 x_1 + 12 x_2 + 40 x_3 + 25 x_4 \\textrm{ (tuotto)}$$\n",
        "\n",
        "olettaen, että\n",
        "\n",
        "$$x_1 + x_2 + x_3 + x_4 \\leq 50 \\textrm{ (työvoima)}$$\n",
        "\n",
        "$$3 x_1 + 2 x_2 + x_3 \\leq 100 \\textrm{ (materiaali A)}$$\n",
        "\n",
        "$$x_2 + 2 x_3 + 3 x_4 \\leq 90 \\textrm{ (materiaali B)}$$\n",
        "\n",
        "$$x_1, x_2, x_3, x_4 \\geq 0$$\n"
      ],
      "metadata": {
        "id": "YztoNi_VtDOi"
      }
    },
    {
      "cell_type": "markdown",
      "source": [
        "Tavoitefunktio määritellään yllä ehdossa yksi. Tyävoimarajoite tulee ehdosta kaksi. Materiaalien A ja B rajoitteet tulevat ehdosta kolme. Tuotteiden lukumäärät eivät voi olla negatiivisia, mistä saadaan viimeinen rajoite."
      ],
      "metadata": {
        "id": "yl9RmOeJFfMh"
      }
    },
    {
      "cell_type": "markdown",
      "source": [
        "Tässä päätösmuuttujia onkin jo neljä eikä asian visualisointi enää käy yhtä näppärästi kuin edellä. Samat periaatteet pätevät kuitenkin vieläkin."
      ],
      "metadata": {
        "id": "WXSJJ_tEFfVq"
      }
    },
    {
      "cell_type": "markdown",
      "source": [
        "## Optimointiongelman Python-toteutus"
      ],
      "metadata": {
        "id": "dcQ6-I7bFfcr"
      }
    },
    {
      "cell_type": "markdown",
      "source": [
        "Tässä artikkelissa sovelletaan kahta lähestymistapaa Pythonin hyödyntämiseksi yllä olevassa lineaarisessa optimointiongelmassa.\n",
        "\n",
        "1. Käytetään Pythonin tieteellisen laskennan kirjastoa __scipy__.\n",
        "\n",
        "2. Käytetään Pythonin lineaarisen ohjelmoinnin rajapintaa __PuLP__ ongelman määrittämiseen ja ratkaisemiseen."
      ],
      "metadata": {
        "id": "mt2p1c0eFfia"
      }
    },
    {
      "cell_type": "markdown",
      "source": [
        "Scipy:n alikirjasto __scipy.optimize__ soveltuu sekä lineaariseen että epälineaariseen optimointiin. PuLP antaa mahdollisuuden valita ratkaisualgoritmin ja muotoilla ongelmat luonnollisella tavalla. PuLP:in oletusalgoritmi on [COIN-OR Branch and Cut Solver (CBC)](https://github.com/coin-or/Cbc)."
      ],
      "metadata": {
        "id": "bRw8Cd_0Ffn7"
      }
    },
    {
      "cell_type": "code",
      "execution_count": 2,
      "metadata": {
        "id": "fPU3t7v4VSuk"
      },
      "outputs": [],
      "source": [
        "# Asennetaan linprog\n",
        "\n",
        "from scipy.optimize import linprog"
      ]
    },
    {
      "cell_type": "markdown",
      "source": [
        "### Esimerkki 1"
      ],
      "metadata": {
        "id": "pt-lZPo3LQ76"
      }
    },
    {
      "cell_type": "markdown",
      "source": [
        "Ratkaistaan ensin alussa esitelty lineaarinen optimointiongelma:\n",
        "\n",
        "Maksimoidaan:\n",
        "$$z=x+2y$$\n",
        "\n",
        "Rajoitteina:\n",
        "\n",
        "$$2x+y\\leq 20$$\n",
        "$$-4x+5y\\leq 10$$\n",
        "$$-x + 2y\\geq -2$$\n",
        "$$-x + 5y = 15$$\n",
        "$$x\\geq 0$$\n",
        "$$y \\geq 0$$\n"
      ],
      "metadata": {
        "id": "D5S7AU6PLQ5Y"
      }
    },
    {
      "cell_type": "markdown",
      "source": [
        "_linprog()_ ratkaisee ainoastaa minimointiogelmia eikä se salli rajoitteita, joissa on suurempi tai yhtäsuuri kuin merkki $\\geq$. Tästä syystä yllä olevaa matemaattista mallia on muutettava seuraavasti:\n",
        "\n",
        "* Sen sijaan, että maksimoitaisiin yhtälön $z = x + 2 y$ arvo, tuleekin nyt minimoida sen negaatio $-z = -x -2 y$.\n",
        "\n",
        "* Jos rajoitteessa on ehtona suurempi tai yhtäsuuri $\\geq$, kerrotaan se luvulla $-1$ ja saadaan rajoitteelle käänteinen ehto, jossa tarkastellaan tapausta pienempi tai yhtäsuuri $\\leq$.  "
      ],
      "metadata": {
        "id": "5dCQO_h9LRDo"
      }
    },
    {
      "cell_type": "markdown",
      "source": [
        "Näiden muutosten jälkeen optimointiongelma onkin seuraava:\n",
        "\n",
        "Minimoidaan:\n",
        "$$-z = -x - 2y$$\n",
        "\n",
        "Rajoitteina:\n",
        "\n",
        "$$2x + y \\leq 20$$\n",
        "$$-4x + 5y \\leq 10$$\n",
        "$$x - 2y \\geq 2$$\n",
        "$$-x + 5y = 15$$\n",
        "$$x\\geq 0$$\n",
        "$$y \\geq 0$$"
      ],
      "metadata": {
        "id": "z_dazP9aLRAn"
      }
    },
    {
      "cell_type": "markdown",
      "source": [
        "Tämä yhtälösysteemi on alkuperäistä vastaava niillä on sama ratkaisu. Ainut syy näihin muutoksiin on SciPy:n rajoitukset ongelman muotoilussa."
      ],
      "metadata": {
        "id": "DygOPcWSRi9h"
      }
    },
    {
      "cell_type": "markdown",
      "source": [
        "Seuraavaksi määritellään syötteiden arvot."
      ],
      "metadata": {
        "id": "NaC0Wb09RjFB"
      }
    },
    {
      "cell_type": "code",
      "source": [
        "obj = [-1, -2]\n",
        "#      ─┬  ─┬\n",
        "#       │   └┤ y:n kerroin\n",
        "#       └────┤ x:n kerroin\n",
        "\n",
        "lhs_ineq = [[ 2,  1],  # Ensimmäisen rajoitteen vasen puoli\n",
        "            [-4,  5],  # Toisen rajoitteen vasen puoli\n",
        "            [ 1, -2]]  # Kolmannen rajoitteen vasen puoli\n",
        "\n",
        "rhs_ineq = [20,  # Ensimmäisen rajoitteen oikea puoli\n",
        "            10,  # Toisen rajoitteen oikea puoli\n",
        "             2]  # Kolmannen rajoitteen oikea puoli\n",
        "\n",
        "lhs_eq = [[-1, 5]]  # Neljännen rajoitteen vasen puoli\n",
        "rhs_eq = [15]       # Neljännen rajoitteen oikea puoli"
      ],
      "metadata": {
        "id": "nIxe3X3JzE-G"
      },
      "execution_count": 3,
      "outputs": []
    },
    {
      "cell_type": "markdown",
      "source": [
        "Yhtälösysteemin arvot sijoitetaan soveltuviin Pythonin listoihin, monikoihin ja Numpyn taulukoihin.\n",
        "\n",
        "* muuttujassa __obj__ ovat tavoitefunktiot kertoimet\n",
        "\n",
        "* muuttujassa __lhs_ineq__ ovat epäyhtälöissä olevien rajoitteiden vasempien puolien kertoimet\n",
        "\n",
        "* muuttujassa __rhs_ineq__ ovat epäyhtälöissä olevien rajoitteiden oikeiden puolien kertoimet\n",
        "\n",
        "* muuttujassa __lhs_eq__ ovat yhtälössä olevien rajoitteiden vasempien puolien kertoimet\n",
        "\n",
        "* muuttujassa __rhs_eq__ on yhtälössä olevan rajoitteen oikean puolen kerroin"
      ],
      "metadata": {
        "id": "-KsJhjAsRjJK"
      }
    },
    {
      "cell_type": "markdown",
      "source": [
        "__Huom__. On syytä olla tarkkana rivien ja sarakkeiden järjestyksien kanssa!\n",
        "\n",
        "Rajoitteiden vasemman ja oikean puolien järjestyksen on oltava samat. Kukin rivi edustaa aina yhtä rajoitetta.\n",
        "\n",
        "Tavoitefunktion kertoimien järjestyksen ja rajoitteiden vasempien puolien tulee vastata toisiaan. Kukin sarake edustaa yhtä päätösmuuttujaa."
      ],
      "metadata": {
        "id": "Bo132GLGRjNi"
      }
    },
    {
      "cell_type": "markdown",
      "source": [
        "Seuraavaksi määritellään muuttujien rajat samassa järjestyksessä kuin kertoimet. Tässä esimerkissä muuttujat voivat saada arvon nolla ja kaikki arvoja siitä ylöspäin."
      ],
      "metadata": {
        "id": "PgBWrtRwLQ-c"
      }
    },
    {
      "cell_type": "code",
      "source": [
        "bnd = [(0, float(\"inf\")), # Muuttujan x rajat\n",
        "       (0, float(\"inf\"))] # Muuttujan y rajat\n"
      ],
      "metadata": {
        "id": "K_irlOs6O0AV"
      },
      "execution_count": 5,
      "outputs": []
    },
    {
      "cell_type": "markdown",
      "source": [
        "Tämä määritelmä tosin on turha, sillä ne ovat funktion linprog() oletusarvot eli $[0,\\infty]$."
      ],
      "metadata": {
        "id": "nNTsiIcJYbJ-"
      }
    },
    {
      "cell_type": "markdown",
      "source": [
        "__Huom__. Edellä olevan <code>float(\"inf\")</code> sijasta voi käyttää myös <code>math.inf</code>, <code>numpy.inf</code> tai <code>scipy.inf</code>."
      ],
      "metadata": {
        "id": "HMKSWaaPYbyA"
      }
    },
    {
      "cell_type": "markdown",
      "source": [
        "Lopulta voidaan optimoida ja ratkaista käsillä oleva ongelma käyttäen funktiota _linprog()_."
      ],
      "metadata": {
        "id": "HhIuI6BdYb6P"
      }
    },
    {
      "cell_type": "code",
      "source": [
        "opt = linprog(c=obj, A_ub=lhs_ineq, b_ub=rhs_ineq,\n",
        "              A_eq=lhs_eq, b_eq=rhs_eq, bounds=bnd,\n",
        "              method=\"highs\")\n",
        "opt"
      ],
      "metadata": {
        "colab": {
          "base_uri": "https://localhost:8080/"
        },
        "id": "2UvIbp6VZntG",
        "outputId": "466c6740-8703-4c3c-fa8f-c7b3a29a0af3"
      },
      "execution_count": 9,
      "outputs": [
        {
          "output_type": "execute_result",
          "data": {
            "text/plain": [
              "        message: Optimization terminated successfully. (HiGHS Status 7: Optimal)\n",
              "        success: True\n",
              "         status: 0\n",
              "            fun: -16.818181818181817\n",
              "              x: [ 7.727e+00  4.545e+00]\n",
              "            nit: 0\n",
              "          lower:  residual: [ 7.727e+00  4.545e+00]\n",
              "                 marginals: [ 0.000e+00  0.000e+00]\n",
              "          upper:  residual: [       inf        inf]\n",
              "                 marginals: [ 0.000e+00  0.000e+00]\n",
              "          eqlin:  residual: [ 0.000e+00]\n",
              "                 marginals: [-2.727e-01]\n",
              "        ineqlin:  residual: [ 0.000e+00  1.818e+01  3.364e+00]\n",
              "                 marginals: [-6.364e-01 -0.000e+00 -0.000e+00]\n",
              " mip_node_count: 0\n",
              " mip_dual_bound: 0.0\n",
              "        mip_gap: 0.0"
            ]
          },
          "metadata": {},
          "execution_count": 9
        }
      ]
    },
    {
      "cell_type": "markdown",
      "source": [
        "Yllä koodisolussa c viittaa tavoitefunktion kertoimiin kun taas A_ub ja b_ub viittaavat epäyhtälörajoitteiden vasempiin ja oikeisiin puoliin. Vastaavasti A_eq ja b_eq viittaavat yhtälörajoitteisiin. Parametrilla bounds voi asettaa päätösmuuttujille ala- ja ylärajat."
      ],
      "metadata": {
        "id": "MIB_R3ZSZyHn"
      }
    },
    {
      "cell_type": "markdown",
      "source": [
        "linprog() palauttaa seuraavat attribuutit\n",
        "\n",
        "* __.message__ on ratkaisun löytymisen tilannetieto\n",
        "\n",
        "* __.success__ on Boolean-arvoinen muuttuja, joka kertoo, löytyikö optimiarvo\n",
        "\n",
        "* __.status__ on kokonaisluku välillä 0 ja 4 ja se kertoo ratkaisun löytymisen tilanteen; nolla tarkoittaa, että optimiratkaisu on löytynyt\n",
        "\n",
        "* __.fun__ on tavoitefunktion optimiarvo, jos sellainen löydetään\n",
        "\n",
        "* __.x__ on NumPy:n taulukko, jossa on päätösmuuttujien optimiarvot\n",
        "\n",
        "* __.nit__ laskennassa tarvittujen toistojen määrä\n",
        "\n",
        "Lisätietoja löytyy [SciPy:n dokumentaatiosta](https://docs.scipy.org/doc/scipy/reference/optimize.linprog-highs.html).\n",
        "\n"
      ],
      "metadata": {
        "id": "5hVE-SGXcYHw"
      }
    },
    {
      "cell_type": "markdown",
      "source": [
        "Näihin voi viitata myös yksitellen."
      ],
      "metadata": {
        "id": "_wj69zQicZF5"
      }
    },
    {
      "cell_type": "code",
      "source": [
        "opt.fun"
      ],
      "metadata": {
        "colab": {
          "base_uri": "https://localhost:8080/"
        },
        "id": "W3V4qh5goM4V",
        "outputId": "10ab925f-d4e2-473a-edd4-f7b90db38b50"
      },
      "execution_count": 16,
      "outputs": [
        {
          "output_type": "execute_result",
          "data": {
            "text/plain": [
              "-16.818181818181817"
            ]
          },
          "metadata": {},
          "execution_count": 16
        }
      ]
    },
    {
      "cell_type": "code",
      "source": [
        "opt.success"
      ],
      "metadata": {
        "colab": {
          "base_uri": "https://localhost:8080/"
        },
        "id": "HXpw--FioUv8",
        "outputId": "fb205f7b-d119-4881-ce1a-c87f5510b5c1"
      },
      "execution_count": 12,
      "outputs": [
        {
          "output_type": "execute_result",
          "data": {
            "text/plain": [
              "True"
            ]
          },
          "metadata": {},
          "execution_count": 12
        }
      ]
    },
    {
      "cell_type": "code",
      "source": [
        "opt.x"
      ],
      "metadata": {
        "colab": {
          "base_uri": "https://localhost:8080/"
        },
        "id": "2spyi-OFoVJd",
        "outputId": "07ca2849-76b6-4f31-d563-37187e8ee9e4"
      },
      "execution_count": 13,
      "outputs": [
        {
          "output_type": "execute_result",
          "data": {
            "text/plain": [
              "array([7.72727273, 4.54545455])"
            ]
          },
          "metadata": {},
          "execution_count": 13
        }
      ]
    },
    {
      "cell_type": "markdown",
      "source": [
        "Näin saatiin siis vastaukset optimointiongelmaan. Niitä voi tarkastella myös graafisesti.\n",
        "\n",
        "![Optimiratkaisu yhtäsuuruudella graafisesti](https://realpython.com/cdn-cgi/image/width=828,format=auto/https://files.realpython.com/media/lp-py-fig-5.11f20dcc5d6b.png)"
      ],
      "metadata": {
        "id": "DwIv2XhscZJ4"
      }
    },
    {
      "cell_type": "markdown",
      "source": [
        "Aiemmin jo totesimmekin, että optimiratkaisu löytyy mahdollisten ratkaisujen alueen pisteiden joukosta. Tässä tapauksessa mahdollisten ratkaisujen alue on vihreän viivan pisteet sinisen ja punaisen viivan välissä. Optimiratkaisu on kuvassa merkitty vihreällä neliöllä ja se on vihreän ja punaisen viivan leikkauspiste."
      ],
      "metadata": {
        "id": "olaPe4kGo-Yw"
      }
    },
    {
      "cell_type": "markdown",
      "source": [
        "Jos halutaan jättää huomiotta yhtäsuuruusrajoite (kuvassa vihreä), jätetään koodista pois parametrit A_eq ja b_eq."
      ],
      "metadata": {
        "id": "6OvZ-Ajzpwvx"
      }
    },
    {
      "cell_type": "code",
      "source": [
        "opt = linprog(c=obj, A_ub=lhs_ineq, b_ub=rhs_ineq, bounds=bnd,\n",
        "              method=\"highs\")\n",
        "\n",
        "opt"
      ],
      "metadata": {
        "colab": {
          "base_uri": "https://localhost:8080/"
        },
        "id": "56HauenqqGsv",
        "outputId": "48637b75-52db-4da3-f52b-df9a5ba31ac3"
      },
      "execution_count": 17,
      "outputs": [
        {
          "output_type": "execute_result",
          "data": {
            "text/plain": [
              "        message: Optimization terminated successfully. (HiGHS Status 7: Optimal)\n",
              "        success: True\n",
              "         status: 0\n",
              "            fun: -20.714285714285715\n",
              "              x: [ 6.429e+00  7.143e+00]\n",
              "            nit: 2\n",
              "          lower:  residual: [ 6.429e+00  7.143e+00]\n",
              "                 marginals: [ 0.000e+00  0.000e+00]\n",
              "          upper:  residual: [       inf        inf]\n",
              "                 marginals: [ 0.000e+00  0.000e+00]\n",
              "          eqlin:  residual: []\n",
              "                 marginals: []\n",
              "        ineqlin:  residual: [ 0.000e+00  0.000e+00  9.857e+00]\n",
              "                 marginals: [-9.286e-01 -2.143e-01 -0.000e+00]\n",
              " mip_node_count: 0\n",
              " mip_dual_bound: 0.0\n",
              "        mip_gap: 0.0"
            ]
          },
          "metadata": {},
          "execution_count": 17
        }
      ]
    },
    {
      "cell_type": "markdown",
      "source": [
        "Tämä ratkaisu eroaa edellisestä, ks. seuraava kuva.\n",
        "\n",
        "![Optimiratkaisu ilman yhtäsuuruutta graafisesti](https://realpython.com/cdn-cgi/image/width=828,format=auto/https://files.realpython.com/media/lp-py-fig-4.8a846634edca.png)"
      ],
      "metadata": {
        "id": "_QTNKc4-qdjY"
      }
    },
    {
      "cell_type": "markdown",
      "source": [
        "Tässä esimerkissä optimiratkaisu on mahdollisten arvojen alueella (kuvassa harmaa) merkitty violetti piste, jossa sininen ja punainen rajoite leikkaavat. Muissa pisteissä, kuten kuvan keltaisessa neliössä, tavoitefunktiolla on suurempia arvoja."
      ],
      "metadata": {
        "id": "vAYJibW3q7tR"
      }
    },
    {
      "cell_type": "markdown",
      "source": [
        "## Esimerkki 2"
      ],
      "metadata": {
        "id": "m0P-I6G_r5PI"
      }
    },
    {
      "cell_type": "markdown",
      "source": [
        "Sovelletaan SciPy-kirjastoa myös toiseen esimerkkiin, johon aiemmin tutustuttiin.\n",
        "\n",
        "$$\\textrm{max } 20 x_1 + 12 x_2 + 40 x_3 + 25 x_4 \\textrm{ (tuotto)}$$\n",
        "\n",
        "olettaen, että\n",
        "\n",
        "$$x_1 + x_2 + x_3 + x_4 \\leq 50 \\textrm{ (työvoima)}$$\n",
        "\n",
        "$$3 x_1 + 2 x_2 + x_3 \\leq 100 \\textrm{ (materiaali A)}$$\n",
        "\n",
        "$$x_2 + 2 x_3 + 3 x_4 \\leq 90 \\textrm{ (materiaali B)}$$\n",
        "\n",
        "$$x_1, x_2, x_3, x_4 \\geq 0$$"
      ],
      "metadata": {
        "id": "TigIUYMOr5ZI"
      }
    },
    {
      "cell_type": "markdown",
      "source": [
        "Edellistä esimerkkiä mukaillen, otetaan näistä ehdoista tarvittavat vektorit ja matriisit ja syötetään ne linprog():n argumenteiksi."
      ],
      "metadata": {
        "id": "PaLL4sBgskTB"
      }
    },
    {
      "cell_type": "code",
      "source": [
        "obj = [-20, -12, -40, -25]\n",
        "\n",
        "lhs_ineq = [[1, 1, 1, 1],  # Työvoima\n",
        "            [3, 2, 1, 0],  # Materiaali A\n",
        "            [0, 1, 2, 3]]  # Materiaali B\n",
        "\n",
        "rhs_ineq = [ 50,  # Työvoima\n",
        "             100,  # Materiaali A\n",
        "             90]  # Materiaali B\n",
        "\n",
        "opt = linprog(c=obj, A_ub=lhs_ineq, b_ub=rhs_ineq,\n",
        "              method=\"highs\")\n",
        "opt"
      ],
      "metadata": {
        "colab": {
          "base_uri": "https://localhost:8080/"
        },
        "id": "bXYoEPeos8uQ",
        "outputId": "97e6ee85-91be-4f22-f427-1f0f90032a46"
      },
      "execution_count": 18,
      "outputs": [
        {
          "output_type": "execute_result",
          "data": {
            "text/plain": [
              "        message: Optimization terminated successfully. (HiGHS Status 7: Optimal)\n",
              "        success: True\n",
              "         status: 0\n",
              "            fun: -1900.0\n",
              "              x: [ 5.000e+00  0.000e+00  4.500e+01  0.000e+00]\n",
              "            nit: 4\n",
              "          lower:  residual: [ 5.000e+00  0.000e+00  4.500e+01  0.000e+00]\n",
              "                 marginals: [ 0.000e+00  1.800e+01  0.000e+00  2.500e+01]\n",
              "          upper:  residual: [       inf        inf        inf        inf]\n",
              "                 marginals: [ 0.000e+00  0.000e+00  0.000e+00  0.000e+00]\n",
              "          eqlin:  residual: []\n",
              "                 marginals: []\n",
              "        ineqlin:  residual: [ 0.000e+00  4.000e+01  0.000e+00]\n",
              "                 marginals: [-2.000e+01 -0.000e+00 -1.000e+01]\n",
              " mip_node_count: 0\n",
              " mip_dual_bound: 0.0\n",
              "        mip_gap: 0.0"
            ]
          },
          "metadata": {},
          "execution_count": 18
        }
      ]
    },
    {
      "cell_type": "markdown",
      "source": [
        "Ratkaisun mukaan maksimituotto on 1900 ja se saavutetaan, kun $x_1=5$ ja $x_3=45$. Ei ole tuottoisaa valmistaa toista ja neljättä tuotetta annetuilla ehdoilla. Tästä voidaan tehdä seuraavia huomioita.\n",
        "\n",
        "1. Kolmas tuote tuo suurimman katteen tuotetta kohden, joten tehdas valmistaa sitä eniten.\n",
        "\n",
        "2. Ensimmäinen _ineqlin_ jäännösarvo on nolla, mikä tarkoittaa, että työvoima-rajoitteen (ensimmäinen rajoite) epäyhtälössä vasen ja oikea puoli ovat yhtä suuret. Tehdas siis tuottaa 50 yksikköä tuotteita päivittäin eli täyden kapasiteetin verran.\n",
        "\n",
        "3. Toinen _ineqlin_ jäännösarvo on 40, koska tehdas käyttää 60 yksikköä raakamateriaalia A (15 yksikköä ensimmäiseen ja 45 yksikköä kolmanteen tuotteeseen) mahdollisista sadasta yksiköstä.\n",
        "\n",
        "4. Kolmas _ineqlin_ jäännösarvo on nolla, mikä tarkoittaa, että tehdas käyttää kaikki käytettävissä olevat 90 yksikköä raakamateriaalia B. Tuo kaikki menee kolmanteen tuotteeseen. Tästä syystä tehdas ei pysty tuottamaan toista eikä neljättä tuotetta lainkaan eikä myöskään enempää kuin 45 yksikköä kolmatta tuotetta. Materiaalia B ei ole käytettävissä enempää."
      ],
      "metadata": {
        "id": "9yKIBIift27Z"
      }
    },
    {
      "cell_type": "markdown",
      "source": [
        "Koska opt.status on nolla ja opt.success on tosi, optimointiongelma ratkaistiin onnistuneesti ja optimiratkaisu löydettiin."
      ],
      "metadata": {
        "id": "nGwV9Sxqzlh0"
      }
    },
    {
      "cell_type": "markdown",
      "source": [
        "SciPy:n voimavarat lineaarisessa optimoinnissa ovat rajalliset ja se sovltuu siksi lähinnä pieniin ongelmiin. Isoihin, monimutkaisiin ongelmiin on syytä käyttää muita kirjastoja. Tähän on seuraavia syitä.\n",
        "\n",
        "* SciPy:n kautta ei voi hyödyntää ulkopuolisia ratkaisualgoritmeja.\n",
        "\n",
        "* SciPy ei toimi kokonaislukuarvoisilla päätösmuuttujilla.\n",
        "\n",
        "* SciPy ei tarjoa luokkia tai funktioita mallien rakentamiseen. Käyttäjän on määriteltävä taulukot ja matriisit itse. Se voi olla väsyttävää ja virhealtista työtä erityisesti isojen ja mutkikkaiden ongelmien tapauksessa.\n",
        "\n",
        "* SciPy ei tarjoa mahdollisuutta ratkaista maksimointiongelmia suoraan. Ongelmat on käännettävä minimointiongelmiksi.\n",
        "\n",
        "* SciPy ei tarjoa mahdollisuutta ratkaista suurempi tai yhtäsuuri kuin -rajoitteita suoraan. Ne on ensin muutettava pienempi tai yhtäsuuri -rajoitteiksi.\n",
        "\n",
        "Pythonin ekosysteemissä on kuitenkin vaihtoehtoisia ratkaisuja lineaarisiin optimointiongelmiin, jotka soveltuvat myös isojen ja mutkikkaiden ongelmien tapauksissa. Ykjsi niistä on seuraavaksi esiteltävä _PuLP_."
      ],
      "metadata": {
        "id": "x9Vz8JUFz-5c"
      }
    },
    {
      "cell_type": "markdown",
      "source": [
        "## PuLP"
      ],
      "metadata": {
        "id": "Q-FjN1L021pV"
      }
    },
    {
      "cell_type": "markdown",
      "source": [
        "PuLP:issa on SciPy:ä miellyttävämpi ohjelmointirajapinta. Siinä ei tarvitse matemaattisesti muokata annettuja rajoitteita tai käyttää vektoreita tai matriiseja."
      ],
      "metadata": {
        "id": "tmJ7fDi826Zt"
      }
    },
    {
      "cell_type": "code",
      "source": [
        "!pip install pulp"
      ],
      "metadata": {
        "colab": {
          "base_uri": "https://localhost:8080/"
        },
        "id": "lFB1X2Twj_zi",
        "outputId": "71839712-1d5f-4fa7-be33-3bb1a849a4fa"
      },
      "execution_count": 20,
      "outputs": [
        {
          "output_type": "stream",
          "name": "stdout",
          "text": [
            "Collecting pulp\n",
            "  Downloading PuLP-2.9.0-py3-none-any.whl.metadata (5.4 kB)\n",
            "Downloading PuLP-2.9.0-py3-none-any.whl (17.7 MB)\n",
            "\u001b[2K   \u001b[90m━━━━━━━━━━━━━━━━━━━━━━━━━━━━━━━━━━━━━━━━\u001b[0m \u001b[32m17.7/17.7 MB\u001b[0m \u001b[31m59.4 MB/s\u001b[0m eta \u001b[36m0:00:00\u001b[0m\n",
            "\u001b[?25hInstalling collected packages: pulp\n",
            "Successfully installed pulp-2.9.0\n"
          ]
        }
      ]
    },
    {
      "cell_type": "code",
      "source": [
        "# Tuodaan kirjastot\n",
        "\n",
        "from  pulp import LpMaximize, LpProblem, LpStatus, lpSum, LpVariable"
      ],
      "metadata": {
        "id": "sccL1d_43_6O"
      },
      "execution_count": 21,
      "outputs": []
    },
    {
      "cell_type": "markdown",
      "source": [
        "Nyt ollaankin valmiita optimoimaan."
      ],
      "metadata": {
        "id": "wlHDz_ze4ZdJ"
      }
    },
    {
      "cell_type": "markdown",
      "source": [
        "## Esimerkki 1"
      ],
      "metadata": {
        "id": "7V1DewbO4e0m"
      }
    },
    {
      "cell_type": "markdown",
      "source": [
        "Ratkaistaan alussa esitelty lineaarinen optimointiongelma käyttäen PuLP:a:\n",
        "\n",
        "Maksimoidaan:\n",
        "$$z=x+2y$$\n",
        "\n",
        "Rajoitteina:\n",
        "\n",
        "$$2x+y\\leq 20$$\n",
        "$$-4x+5y\\leq 10$$\n",
        "$$-x + 2y\\geq -2$$\n",
        "$$-x + 5y = 15$$\n",
        "$$x\\geq 0$$\n",
        "$$y \\geq 0$$\n"
      ],
      "metadata": {
        "id": "ftn5R-jS4e30"
      }
    },
    {
      "cell_type": "markdown",
      "source": [
        "Ensin on luotava ongelmaa vastaa [LpProblem](https://www.coin-or.org/PuLP/pulp.html#pulp.LpProblem)-malli ja annettava sille alkuarvot."
      ],
      "metadata": {
        "id": "jGpeTfGB4fm3"
      }
    },
    {
      "cell_type": "code",
      "source": [
        "# Luodaan malli\n",
        "\n",
        "model = LpProblem(name=\"small-problem\", sense=LpMaximize)"
      ],
      "metadata": {
        "id": "jr4yOtvq5Od1"
      },
      "execution_count": 22,
      "outputs": []
    },
    {
      "cell_type": "markdown",
      "source": [
        "Parametrilla _sense_ ilmoitetaan, onko kyseessä maksimointi- vai minimointiongelma. Oletusarvo on minimointi (LpMinimize tai 1), maksimoitaessa valitaan LpMaximize tai -1."
      ],
      "metadata": {
        "id": "9Q7_mrqk4f0u"
      }
    },
    {
      "cell_type": "markdown",
      "source": [
        "Kun malli on luotu, voidaan määritellä päätösmuuttujat luokan LpVariable tapauksina."
      ],
      "metadata": {
        "id": "XYCpBSUb704J"
      }
    },
    {
      "cell_type": "code",
      "source": [
        "# Alustetaan päätösmuuttujat\n",
        "\n",
        "x = LpVariable(name=\"x\", lowBound=0)\n",
        "y = LpVariable(name=\"y\", lowBound=0)"
      ],
      "metadata": {
        "id": "oShXtlp98LZg"
      },
      "execution_count": 23,
      "outputs": []
    },
    {
      "cell_type": "markdown",
      "source": [
        "Oletusarvona alarajalle on negatiivinen ääretön $-\\infty$, joten tässä esimerkissä on annettava alaraja _lowBound_, koska muuttujien arvot eivät rajoiteuiden mukaan ole negatiivisia. Parametrilla _upBound_ voi tarvittaessa määrittää ylärajan. Oletusarvo sille on $+\\infty$."
      ],
      "metadata": {
        "id": "ZAgdihJn8T3x"
      }
    },
    {
      "cell_type": "markdown",
      "source": [
        "Valinnaisella parametrilla _cat_ voi määrittää päätösmuuttujan kategorian. Oletusarvo on \"_Continuous_\", joka sopii jatkuvien muuttujien tapaukseen."
      ],
      "metadata": {
        "id": "KQiGclCw9Yq6"
      }
    },
    {
      "cell_type": "markdown",
      "source": [
        "Muuttujia $x$ ja $y$ voidaan nyt käyttää muiden PuLP-objektien luomiseen. Näitä käytetään lineaaristen yhtälöiden ja rajoitteiden ilmaisemiseen."
      ],
      "metadata": {
        "id": "nql-9Otf9-U8"
      }
    },
    {
      "cell_type": "code",
      "source": [
        "expression = 2 * x + 4 * y\n",
        "type(expression)"
      ],
      "metadata": {
        "colab": {
          "base_uri": "https://localhost:8080/",
          "height": 186
        },
        "id": "OpsMbqh0-cB6",
        "outputId": "92af4122-7282-4b65-c4df-51df73215711"
      },
      "execution_count": 25,
      "outputs": [
        {
          "output_type": "execute_result",
          "data": {
            "text/plain": [
              "pulp.pulp.LpAffineExpression"
            ],
            "text/html": [
              "<div style=\"max-width:800px; border: 1px solid var(--colab-border-color);\"><style>\n",
              "      pre.function-repr-contents {\n",
              "        overflow-x: auto;\n",
              "        padding: 8px 12px;\n",
              "        max-height: 500px;\n",
              "      }\n",
              "\n",
              "      pre.function-repr-contents.function-repr-contents-collapsed {\n",
              "        cursor: pointer;\n",
              "        max-height: 100px;\n",
              "      }\n",
              "    </style>\n",
              "    <pre style=\"white-space: initial; background:\n",
              "         var(--colab-secondary-surface-color); padding: 8px 12px;\n",
              "         border-bottom: 1px solid var(--colab-border-color);\"><b>pulp.pulp.LpAffineExpression</b><br/>def __init__(e=None, constant=0, name=None)</pre><pre class=\"function-repr-contents function-repr-contents-collapsed\" style=\"\"><a class=\"filepath\" style=\"display:none\" href=\"#\">/usr/local/lib/python3.10/dist-packages/pulp/pulp.py</a>A linear combination of :class:`LpVariables&lt;LpVariable&gt;`.\n",
              "Can be initialised with the following:\n",
              "\n",
              "#.   e = None: an empty Expression\n",
              "#.   e = dict: gives an expression with the values being the coefficients of the keys (order of terms is undetermined)\n",
              "#.   e = list or generator of 2-tuples: equivalent to dict.items()\n",
              "#.   e = LpElement: an expression of length 1 with the coefficient 1\n",
              "#.   e = other: the constant is initialised as e\n",
              "\n",
              "Examples:\n",
              "\n",
              "   &gt;&gt;&gt; f=LpAffineExpression(LpElement(&#x27;x&#x27;))\n",
              "   &gt;&gt;&gt; f\n",
              "   1*x + 0\n",
              "   &gt;&gt;&gt; x_name = [&#x27;x_0&#x27;, &#x27;x_1&#x27;, &#x27;x_2&#x27;]\n",
              "   &gt;&gt;&gt; x = [LpVariable(x_name[i], lowBound = 0, upBound = 10) for i in range(3) ]\n",
              "   &gt;&gt;&gt; c = LpAffineExpression([ (x[0],1), (x[1],-3), (x[2],4)])\n",
              "   &gt;&gt;&gt; c\n",
              "   1*x_0 + -3*x_1 + 4*x_2 + 0</pre>\n",
              "      <script>\n",
              "      if (google.colab.kernel.accessAllowed && google.colab.files && google.colab.files.view) {\n",
              "        for (const element of document.querySelectorAll('.filepath')) {\n",
              "          element.style.display = 'block'\n",
              "          element.onclick = (event) => {\n",
              "            event.preventDefault();\n",
              "            event.stopPropagation();\n",
              "            google.colab.files.view(element.textContent, 633);\n",
              "          };\n",
              "        }\n",
              "      }\n",
              "      for (const element of document.querySelectorAll('.function-repr-contents')) {\n",
              "        element.onclick = (event) => {\n",
              "          event.preventDefault();\n",
              "          event.stopPropagation();\n",
              "          element.classList.toggle('function-repr-contents-collapsed');\n",
              "        };\n",
              "      }\n",
              "      </script>\n",
              "      </div>"
            ]
          },
          "metadata": {},
          "execution_count": 25
        }
      ]
    },
    {
      "cell_type": "code",
      "source": [
        "constraint = 2 * x + 4 * y >= 8\n",
        "type(constraint)"
      ],
      "metadata": {
        "colab": {
          "base_uri": "https://localhost:8080/",
          "height": 121
        },
        "id": "iS13eWik-xSB",
        "outputId": "3e4f403e-cf8a-4ce4-e9c6-7da61d7cd155"
      },
      "execution_count": 26,
      "outputs": [
        {
          "output_type": "execute_result",
          "data": {
            "text/plain": [
              "pulp.pulp.LpConstraint"
            ],
            "text/html": [
              "<div style=\"max-width:800px; border: 1px solid var(--colab-border-color);\"><style>\n",
              "      pre.function-repr-contents {\n",
              "        overflow-x: auto;\n",
              "        padding: 8px 12px;\n",
              "        max-height: 500px;\n",
              "      }\n",
              "\n",
              "      pre.function-repr-contents.function-repr-contents-collapsed {\n",
              "        cursor: pointer;\n",
              "        max-height: 100px;\n",
              "      }\n",
              "    </style>\n",
              "    <pre style=\"white-space: initial; background:\n",
              "         var(--colab-secondary-surface-color); padding: 8px 12px;\n",
              "         border-bottom: 1px solid var(--colab-border-color);\"><b>pulp.pulp.LpConstraint</b><br/>def __init__(e=None, sense=const.LpConstraintEQ, name=None, rhs=None)</pre><pre class=\"function-repr-contents function-repr-contents-collapsed\" style=\"\"><a class=\"filepath\" style=\"display:none\" href=\"#\">/usr/local/lib/python3.10/dist-packages/pulp/pulp.py</a>An LP constraint</pre>\n",
              "      <script>\n",
              "      if (google.colab.kernel.accessAllowed && google.colab.files && google.colab.files.view) {\n",
              "        for (const element of document.querySelectorAll('.filepath')) {\n",
              "          element.style.display = 'block'\n",
              "          element.onclick = (event) => {\n",
              "            event.preventDefault();\n",
              "            event.stopPropagation();\n",
              "            google.colab.files.view(element.textContent, 997);\n",
              "          };\n",
              "        }\n",
              "      }\n",
              "      for (const element of document.querySelectorAll('.function-repr-contents')) {\n",
              "        element.onclick = (event) => {\n",
              "          event.preventDefault();\n",
              "          event.stopPropagation();\n",
              "          element.classList.toggle('function-repr-contents-collapsed');\n",
              "        };\n",
              "      }\n",
              "      </script>\n",
              "      </div>"
            ]
          },
          "metadata": {},
          "execution_count": 26
        }
      ]
    },
    {
      "cell_type": "markdown",
      "source": [
        "Kun päätösmuuttuja kerrotaan jollain luvulla tai rakennetaan lineaarinen yhtälöryhmä useasta päätösmuuttujasta, tuloksena on [pulp.LpAffineExpression](https://coin-or.github.io/pulp/technical/pulp.html#pulp.LpAffineExpression)-instanssi."
      ],
      "metadata": {
        "id": "KpE7LmTs_ndk"
      }
    },
    {
      "cell_type": "markdown",
      "source": [
        "__Huom__. Muuttujia tai lausekkeita voi lisätä tai vähentää toisistaan sekä niitä kertoa vakiolla, sillä PuLP:in luokat käyttävät Pythonin numeerisia menetelmiä jäljitteleviä menetelmiä. Näitä toimintoja käytetään perinteisillä symboleilla $+$, $-$ ja $*$."
      ],
      "metadata": {
        "id": "eYyh96AC_oQj"
      }
    },
    {
      "cell_type": "markdown",
      "source": [
        "Samalla tavalla lineaarisia lausekkeita, muuttujia ja skalaareja voi yhdistellä käyttäen loogisia operaattoreita $==$, $<=$ tai $>=$. Tuloksena on [pulp.LpConstraint](https://coin-or.github.io/pulp/technical/pulp.html#pulp.LpConstraint)-instansseja, jotka edustavat mallin rajoitteita."
      ],
      "metadata": {
        "id": "Imb4erFW_oTt"
      }
    },
    {
      "cell_type": "markdown",
      "source": [
        "Seuraavaksi malliin lisätäänkin rajoitteet ja tavoitefunktio. Tämä voidaan tehdä Pythonin lausekkeilla ja malliin lisääminen tapahtuu operaattorilla $+=$."
      ],
      "metadata": {
        "id": "wdepRgT0_ofy"
      }
    },
    {
      "cell_type": "code",
      "source": [
        "# Lisätään malliin rajoitteet\n",
        "\n",
        "model += (2 * x + y <= 20, \"punainen suora\")\n",
        "model += (4 * x - 5 * y >= -10, \"sininen suora\")\n",
        "model += (-x + 2 * y >= -2, \"keltainen suora\")\n",
        "model += (-x + 5 * y == 15, \"vihreä suora\")"
      ],
      "metadata": {
        "id": "Mo8iuEAKEVbi"
      },
      "execution_count": 28,
      "outputs": []
    },
    {
      "cell_type": "markdown",
      "source": [
        "Edellä määriteltiin monikko, joka sisältää rajoitteet ja niiden nimet. LpProblem antaa mahdollisuuden rajoitteiden lisäämisen malliin mahdollistamalla useamman parametrin. Ensimmäinen niistä on LpConstraint-instanssi, toinen on ihmisen luettava nimi rajoitteelle."
      ],
      "metadata": {
        "id": "N0JQwno0D8t6"
      }
    },
    {
      "cell_type": "markdown",
      "source": [
        "Tavoitefunktion lisääminen sujuu vastaavasti."
      ],
      "metadata": {
        "id": "G0RqvVSjD8xD"
      }
    },
    {
      "cell_type": "code",
      "source": [
        "# Lisätään malliin tavoitefunktio\n",
        "\n",
        "obj_func = x + 2 * y\n",
        "model += obj_func"
      ],
      "metadata": {
        "id": "XlLHJylUG09d"
      },
      "execution_count": 29,
      "outputs": []
    },
    {
      "cell_type": "markdown",
      "source": [
        "Tämän voi tehdä lyhyemminkin."
      ],
      "metadata": {
        "id": "DgpxX8STG9PJ"
      }
    },
    {
      "cell_type": "code",
      "source": [
        "# Lisätään malliin tavoitefunktio\n",
        "\n",
        "model += x + 2 * y"
      ],
      "metadata": {
        "colab": {
          "base_uri": "https://localhost:8080/"
        },
        "id": "38AXCmvlG94C",
        "outputId": "fd5d8b67-29e0-4216-bfa1-0b9af8451813"
      },
      "execution_count": 30,
      "outputs": [
        {
          "output_type": "stream",
          "name": "stderr",
          "text": [
            "/usr/local/lib/python3.10/dist-packages/pulp/pulp.py:1650: UserWarning: Overwriting previously set objective.\n",
            "  warnings.warn(\"Overwriting previously set objective.\")\n"
          ]
        }
      ]
    },
    {
      "cell_type": "markdown",
      "source": [
        "Näin on saatu rajoitteet ja tavoitefunktio lisättyä ja malli määriteltyä."
      ],
      "metadata": {
        "id": "xs_35xz_HKP-"
      }
    },
    {
      "cell_type": "markdown",
      "source": [
        "Isompiin optimointiongelmiin on usein sujuvampaa käyttää funktiota [_lpSum()_](https://www.coin-or.org/PuLP/pulp.html#pulp.lpSum) ja lisätä lista tai toinen jono sen sijaan, että toistaisi $+$-toimintoa. Esimerkiksi tavoitefunktion voisi lisätä myös seuraavasti."
      ],
      "metadata": {
        "id": "UtJiL1PkIGBP"
      }
    },
    {
      "cell_type": "code",
      "source": [
        "# Lisätään malliin tavoitefunktio\n",
        "\n",
        "model += lpSum([x, 2 * y])"
      ],
      "metadata": {
        "id": "C7_pgtt-HKfX"
      },
      "execution_count": 32,
      "outputs": []
    },
    {
      "cell_type": "markdown",
      "source": [
        "Lopputulos on samakuin edellä olevassa koodissa."
      ],
      "metadata": {
        "id": "zaUQ9Bf0JdAe"
      }
    },
    {
      "cell_type": "markdown",
      "source": [
        "Tutustutaan vielä määriteltyyn malliin ja katsotaan, että kaikki on kohdallaan. Tavoitefunktion, rajoitteet ja päätösmuuttujat ja näiden nimet voi tarkistaa seuraavasti."
      ],
      "metadata": {
        "id": "gTet7bLjJvRG"
      }
    },
    {
      "cell_type": "code",
      "source": [
        "model"
      ],
      "metadata": {
        "colab": {
          "base_uri": "https://localhost:8080/"
        },
        "id": "En19sk8QJ35G",
        "outputId": "79994e41-4be0-490d-d932-5e1ba8c60645"
      },
      "execution_count": 34,
      "outputs": [
        {
          "output_type": "execute_result",
          "data": {
            "text/plain": [
              "small-problem:\n",
              "MAXIMIZE\n",
              "1*x + 2*y + 0\n",
              "SUBJECT TO\n",
              "red_constraint: 2 x + y <= 20\n",
              "\n",
              "blue_constraint: 4 x - 5 y >= -10\n",
              "\n",
              "yellow_constraint: - x + 2 y >= -2\n",
              "\n",
              "green_constraint: - x + 5 y = 15\n",
              "\n",
              "punainen_suora: 2 x + y <= 20\n",
              "\n",
              "sininen_suora: 4 x - 5 y >= -10\n",
              "\n",
              "keltainen_suora: - x + 2 y >= -2\n",
              "\n",
              "vihreä_suora: - x + 5 y = 15\n",
              "\n",
              "VARIABLES\n",
              "x Continuous\n",
              "y Continuous"
            ]
          },
          "metadata": {},
          "execution_count": 34
        }
      ]
    },
    {
      "cell_type": "markdown",
      "source": [
        "Lopulta päästään ratkaisemaan itse optimointiongelma. Tämä taphtuu funktiolla [_.solve()_](https://www.coin-or.org/PuLP/pulp.html#pulp.LpProblem.solve). Jos oletusalgoritmi CBC riittää, argumentteja ei tarvita."
      ],
      "metadata": {
        "id": "yrb3SxlFKhay"
      }
    },
    {
      "cell_type": "code",
      "source": [
        "# Ratkaistaan optimointiongelma\n",
        "\n",
        "status = model.solve()"
      ],
      "metadata": {
        "id": "gVbbWzg0K9gS"
      },
      "execution_count": 36,
      "outputs": []
    },
    {
      "cell_type": "markdown",
      "source": [],
      "metadata": {
        "id": "LC9t9kPDMGjC"
      }
    },
    {
      "cell_type": "markdown",
      "source": [],
      "metadata": {
        "id": "E4V4HnbMMIGu"
      }
    },
    {
      "cell_type": "code",
      "source": [],
      "metadata": {
        "id": "3LIxrIa0MIU9"
      },
      "execution_count": null,
      "outputs": []
    },
    {
      "cell_type": "markdown",
      "source": [],
      "metadata": {
        "id": "rf8CCRGdMJVM"
      }
    },
    {
      "cell_type": "code",
      "source": [],
      "metadata": {
        "id": "vrJyXksGMJfK"
      },
      "execution_count": null,
      "outputs": []
    },
    {
      "cell_type": "markdown",
      "source": [],
      "metadata": {
        "id": "mOgxWAs8MKe-"
      }
    },
    {
      "cell_type": "markdown",
      "source": [],
      "metadata": {
        "id": "e8uTCTMiMKjE"
      }
    },
    {
      "cell_type": "code",
      "source": [],
      "metadata": {
        "id": "5vlwNCf2MKzF"
      },
      "execution_count": null,
      "outputs": []
    },
    {
      "cell_type": "markdown",
      "source": [],
      "metadata": {
        "id": "sK2QfASvMLed"
      }
    },
    {
      "cell_type": "code",
      "source": [],
      "metadata": {
        "id": "-nFVzXFxMLmq"
      },
      "execution_count": null,
      "outputs": []
    },
    {
      "cell_type": "markdown",
      "source": [],
      "metadata": {
        "id": "ua-aGRqaMMhN"
      }
    },
    {
      "cell_type": "markdown",
      "source": [],
      "metadata": {
        "id": "WmHg48CbMMly"
      }
    },
    {
      "cell_type": "code",
      "source": [],
      "metadata": {
        "id": "f-fwLlGTMMwF"
      },
      "execution_count": null,
      "outputs": []
    },
    {
      "cell_type": "markdown",
      "source": [],
      "metadata": {
        "id": "X92ZnvXeMOEK"
      }
    },
    {
      "cell_type": "code",
      "source": [],
      "metadata": {
        "id": "NI_RaySWMOOE"
      },
      "execution_count": null,
      "outputs": []
    },
    {
      "cell_type": "markdown",
      "source": [],
      "metadata": {
        "id": "59VRrPUEMPEd"
      }
    },
    {
      "cell_type": "code",
      "source": [],
      "metadata": {
        "id": "-eLGGa9EMPNK"
      },
      "execution_count": null,
      "outputs": []
    },
    {
      "cell_type": "markdown",
      "source": [],
      "metadata": {
        "id": "QRJ1icBlMPty"
      }
    },
    {
      "cell_type": "code",
      "source": [],
      "metadata": {
        "id": "STKr0Y5YMP1j"
      },
      "execution_count": null,
      "outputs": []
    },
    {
      "cell_type": "markdown",
      "source": [],
      "metadata": {
        "id": "I7aGaqqMMRWM"
      }
    },
    {
      "cell_type": "markdown",
      "source": [],
      "metadata": {
        "id": "VJwT6CkmMRaa"
      }
    },
    {
      "cell_type": "markdown",
      "source": [
        "## Esimerkki 2"
      ],
      "metadata": {
        "id": "kJQ0I1ioMRkL"
      }
    },
    {
      "cell_type": "markdown",
      "source": [
        "Lähde ja lisämateriaalia:\n",
        "\n",
        "\n",
        "*   [RealPython: Hands-On Linear Programming: Optimization With Python](https://realpython.com/linear-programming-python/)\n",
        "\n"
      ],
      "metadata": {
        "id": "E_OrAW8PVztO"
      }
    },
    {
      "cell_type": "code",
      "source": [
        "import datetime\n",
        "print(f'Last modified {datetime.datetime.now():%Y-%m-%d %H:%M} by Juha Nurmonen')"
      ],
      "metadata": {
        "colab": {
          "base_uri": "https://localhost:8080/"
        },
        "id": "mEW58Q-VWYJE",
        "outputId": "7ae64968-3a6b-467d-c64d-0376cd72ac64"
      },
      "execution_count": null,
      "outputs": [
        {
          "output_type": "stream",
          "name": "stdout",
          "text": [
            "Last modified 2024-09-01 16:12 by Juha Nurmonen\n"
          ]
        }
      ]
    }
  ]
}