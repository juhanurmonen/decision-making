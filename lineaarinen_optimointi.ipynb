{
  "nbformat": 4,
  "nbformat_minor": 0,
  "metadata": {
    "colab": {
      "provenance": []
    },
    "kernelspec": {
      "name": "python3",
      "display_name": "Python 3"
    },
    "language_info": {
      "name": "python"
    }
  },
  "cells": [
    {
      "cell_type": "markdown",
      "source": [
        "# Lineaarinen optimointi Pythonia hyödyntäen"
      ],
      "metadata": {
        "id": "poiLmYOLVshV"
      }
    },
    {
      "cell_type": "markdown",
      "source": [
        "__Matemaattista optimointia__ on sovelletaan usealla eri alalla. Perusidea on _maksimoida_ tai _minimoida_ jonkin yhtälön arvo. Tällaisessa tilanteessa läsnä on yleensä joitain _rajoitteita_, joiden puitteissa arvoja tarkastellaan. __Lineaarisessa optimoinnissa__ kaikki yllä mainitut, maksimoitava tai minimoitava funktio sekä rajoitefunktiot ovat lineaarisia. Optimoitavasta funktiosta usein käytettyjä sovelluksia ovat mm. kustannus- ja kysyntäfuntiot.\n",
        "\n",
        "Lisätietoa perusasioista löytyy mm.Wikipediasta:\n",
        "*  [Linear function](https://en.wikipedia.org/wiki/Linear_function)\n",
        "* [System of linear equations](https://en.wikipedia.org/wiki/System_of_linear_equations)"
      ],
      "metadata": {
        "id": "l1fFh2nfXqu1"
      }
    },
    {
      "cell_type": "markdown",
      "source": [
        "Katsotaan seuraavaksi esimerkkiä lineaarisesta optimoinnista."
      ],
      "metadata": {
        "id": "AHmn0lV0aU57"
      }
    },
    {
      "cell_type": "markdown",
      "source": [
        "Tehtävänä on __maksimoida__ funktion $$z=x+2y$$ arvo. Rajoitteina tässä tilanteessa toimivat funktiot\n",
        "$$2x+y\\leq 20$$\n",
        "$$-4x+5y\\leq 10$$\n",
        "$$-x + 2y\\geq -2$$\n",
        "$$x\\geq 0$$\n",
        "$$y \\geq 0$$"
      ],
      "metadata": {
        "id": "R4anqW2qcckW"
      }
    },
    {
      "cell_type": "markdown",
      "source": [
        "Tavoitteena on löytää sellaiset muuttujien $x$ ja $y$ arvot, että kaikki rajoitefunktioden epäyhtälöt toteutuvat ja samalla muuttujan $z$ arvo on suurin mahdollinen."
      ],
      "metadata": {
        "id": "11XAzGexdNAs"
      }
    },
    {
      "cell_type": "markdown",
      "source": [
        "Riippumattomia muuttujia, edellä $x$ ja $y$, kutsutaan __päätösmuuttujiksi__ ja maksimoitavaa tai minimoitava muuttujaa, edellä $z$, __kohdefunktioksi__, __kustannusfunktioksi__ tai yksinkertaisesti __tavoitteeksi__."
      ],
      "metadata": {
        "id": "142lsCB0dgh1"
      }
    },
    {
      "cell_type": "markdown",
      "source": [
        "Graafisesti rajoitteiden rajaama tilanne näyttää seuraavalta."
      ],
      "metadata": {
        "id": "JdOEPSLifaJG"
      }
    },
    {
      "cell_type": "markdown",
      "source": [
        "![Optimointiongelma graafisesti](https://realpython.com/cdn-cgi/image/width=828,format=auto/https://files.realpython.com/media/lp-py-fig-1.00f609c97aec.png \"Optimointiongelma\")"
      ],
      "metadata": {
        "id": "q8EZFRLhbswT"
      }
    },
    {
      "cell_type": "markdown",
      "source": [
        "Punainen viiva kuvaa funktiota $2x+y=20$ ja punainen alue sen yläpuolella aluetta, jossa epäyhtälö ei ole tosi. Vastaavasti sininen viiva kuvaa suoraa $-4x+5y=10$ ja yllä esitetty epäyhtälö ei voimassa sinisellä alueella. Samoin keltainen suora on $-x+2y=-2$ ja yllä kuvattu epäyhtälö ei ole tosi keltaisella alueella."
      ],
      "metadata": {
        "id": "tQybYU51fh_d"
      }
    },
    {
      "cell_type": "markdown",
      "source": [
        "Kun jätetään laskuista alueet, joissa ainakin yksi epäyhtälöistä ei ole tosi, jäljelle jää harmaa alue. Jokainen harmaan alueen piste toteuttaa jokaisen rajoitefunktion ehdon (epäyhtälön) ja jokainen piste on siis mahdollinen ratkaisu optimointiongelmaan. Tällaista aluetta kutsutaan __mahdolliseksi__ (__feasible region__) ja sen pisteet ovat __mahdollisia ratkaisuja__ (__feasible solutions__). Yllä olevassa esimerkissä mahdollisia ratkaisuja on rajoittamaton määrä."
      ],
      "metadata": {
        "id": "gCk2XgAvgpag"
      }
    },
    {
      "cell_type": "markdown",
      "source": [
        "Seuraavaksi tullaan muuttujan $z$ arvon maksimointiin. Se mahdollisista ratkaisuista, jolla muuttujan $z$ arvo  on maksimaalinen, on __optimaalinen ratkaisu__ (__optimal solution__). Samoin tietysti, jos tarkoitus olisi minimoida tavoitefunktion arvo, optimaalisin ratkaisu olisi mahdollisista ratkaisuista pienin."
      ],
      "metadata": {
        "id": "zQRhxnJ_gppX"
      }
    },
    {
      "cell_type": "markdown",
      "source": [
        "Nyt on hyvä kiinnittää huomiota siihen, että $z$ on lineaarinen. Sen voi ajatella olevan taso kolmiulotteisessa avaruudessa. Tästä syystä optimaalisen ratkaisun on oltava mahdollisten ratkaisujen __kärkipiste__ tai __kulmapiste__. Osaatko jo tässä vaiheessa sanoa, kumpi esimerkin kahdesta kärkipisteestä on optimiratkaisu?"
      ],
      "metadata": {
        "id": "3V7bqz4wgp0f"
      }
    },
    {
      "cell_type": "markdown",
      "source": [
        "Voi olla myös niin, että mahdollisen alueen jonkun reunan kaikki pisteet tai jopa kaikki mahdollisen alueen pisteet ovat antavat tavoitefunktiolle saman arvon. Silloin optimiratkaisuja on siis  useita."
      ],
      "metadata": {
        "id": "OKlWljNEk5Iz"
      }
    },
    {
      "cell_type": "markdown",
      "source": [
        "Tutustuaksemme aiheeseen tarkemmin, lisätään edellisten lisäksi vielä yksi rajoite, yhtälö\n",
        "$$-x+5y=15$$"
      ],
      "metadata": {
        "id": "W9YNBIZ9k5NC"
      }
    },
    {
      "cell_type": "markdown",
      "source": [
        "Tämä rajoite näkyy kuvassa vihreänä suorana.\n",
        "\n",
        "![Optimaalinen ratkaisu, osa 2](https://realpython.com/cdn-cgi/image/width=828,format=auto/https://files.realpython.com/media/lp-py-fig-2.3d21c2b24205.png)"
      ],
      "metadata": {
        "id": "J7FnJKE3npc8"
      }
    },
    {
      "cell_type": "markdown",
      "source": [
        "Ratkaisun pitää nyt toteuttaa myös yo. yhtälö, joten mahdolliset ratkaisut eivät löydykään enää koko harmaalta alueelta. Se löytyy harmaan alueen vihreän suoran osasta, joka leikkaa sinisen suoran ja punaisen suoran. Optimiratkaisu on itse asiassa jälkimmäinen."
      ],
      "metadata": {
        "id": "PO4YXLiLnpfr"
      }
    },
    {
      "cell_type": "markdown",
      "source": [
        "Jos ongelmaan lisätään vielä rajoite, että kaikkien $x$-muuttujan arvojen tulee olla kokonaislukuja, ongelma muuttuu vielä lisää. Mahdollisten ratkaisujen joukko onkin kokoelma harmaalla alueella olevia pisteitä, joissa $x$ on kokonaisluku. Optimaalisin näistä on nyt se, joka on lähinnä punaista viivaa.\n",
        "\n",
        "![Optimaalinen kokonaislukuratkaisujen joukko](https://realpython.com/cdn-cgi/image/width=828,format=auto/https://files.realpython.com/media/lp-py-fig-3.c13d0660ce57.png)"
      ],
      "metadata": {
        "id": "EjX9u--fk5UC"
      }
    },
    {
      "cell_type": "markdown",
      "source": [
        "Edellä olevat kolme esimerkkiä kuvaavat __mahdollisia lineaarisia ratkaisuja__, koska mahdollisten ratkaisujen joukot ovat rajoitettuja ja ratkaisujen määrä on rajoitettu."
      ],
      "metadata": {
        "id": "tzOFBfHak5a1"
      }
    },
    {
      "cell_type": "markdown",
      "source": [
        "## Mahdoton lineaarinen optimointiongelma"
      ],
      "metadata": {
        "id": "Kw37d8OqrVVW"
      }
    },
    {
      "cell_type": "markdown",
      "source": [
        "Optimointiongelma on __mahdoton__, jos sillä ei ole ratkaisua. Tällaisessa tilanteessa yleensä yksikään ratkaisu ei voi toteuttaa kaikkia annettuja rajoitteita samaan aikaan."
      ],
      "metadata": {
        "id": "IYsUU_hNrVkN"
      }
    },
    {
      "cell_type": "markdown",
      "source": [
        "Mitä tapahtuisi, jos vaikkapa edellisessä esimerkissä lisättäisiin vielä rajoite $x+y\\leq -1$. Silloin ainakin toisen päätösmuuttujan ($x$ tai $y$) olisi oltava negatiivinen. Tämä puolestaan on ristiriidassa rajoitteiden $x\\geq 0$ ja$y\\geq 0$ kanssa. Sellaisella systeemillä ei ole mahdollista ratkaisua ja se on siis mahdoton."
      ],
      "metadata": {
        "id": "xYjVP5ctrVsV"
      }
    },
    {
      "cell_type": "markdown",
      "source": [
        "Toinen esimerkki mahdottomasta ratkaisusta (yhtälösysteemistä) olisi, jos edellä rajoitteisiin lisättäisiin vihreän suoran lisäksi toinen, sen kanssa rinnakkainen suora. Kahdella rinnakkaisella suoralla ei voi olla yhteistä pistettä, joten tällaisessa tapauksessa ei voida löytää ratkaisua, joka täyttäisi molemmat rajoitteet."
      ],
      "metadata": {
        "id": "yT3g5lOtgqAP"
      }
    },
    {
      "cell_type": "markdown",
      "source": [
        "## Rajoittamaton optimointiongelma"
      ],
      "metadata": {
        "id": "5jgzuvGAtDB5"
      }
    },
    {
      "cell_type": "markdown",
      "source": [
        "Optimointiongelma on __rajoittamaton__, jos sen mahdollinen ratkaisualue ei ole rajoitettu eikä ratkaisu näin ollen ole rajoitettu. Tällaöin ainakin yksi muuttuja ei ole rajoitettu ja se voi saada mielivaltaisen suuria positiivia tai mielivaltaisen pieniä negatiivisia arvoja. Tällöin tavoitteesta tulee myös rajoittamaton."
      ],
      "metadata": {
        "id": "vjIBIrPTtDEo"
      }
    },
    {
      "cell_type": "markdown",
      "source": [
        "Jos vaikka edellä olevassa esimerkissä jätettäisiinkin punaisen ja keltaisen suoran rajoitteet pois, muuttujien $x$ ja $y$ arvot olisivat rajoitettu alhaalta mutta eivät positiiviselta puolelta. Ne voisivat silloin saada vaikka kuinka suuria positiivisia arvoja ja samalla tavoitefunktion $z$ arvoksi tulisi mielivaltaisen suuria arvoja."
      ],
      "metadata": {
        "id": "7ar0TnqZtDHc"
      }
    },
    {
      "cell_type": "markdown",
      "source": [
        "## Resurssien kohdentamisen ongelma"
      ],
      "metadata": {
        "id": "M5iPNNHItDJ4"
      }
    },
    {
      "cell_type": "markdown",
      "source": [
        "Edellä tutustuttiin abstraktiin lineaariseen optimointiongelmaan, jota ei oltu suoranaisesti kytketty mihinkään käytännön ongelmaan. Seuraavaksi tutustutaan konkreettiseen ja käytännölliseen optimointiongelmaan, joka liittyy tuotannon resurssien kohdentamiseen."
      ],
      "metadata": {
        "id": "8IsIYNKox2Pq"
      }
    },
    {
      "cell_type": "markdown",
      "source": [
        "Oletetaan, että tehdas tuottaa neljää erilaista tuotetta, ensimmäistä tuotetta päivittäin $x_1$ kappaletta, toista $x_2$ kappaletta jne. Tavoitteena on määrittää maksimimäärät tuotteita päivittäin seuraavat rajoitteet huomioiden:\n",
        "\n",
        "1. Kate tuotteille on 20 €/kpl ensimmäiselle tuotteelle, 12 €/kpl toiselle tuotteelle, 40 €/kpl kolmannelle ja 25 €/kpl neljännelle tuotteelle.\n",
        "\n",
        "2. Työvoimaan liittyvän rajoitteen mukaan jokaisena päivänä pystytään tuottamaan korkeintaan 50 tuotetta yhteensä.\n",
        "\n",
        "3. Ensimmäisen tuotteen osalta kuluu kolme yksikköä raakamateriaalia A kappaleelta. Toisen tuotteen osalta kuluu kaksi yksikköä raakamateriaalia A ja yksi yksikkö raakamateriaalia B kappaleelta. Kolmannen tuotteen osalta kuluu yksi yksikkö raakamateriaalia A ja kaksi yksikköä raakamateriaalia B kappaleelta. Vastaavasti neljännen tuotteen osalta kuluu kolme yksikköä raakamateriaalia B kappaleelta.\n",
        "\n",
        "4. Kuljetus- ja varastointirajoitteen mukaan tehdas pystyy käyttämään korkeintaan sata yksikköä raakamateriaalia A ja 90 yksikköä raakamateriaalia B päivittäin.\n"
      ],
      "metadata": {
        "id": "9WlnMTH6tDMS"
      }
    },
    {
      "cell_type": "markdown",
      "source": [
        "Ehtoja vastaava matemaattinen malli on:\n",
        "\n",
        "maksimoidaan\n",
        "\n",
        "$$20 x_1 + 12 x_2 + 40 x_3 + 25 x_4 \\textrm{ (tuotto)}$$\n",
        "\n",
        "olettaen, että\n",
        "\n",
        "$$x_1 + x_2 + x_3 + x_4 \\leq 50 \\textrm{ (työvoima)}$$\n",
        "\n",
        "$$3 x_1 + 2 x_2 + x_3 \\leq 100 \\textrm{ (materiaali A)}$$\n",
        "\n",
        "$$x_2 + 2 x_3 + 3 x_4 \\leq 90 \\textrm{ (materiaali B)}$$\n",
        "\n",
        "$$x_1, x_2, x_3, x_4 \\geq 0$$\n"
      ],
      "metadata": {
        "id": "YztoNi_VtDOi"
      }
    },
    {
      "cell_type": "markdown",
      "source": [
        "Tavoitefunktio määritellään yllä ehdossa yksi. Tyävoimarajoite tulee ehdosta kaksi. Materiaalien A ja B rajoitteet tulevat ehdosta kolme. Tuotteiden lukumäärät eivät voi olla negatiivisia, mistä saadaan viimeinen rajoite."
      ],
      "metadata": {
        "id": "yl9RmOeJFfMh"
      }
    },
    {
      "cell_type": "markdown",
      "source": [
        "Tässä päätösmuuttujia onkin jo neljä eikä asian visualisointi enää käy yhtä näppärästi kuin edellä. Samat periaatteet pätevät kuitenkin vieläkin."
      ],
      "metadata": {
        "id": "WXSJJ_tEFfVq"
      }
    },
    {
      "cell_type": "markdown",
      "source": [
        "## Optimointiongelman Python-toteutus"
      ],
      "metadata": {
        "id": "dcQ6-I7bFfcr"
      }
    },
    {
      "cell_type": "markdown",
      "source": [
        "Tässä artikkelissa sovelletaan kahta lähestymistapaa Pythonin hyödyntämiseksi yllä olevassa lineaarisessa optimointiongelmassa.\n",
        "\n",
        "1. Käytetään Pythonin tieteellisen laskennan kirjastoa __scipy__.\n",
        "\n",
        "2. Käytetään Pythonin lineaarisen ohjelmoinnin rajapintaa __PuLP__ ongelman määrittämiseen ja ratkaisemiseen."
      ],
      "metadata": {
        "id": "mt2p1c0eFfia"
      }
    },
    {
      "cell_type": "markdown",
      "source": [
        "Scipy:n alikirjasto __scipy.optimize__ soveltuu sekä lineaariseen että epälineaariseen optimointiin. PuLP antaa mahdollisuuden valita ratkaisualgoritmin ja muotoilla ongelmat luonnollisella tavalla. PuLP:in oletusalgoritmi on [COIN-OR Branch and Cut Solver (CBC)](https://github.com/coin-or/Cbc)."
      ],
      "metadata": {
        "id": "bRw8Cd_0Ffn7"
      }
    },
    {
      "cell_type": "code",
      "execution_count": 1,
      "metadata": {
        "id": "fPU3t7v4VSuk"
      },
      "outputs": [],
      "source": [
        "# Asennetaan linprog\n",
        "\n",
        "from scipy.optimize import linprog"
      ]
    },
    {
      "cell_type": "markdown",
      "source": [
        "### Esimerkki 1"
      ],
      "metadata": {
        "id": "pt-lZPo3LQ76"
      }
    },
    {
      "cell_type": "markdown",
      "source": [
        "Ratkaistaan ensin alussa esitelty lineaarinen optimointiongelma:\n",
        "\n",
        "Maksimoidaan:\n",
        "$$z=x+2y$$\n",
        "\n",
        "Rajoitteina:\n",
        "\n",
        "$$2x+y\\leq 20$$\n",
        "$$-4x+5y\\leq 10$$\n",
        "$$-x + 2y\\geq -2$$\n",
        "$$-x + 5y = 15$$\n",
        "$$x\\geq 0$$\n",
        "$$y \\geq 0$$\n"
      ],
      "metadata": {
        "id": "D5S7AU6PLQ5Y"
      }
    },
    {
      "cell_type": "markdown",
      "source": [
        "_linprog()_ ratkaisee ainoastaa minimointiogelmia eikä se salli rajoitteita, joissa on suurempi tai yhtäsuuri kuin merkki $\\geq$. Tästä syystä yllä olevaa matemaattista mallia on muutettava seuraavasti:\n",
        "\n",
        "* Sen sijaan, että maksimoitaisiin yhtälön $z = x + 2 y$ arvo, tuleekin nyt minimoida sen negaatio $-z = -x -2 y$.\n",
        "\n",
        "* Jos rajoitteessa on ehtona suurempi tai yhtäsuuri $\\geq$, kerrotaan se luvulla $-1$ ja saadaan rajoitteelle käänteinen ehto, jossa tarkastellaan tapausta pienempi tai yhtäsuuri $\\leq$.  "
      ],
      "metadata": {
        "id": "5dCQO_h9LRDo"
      }
    },
    {
      "cell_type": "markdown",
      "source": [
        "Näiden muutosten jälkeen optimointiongelma onkin seuraava:\n",
        "\n",
        "Minimoidaan:\n",
        "$$-z = -x - 2y$$\n",
        "\n",
        "Rajoitteina:\n",
        "\n",
        "$$2x + y \\leq 20$$\n",
        "$$-4x + 5y \\leq 10$$\n",
        "$$x - 2y \\geq 2$$\n",
        "$$-x + 5y = 15$$\n",
        "$$x\\geq 0$$\n",
        "$$y \\geq 0$$"
      ],
      "metadata": {
        "id": "z_dazP9aLRAn"
      }
    },
    {
      "cell_type": "markdown",
      "source": [
        "Tämä yhtälösysteemi on alkuperäistä vastaava niillä on sama ratkaisu. Ainut syy näihin muutoksiin on SciPy:n rajoitukset ongelman muotoilussa."
      ],
      "metadata": {
        "id": "DygOPcWSRi9h"
      }
    },
    {
      "cell_type": "markdown",
      "source": [
        "Seuraavaksi määritellään syötteiden arvot."
      ],
      "metadata": {
        "id": "NaC0Wb09RjFB"
      }
    },
    {
      "cell_type": "code",
      "source": [
        "obj = [-1, -2]\n",
        "#      ─┬  ─┬\n",
        "#       │   └┤ y:n kerroin\n",
        "#       └────┤ x:n kerroin\n",
        "\n",
        "lhs_ineq = [[ 2,  1],  # Ensimmäisen rajoitteen vasen puoli\n",
        "            [-4,  5],  # Toisen rajoitteen vasen puoli\n",
        "            [ 1, -2]]  # Kolmannen rajoitteen vasen puoli\n",
        "\n",
        "rhs_ineq = [20,  # Ensimmäisen rajoitteen oikea puoli\n",
        "            10,  # Toisen rajoitteen oikea puoli\n",
        "             2]  # Kolmannen rajoitteen oikea puoli\n",
        "\n",
        "lhs_eq = [[-1, 5]]  # Neljännen rajoitteen vasen puoli\n",
        "rhs_eq = [15]       # Neljännen rajoitteen oikea puoli"
      ],
      "metadata": {
        "id": "nIxe3X3JzE-G"
      },
      "execution_count": 2,
      "outputs": []
    },
    {
      "cell_type": "markdown",
      "source": [
        "Yhtälösysteemin arvot sijoitetaan soveltuviin Pythonin listoihin, monikoihin ja Numpyn taulukoihin.\n",
        "\n",
        "* muuttujassa __obj__ ovat tavoitefunktiot kertoimet\n",
        "\n",
        "* muuttujassa __lhs_ineq__ ovat epäyhtälöissä olevien rajoitteiden vasempien puolien kertoimet\n",
        "\n",
        "* muuttujassa __rhs_ineq__ ovat epäyhtälöissä olevien rajoitteiden oikeiden puolien kertoimet\n",
        "\n",
        "* muuttujassa __lhs_eq__ ovat yhtälössä olevien rajoitteiden vasempien puolien kertoimet\n",
        "\n",
        "* muuttujassa __rhs_eq__ on yhtälössä olevan rajoitteen oikean puolen kerroin"
      ],
      "metadata": {
        "id": "-KsJhjAsRjJK"
      }
    },
    {
      "cell_type": "markdown",
      "source": [
        "__Huom__. On syytä olla tarkkana rivien ja sarakkeiden järjestyksien kanssa!\n",
        "\n",
        "Rajoitteiden vasemman ja oikean puolien järjestyksen on oltava samat. Kukin rivi edustaa aina yhtä rajoitetta.\n",
        "\n",
        "Tavoitefunktion kertoimien järjestyksen ja rajoitteiden vasempien puolien tulee vastata toisiaan. Kukin sarake edustaa yhtä päätösmuuttujaa."
      ],
      "metadata": {
        "id": "Bo132GLGRjNi"
      }
    },
    {
      "cell_type": "markdown",
      "source": [
        "Seuraavaksi määritellään muuttujien rajat samassa järjestyksessä kuin kertoimet. Tässä esimerkissä muuttujat voivat saada arvon nolla ja kaikki arvoja siitä ylöspäin."
      ],
      "metadata": {
        "id": "PgBWrtRwLQ-c"
      }
    },
    {
      "cell_type": "code",
      "source": [
        "bnd = [(0, float(\"inf\")), # Muuttujan x rajat\n",
        "       (0, float(\"inf\"))] # Muuttujan y rajat\n"
      ],
      "metadata": {
        "id": "K_irlOs6O0AV"
      },
      "execution_count": 3,
      "outputs": []
    },
    {
      "cell_type": "markdown",
      "source": [
        "Tämä määritelmä tosin on turha, sillä ne ovat funktion linprog() oletusarvot eli $[0,\\infty]$."
      ],
      "metadata": {
        "id": "nNTsiIcJYbJ-"
      }
    },
    {
      "cell_type": "markdown",
      "source": [
        "__Huom__. Edellä olevan <code>float(\"inf\")</code> sijasta voi käyttää myös <code>math.inf</code>, <code>numpy.inf</code> tai <code>scipy.inf</code>."
      ],
      "metadata": {
        "id": "HMKSWaaPYbyA"
      }
    },
    {
      "cell_type": "markdown",
      "source": [
        "Lopulta voidaan optimoida ja ratkaista käsillä oleva ongelma käyttäen funktiota _linprog()_."
      ],
      "metadata": {
        "id": "HhIuI6BdYb6P"
      }
    },
    {
      "cell_type": "code",
      "source": [
        "opt = linprog(c=obj, A_ub=lhs_ineq, b_ub=rhs_ineq,\n",
        "              A_eq=lhs_eq, b_eq=rhs_eq, bounds=bnd,\n",
        "              method=\"highs\")\n",
        "opt"
      ],
      "metadata": {
        "colab": {
          "base_uri": "https://localhost:8080/"
        },
        "id": "2UvIbp6VZntG",
        "outputId": "585f3981-7fbe-4f03-a944-0dd93eec295f"
      },
      "execution_count": 4,
      "outputs": [
        {
          "output_type": "execute_result",
          "data": {
            "text/plain": [
              "        message: Optimization terminated successfully. (HiGHS Status 7: Optimal)\n",
              "        success: True\n",
              "         status: 0\n",
              "            fun: -16.818181818181817\n",
              "              x: [ 7.727e+00  4.545e+00]\n",
              "            nit: 0\n",
              "          lower:  residual: [ 7.727e+00  4.545e+00]\n",
              "                 marginals: [ 0.000e+00  0.000e+00]\n",
              "          upper:  residual: [       inf        inf]\n",
              "                 marginals: [ 0.000e+00  0.000e+00]\n",
              "          eqlin:  residual: [ 0.000e+00]\n",
              "                 marginals: [-2.727e-01]\n",
              "        ineqlin:  residual: [ 0.000e+00  1.818e+01  3.364e+00]\n",
              "                 marginals: [-6.364e-01 -0.000e+00 -0.000e+00]\n",
              " mip_node_count: 0\n",
              " mip_dual_bound: 0.0\n",
              "        mip_gap: 0.0"
            ]
          },
          "metadata": {},
          "execution_count": 4
        }
      ]
    },
    {
      "cell_type": "markdown",
      "source": [
        "Yllä koodisolussa c viittaa tavoitefunktion kertoimiin kun taas A_ub ja b_ub viittaavat epäyhtälörajoitteiden vasempiin ja oikeisiin puoliin. Vastaavasti A_eq ja b_eq viittaavat yhtälörajoitteisiin. Parametrilla bounds voi asettaa päätösmuuttujille ala- ja ylärajat."
      ],
      "metadata": {
        "id": "MIB_R3ZSZyHn"
      }
    },
    {
      "cell_type": "markdown",
      "source": [
        "linprog() palauttaa seuraavat attribuutit\n",
        "\n",
        "* __.message__ on ratkaisun löytymisen tilannetieto\n",
        "\n",
        "* __.success__ on Boolean-arvoinen muuttuja, joka kertoo, löytyikö optimiarvo\n",
        "\n",
        "* __.status__ on kokonaisluku välillä 0 ja 4 ja se kertoo ratkaisun löytymisen tilanteen; nolla tarkoittaa, että optimiratkaisu on löytynyt\n",
        "\n",
        "* __.fun__ on tavoitefunktion optimiarvo, jos sellainen löydetään\n",
        "\n",
        "* __.x__ on NumPy:n taulukko, jossa on päätösmuuttujien optimiarvot\n",
        "\n",
        "* __.nit__ laskennassa tarvittujen toistojen määrä\n",
        "\n",
        "Lisätietoja löytyy [SciPy:n dokumentaatiosta](https://docs.scipy.org/doc/scipy/reference/optimize.linprog-highs.html).\n",
        "\n"
      ],
      "metadata": {
        "id": "5hVE-SGXcYHw"
      }
    },
    {
      "cell_type": "markdown",
      "source": [
        "Näihin voi viitata myös yksitellen."
      ],
      "metadata": {
        "id": "_wj69zQicZF5"
      }
    },
    {
      "cell_type": "code",
      "source": [
        "opt.fun"
      ],
      "metadata": {
        "colab": {
          "base_uri": "https://localhost:8080/"
        },
        "id": "W3V4qh5goM4V",
        "outputId": "cdef99cf-7315-47ce-fbdb-248c0a5d52d6"
      },
      "execution_count": 5,
      "outputs": [
        {
          "output_type": "execute_result",
          "data": {
            "text/plain": [
              "-16.818181818181817"
            ]
          },
          "metadata": {},
          "execution_count": 5
        }
      ]
    },
    {
      "cell_type": "code",
      "source": [
        "opt.success"
      ],
      "metadata": {
        "colab": {
          "base_uri": "https://localhost:8080/"
        },
        "id": "HXpw--FioUv8",
        "outputId": "94f4a439-178f-439e-b845-927624650678"
      },
      "execution_count": 6,
      "outputs": [
        {
          "output_type": "execute_result",
          "data": {
            "text/plain": [
              "True"
            ]
          },
          "metadata": {},
          "execution_count": 6
        }
      ]
    },
    {
      "cell_type": "code",
      "source": [
        "opt.x"
      ],
      "metadata": {
        "colab": {
          "base_uri": "https://localhost:8080/"
        },
        "id": "2spyi-OFoVJd",
        "outputId": "bff71141-c965-48c1-e54a-95fc5df7f79e"
      },
      "execution_count": 7,
      "outputs": [
        {
          "output_type": "execute_result",
          "data": {
            "text/plain": [
              "array([7.72727273, 4.54545455])"
            ]
          },
          "metadata": {},
          "execution_count": 7
        }
      ]
    },
    {
      "cell_type": "markdown",
      "source": [
        "Näin saatiin siis vastaukset optimointiongelmaan. Niitä voi tarkastella myös graafisesti.\n",
        "\n",
        "![Optimiratkaisu yhtäsuuruudella graafisesti](https://realpython.com/cdn-cgi/image/width=828,format=auto/https://files.realpython.com/media/lp-py-fig-5.11f20dcc5d6b.png)"
      ],
      "metadata": {
        "id": "DwIv2XhscZJ4"
      }
    },
    {
      "cell_type": "markdown",
      "source": [
        "Aiemmin jo totesimmekin, että optimiratkaisu löytyy mahdollisten ratkaisujen alueen pisteiden joukosta. Tässä tapauksessa mahdollisten ratkaisujen alue on vihreän viivan pisteet sinisen ja punaisen viivan välissä. Optimiratkaisu on kuvassa merkitty vihreällä neliöllä ja se on vihreän ja punaisen viivan leikkauspiste."
      ],
      "metadata": {
        "id": "olaPe4kGo-Yw"
      }
    },
    {
      "cell_type": "markdown",
      "source": [
        "Jos halutaan jättää huomiotta yhtäsuuruusrajoite (kuvassa vihreä), jätetään koodista pois parametrit A_eq ja b_eq."
      ],
      "metadata": {
        "id": "6OvZ-Ajzpwvx"
      }
    },
    {
      "cell_type": "code",
      "source": [
        "opt = linprog(c=obj, A_ub=lhs_ineq, b_ub=rhs_ineq, bounds=bnd,\n",
        "              method=\"highs\")\n",
        "\n",
        "opt"
      ],
      "metadata": {
        "colab": {
          "base_uri": "https://localhost:8080/"
        },
        "id": "56HauenqqGsv",
        "outputId": "f1a33073-53e3-4479-f816-c733892f1ce4"
      },
      "execution_count": 8,
      "outputs": [
        {
          "output_type": "execute_result",
          "data": {
            "text/plain": [
              "        message: Optimization terminated successfully. (HiGHS Status 7: Optimal)\n",
              "        success: True\n",
              "         status: 0\n",
              "            fun: -20.714285714285715\n",
              "              x: [ 6.429e+00  7.143e+00]\n",
              "            nit: 2\n",
              "          lower:  residual: [ 6.429e+00  7.143e+00]\n",
              "                 marginals: [ 0.000e+00  0.000e+00]\n",
              "          upper:  residual: [       inf        inf]\n",
              "                 marginals: [ 0.000e+00  0.000e+00]\n",
              "          eqlin:  residual: []\n",
              "                 marginals: []\n",
              "        ineqlin:  residual: [ 0.000e+00  0.000e+00  9.857e+00]\n",
              "                 marginals: [-9.286e-01 -2.143e-01 -0.000e+00]\n",
              " mip_node_count: 0\n",
              " mip_dual_bound: 0.0\n",
              "        mip_gap: 0.0"
            ]
          },
          "metadata": {},
          "execution_count": 8
        }
      ]
    },
    {
      "cell_type": "markdown",
      "source": [
        "Tämä ratkaisu eroaa edellisestä, ks. seuraava kuva.\n",
        "\n",
        "![Optimiratkaisu ilman yhtäsuuruutta graafisesti](https://realpython.com/cdn-cgi/image/width=828,format=auto/https://files.realpython.com/media/lp-py-fig-4.8a846634edca.png)"
      ],
      "metadata": {
        "id": "_QTNKc4-qdjY"
      }
    },
    {
      "cell_type": "markdown",
      "source": [
        "Tässä esimerkissä optimiratkaisu on mahdollisten arvojen alueella (kuvassa harmaa) merkitty violetti piste, jossa sininen ja punainen rajoite leikkaavat. Muissa pisteissä, kuten kuvan keltaisessa neliössä, tavoitefunktiolla on suurempia arvoja."
      ],
      "metadata": {
        "id": "vAYJibW3q7tR"
      }
    },
    {
      "cell_type": "markdown",
      "source": [
        "## Esimerkki 2"
      ],
      "metadata": {
        "id": "m0P-I6G_r5PI"
      }
    },
    {
      "cell_type": "markdown",
      "source": [
        "Sovelletaan SciPy-kirjastoa myös toiseen esimerkkiin, johon aiemmin tutustuttiin.\n",
        "\n",
        "$$\\textrm{max } 20 x_1 + 12 x_2 + 40 x_3 + 25 x_4 \\textrm{ (tuotto)}$$\n",
        "\n",
        "olettaen, että\n",
        "\n",
        "$$x_1 + x_2 + x_3 + x_4 \\leq 50 \\textrm{ (työvoima)}$$\n",
        "\n",
        "$$3 x_1 + 2 x_2 + x_3 \\leq 100 \\textrm{ (materiaali A)}$$\n",
        "\n",
        "$$x_2 + 2 x_3 + 3 x_4 \\leq 90 \\textrm{ (materiaali B)}$$\n",
        "\n",
        "$$x_1, x_2, x_3, x_4 \\geq 0$$"
      ],
      "metadata": {
        "id": "TigIUYMOr5ZI"
      }
    },
    {
      "cell_type": "markdown",
      "source": [
        "Edellistä esimerkkiä mukaillen, otetaan näistä ehdoista tarvittavat vektorit ja matriisit ja syötetään ne linprog():n argumenteiksi."
      ],
      "metadata": {
        "id": "PaLL4sBgskTB"
      }
    },
    {
      "cell_type": "code",
      "source": [
        "obj = [-20, -12, -40, -25]\n",
        "\n",
        "lhs_ineq = [[1, 1, 1, 1],  # Työvoima\n",
        "            [3, 2, 1, 0],  # Materiaali A\n",
        "            [0, 1, 2, 3]]  # Materiaali B\n",
        "\n",
        "rhs_ineq = [ 50,  # Työvoima\n",
        "             100,  # Materiaali A\n",
        "             90]  # Materiaali B\n",
        "\n",
        "opt = linprog(c=obj, A_ub=lhs_ineq, b_ub=rhs_ineq,\n",
        "              method=\"highs\")\n",
        "opt"
      ],
      "metadata": {
        "colab": {
          "base_uri": "https://localhost:8080/"
        },
        "id": "bXYoEPeos8uQ",
        "outputId": "98270795-cbdd-4e23-fecb-cd88d0f2f717"
      },
      "execution_count": 9,
      "outputs": [
        {
          "output_type": "execute_result",
          "data": {
            "text/plain": [
              "        message: Optimization terminated successfully. (HiGHS Status 7: Optimal)\n",
              "        success: True\n",
              "         status: 0\n",
              "            fun: -1900.0\n",
              "              x: [ 5.000e+00  0.000e+00  4.500e+01  0.000e+00]\n",
              "            nit: 4\n",
              "          lower:  residual: [ 5.000e+00  0.000e+00  4.500e+01  0.000e+00]\n",
              "                 marginals: [ 0.000e+00  1.800e+01  0.000e+00  2.500e+01]\n",
              "          upper:  residual: [       inf        inf        inf        inf]\n",
              "                 marginals: [ 0.000e+00  0.000e+00  0.000e+00  0.000e+00]\n",
              "          eqlin:  residual: []\n",
              "                 marginals: []\n",
              "        ineqlin:  residual: [ 0.000e+00  4.000e+01  0.000e+00]\n",
              "                 marginals: [-2.000e+01 -0.000e+00 -1.000e+01]\n",
              " mip_node_count: 0\n",
              " mip_dual_bound: 0.0\n",
              "        mip_gap: 0.0"
            ]
          },
          "metadata": {},
          "execution_count": 9
        }
      ]
    },
    {
      "cell_type": "markdown",
      "source": [
        "Ratkaisun mukaan maksimituotto on 1900 ja se saavutetaan, kun $x_1=5$ ja $x_3=45$. Ei ole tuottoisaa valmistaa toista ja neljättä tuotetta annetuilla ehdoilla. Tästä voidaan tehdä seuraavia huomioita.\n",
        "\n",
        "1. Kolmas tuote tuo suurimman katteen tuotetta kohden, joten tehdas valmistaa sitä eniten.\n",
        "\n",
        "2. Ensimmäinen _ineqlin_ jäännösarvo on nolla, mikä tarkoittaa, että työvoima-rajoitteen (ensimmäinen rajoite) epäyhtälössä vasen ja oikea puoli ovat yhtä suuret. Tehdas siis tuottaa 50 yksikköä tuotteita päivittäin eli täyden kapasiteetin verran.\n",
        "\n",
        "3. Toinen _ineqlin_ jäännösarvo on 40, koska tehdas käyttää 60 yksikköä raakamateriaalia A (15 yksikköä ensimmäiseen ja 45 yksikköä kolmanteen tuotteeseen) mahdollisista sadasta yksiköstä.\n",
        "\n",
        "4. Kolmas _ineqlin_ jäännösarvo on nolla, mikä tarkoittaa, että tehdas käyttää kaikki käytettävissä olevat 90 yksikköä raakamateriaalia B. Tuo kaikki menee kolmanteen tuotteeseen. Tästä syystä tehdas ei pysty tuottamaan toista eikä neljättä tuotetta lainkaan eikä myöskään enempää kuin 45 yksikköä kolmatta tuotetta. Materiaalia B ei ole käytettävissä enempää."
      ],
      "metadata": {
        "id": "9yKIBIift27Z"
      }
    },
    {
      "cell_type": "markdown",
      "source": [
        "Koska opt.status on nolla ja opt.success on tosi, optimointiongelma ratkaistiin onnistuneesti ja optimiratkaisu löydettiin."
      ],
      "metadata": {
        "id": "nGwV9Sxqzlh0"
      }
    },
    {
      "cell_type": "markdown",
      "source": [
        "SciPy:n voimavarat lineaarisessa optimoinnissa ovat rajalliset ja se sovltuu siksi lähinnä pieniin ongelmiin. Isoihin, monimutkaisiin ongelmiin on syytä käyttää muita kirjastoja. Tähän on seuraavia syitä.\n",
        "\n",
        "* SciPy:n kautta ei voi hyödyntää ulkopuolisia ratkaisualgoritmeja.\n",
        "\n",
        "* SciPy ei toimi kokonaislukuarvoisilla päätösmuuttujilla.\n",
        "\n",
        "* SciPy ei tarjoa luokkia tai funktioita mallien rakentamiseen. Käyttäjän on määriteltävä taulukot ja matriisit itse. Se voi olla väsyttävää ja virhealtista työtä erityisesti isojen ja mutkikkaiden ongelmien tapauksessa.\n",
        "\n",
        "* SciPy ei tarjoa mahdollisuutta ratkaista maksimointiongelmia suoraan. Ongelmat on käännettävä minimointiongelmiksi.\n",
        "\n",
        "* SciPy ei tarjoa mahdollisuutta ratkaista suurempi tai yhtäsuuri kuin -rajoitteita suoraan. Ne on ensin muutettava pienempi tai yhtäsuuri -rajoitteiksi.\n",
        "\n",
        "Pythonin ekosysteemissä on kuitenkin vaihtoehtoisia ratkaisuja lineaarisiin optimointiongelmiin, jotka soveltuvat myös isojen ja mutkikkaiden ongelmien tapauksissa. Ykjsi niistä on seuraavaksi esiteltävä _PuLP_."
      ],
      "metadata": {
        "id": "x9Vz8JUFz-5c"
      }
    },
    {
      "cell_type": "markdown",
      "source": [
        "## PuLP"
      ],
      "metadata": {
        "id": "Q-FjN1L021pV"
      }
    },
    {
      "cell_type": "markdown",
      "source": [
        "PuLP:issa on SciPy:ä miellyttävämpi ohjelmointirajapinta. Siinä ei tarvitse matemaattisesti muokata annettuja rajoitteita tai käyttää vektoreita tai matriiseja."
      ],
      "metadata": {
        "id": "tmJ7fDi826Zt"
      }
    },
    {
      "cell_type": "code",
      "source": [
        "!pip install pulp"
      ],
      "metadata": {
        "colab": {
          "base_uri": "https://localhost:8080/"
        },
        "id": "lFB1X2Twj_zi",
        "outputId": "25e93880-5628-4268-97e0-ffab354fb80d"
      },
      "execution_count": 10,
      "outputs": [
        {
          "output_type": "stream",
          "name": "stdout",
          "text": [
            "Collecting pulp\n",
            "  Downloading PuLP-2.9.0-py3-none-any.whl.metadata (5.4 kB)\n",
            "Downloading PuLP-2.9.0-py3-none-any.whl (17.7 MB)\n",
            "\u001b[2K   \u001b[90m━━━━━━━━━━━━━━━━━━━━━━━━━━━━━━━━━━━━━━━━\u001b[0m \u001b[32m17.7/17.7 MB\u001b[0m \u001b[31m25.0 MB/s\u001b[0m eta \u001b[36m0:00:00\u001b[0m\n",
            "\u001b[?25hInstalling collected packages: pulp\n",
            "Successfully installed pulp-2.9.0\n"
          ]
        }
      ]
    },
    {
      "cell_type": "code",
      "source": [
        "# Tuodaan kirjastot\n",
        "\n",
        "from  pulp import LpMaximize, LpProblem, LpStatus, lpSum, LpVariable"
      ],
      "metadata": {
        "id": "sccL1d_43_6O"
      },
      "execution_count": 11,
      "outputs": []
    },
    {
      "cell_type": "markdown",
      "source": [
        "Nyt ollaankin valmiita optimoimaan."
      ],
      "metadata": {
        "id": "wlHDz_ze4ZdJ"
      }
    },
    {
      "cell_type": "markdown",
      "source": [
        "## Esimerkki 1"
      ],
      "metadata": {
        "id": "7V1DewbO4e0m"
      }
    },
    {
      "cell_type": "markdown",
      "source": [
        "Ratkaistaan alussa esitelty lineaarinen optimointiongelma käyttäen PuLP:a:\n",
        "\n",
        "Maksimoidaan:\n",
        "$$z=x+2y$$\n",
        "\n",
        "Rajoitteina:\n",
        "\n",
        "$$2x+y\\leq 20$$\n",
        "$$-4x+5y\\leq 10$$\n",
        "$$-x + 2y\\geq -2$$\n",
        "$$-x + 5y = 15$$\n",
        "$$x\\geq 0$$\n",
        "$$y \\geq 0$$\n"
      ],
      "metadata": {
        "id": "ftn5R-jS4e30"
      }
    },
    {
      "cell_type": "markdown",
      "source": [
        "Ensin on luotava ongelmaa vastaa [LpProblem](https://www.coin-or.org/PuLP/pulp.html#pulp.LpProblem)-malli ja annettava sille alkuarvot."
      ],
      "metadata": {
        "id": "jGpeTfGB4fm3"
      }
    },
    {
      "cell_type": "code",
      "source": [
        "# Luodaan malli\n",
        "\n",
        "model = LpProblem(name=\"small-problem\", sense=LpMaximize)"
      ],
      "metadata": {
        "id": "jr4yOtvq5Od1"
      },
      "execution_count": 12,
      "outputs": []
    },
    {
      "cell_type": "markdown",
      "source": [
        "Parametrilla _sense_ ilmoitetaan, onko kyseessä maksimointi- vai minimointiongelma. Oletusarvo on minimointi (LpMinimize tai 1), maksimoitaessa valitaan LpMaximize tai -1."
      ],
      "metadata": {
        "id": "9Q7_mrqk4f0u"
      }
    },
    {
      "cell_type": "markdown",
      "source": [
        "Kun malli on luotu, voidaan määritellä päätösmuuttujat luokan LpVariable tapauksina."
      ],
      "metadata": {
        "id": "XYCpBSUb704J"
      }
    },
    {
      "cell_type": "code",
      "source": [
        "# Alustetaan päätösmuuttujat\n",
        "\n",
        "x = LpVariable(name=\"x\", lowBound=0)\n",
        "y = LpVariable(name=\"y\", lowBound=0)"
      ],
      "metadata": {
        "id": "oShXtlp98LZg"
      },
      "execution_count": 13,
      "outputs": []
    },
    {
      "cell_type": "markdown",
      "source": [
        "Oletusarvona alarajalle on negatiivinen ääretön $-\\infty$, joten tässä esimerkissä on annettava alaraja _lowBound_, koska muuttujien arvot eivät rajoitteiden mukaan ole negatiivisia. Parametrilla _upBound_ voi tarvittaessa määrittää ylärajan. Oletusarvo sille on $+\\infty$."
      ],
      "metadata": {
        "id": "ZAgdihJn8T3x"
      }
    },
    {
      "cell_type": "markdown",
      "source": [
        "Valinnaisella parametrilla _cat_ voi määrittää päätösmuuttujan kategorian. Oletusarvo on \"_Continuous_\", joka sopii jatkuvien muuttujien tapaukseen."
      ],
      "metadata": {
        "id": "KQiGclCw9Yq6"
      }
    },
    {
      "cell_type": "markdown",
      "source": [
        "Muuttujia $x$ ja $y$ voidaan nyt käyttää muiden PuLP-objektien luomiseen. Näitä käytetään lineaaristen yhtälöiden ja rajoitteiden ilmaisemiseen."
      ],
      "metadata": {
        "id": "nql-9Otf9-U8"
      }
    },
    {
      "cell_type": "code",
      "source": [
        "expression = 2 * x + 4 * y\n",
        "type(expression)"
      ],
      "metadata": {
        "colab": {
          "base_uri": "https://localhost:8080/",
          "height": 186
        },
        "id": "OpsMbqh0-cB6",
        "outputId": "d3615c08-a5a5-433b-f9e3-3cf8b6ffdfd1"
      },
      "execution_count": 14,
      "outputs": [
        {
          "output_type": "execute_result",
          "data": {
            "text/plain": [
              "pulp.pulp.LpAffineExpression"
            ],
            "text/html": [
              "<div style=\"max-width:800px; border: 1px solid var(--colab-border-color);\"><style>\n",
              "      pre.function-repr-contents {\n",
              "        overflow-x: auto;\n",
              "        padding: 8px 12px;\n",
              "        max-height: 500px;\n",
              "      }\n",
              "\n",
              "      pre.function-repr-contents.function-repr-contents-collapsed {\n",
              "        cursor: pointer;\n",
              "        max-height: 100px;\n",
              "      }\n",
              "    </style>\n",
              "    <pre style=\"white-space: initial; background:\n",
              "         var(--colab-secondary-surface-color); padding: 8px 12px;\n",
              "         border-bottom: 1px solid var(--colab-border-color);\"><b>pulp.pulp.LpAffineExpression</b><br/>def __init__(e=None, constant=0, name=None)</pre><pre class=\"function-repr-contents function-repr-contents-collapsed\" style=\"\"><a class=\"filepath\" style=\"display:none\" href=\"#\">/usr/local/lib/python3.10/dist-packages/pulp/pulp.py</a>A linear combination of :class:`LpVariables&lt;LpVariable&gt;`.\n",
              "Can be initialised with the following:\n",
              "\n",
              "#.   e = None: an empty Expression\n",
              "#.   e = dict: gives an expression with the values being the coefficients of the keys (order of terms is undetermined)\n",
              "#.   e = list or generator of 2-tuples: equivalent to dict.items()\n",
              "#.   e = LpElement: an expression of length 1 with the coefficient 1\n",
              "#.   e = other: the constant is initialised as e\n",
              "\n",
              "Examples:\n",
              "\n",
              "   &gt;&gt;&gt; f=LpAffineExpression(LpElement(&#x27;x&#x27;))\n",
              "   &gt;&gt;&gt; f\n",
              "   1*x + 0\n",
              "   &gt;&gt;&gt; x_name = [&#x27;x_0&#x27;, &#x27;x_1&#x27;, &#x27;x_2&#x27;]\n",
              "   &gt;&gt;&gt; x = [LpVariable(x_name[i], lowBound = 0, upBound = 10) for i in range(3) ]\n",
              "   &gt;&gt;&gt; c = LpAffineExpression([ (x[0],1), (x[1],-3), (x[2],4)])\n",
              "   &gt;&gt;&gt; c\n",
              "   1*x_0 + -3*x_1 + 4*x_2 + 0</pre>\n",
              "      <script>\n",
              "      if (google.colab.kernel.accessAllowed && google.colab.files && google.colab.files.view) {\n",
              "        for (const element of document.querySelectorAll('.filepath')) {\n",
              "          element.style.display = 'block'\n",
              "          element.onclick = (event) => {\n",
              "            event.preventDefault();\n",
              "            event.stopPropagation();\n",
              "            google.colab.files.view(element.textContent, 633);\n",
              "          };\n",
              "        }\n",
              "      }\n",
              "      for (const element of document.querySelectorAll('.function-repr-contents')) {\n",
              "        element.onclick = (event) => {\n",
              "          event.preventDefault();\n",
              "          event.stopPropagation();\n",
              "          element.classList.toggle('function-repr-contents-collapsed');\n",
              "        };\n",
              "      }\n",
              "      </script>\n",
              "      </div>"
            ]
          },
          "metadata": {},
          "execution_count": 14
        }
      ]
    },
    {
      "cell_type": "code",
      "source": [
        "constraint = 2 * x + 4 * y >= 8\n",
        "type(constraint)"
      ],
      "metadata": {
        "colab": {
          "base_uri": "https://localhost:8080/",
          "height": 120
        },
        "id": "iS13eWik-xSB",
        "outputId": "c6727439-d8ff-4a1d-ddf6-026349916040"
      },
      "execution_count": 15,
      "outputs": [
        {
          "output_type": "execute_result",
          "data": {
            "text/plain": [
              "pulp.pulp.LpConstraint"
            ],
            "text/html": [
              "<div style=\"max-width:800px; border: 1px solid var(--colab-border-color);\"><style>\n",
              "      pre.function-repr-contents {\n",
              "        overflow-x: auto;\n",
              "        padding: 8px 12px;\n",
              "        max-height: 500px;\n",
              "      }\n",
              "\n",
              "      pre.function-repr-contents.function-repr-contents-collapsed {\n",
              "        cursor: pointer;\n",
              "        max-height: 100px;\n",
              "      }\n",
              "    </style>\n",
              "    <pre style=\"white-space: initial; background:\n",
              "         var(--colab-secondary-surface-color); padding: 8px 12px;\n",
              "         border-bottom: 1px solid var(--colab-border-color);\"><b>pulp.pulp.LpConstraint</b><br/>def __init__(e=None, sense=const.LpConstraintEQ, name=None, rhs=None)</pre><pre class=\"function-repr-contents function-repr-contents-collapsed\" style=\"\"><a class=\"filepath\" style=\"display:none\" href=\"#\">/usr/local/lib/python3.10/dist-packages/pulp/pulp.py</a>An LP constraint</pre>\n",
              "      <script>\n",
              "      if (google.colab.kernel.accessAllowed && google.colab.files && google.colab.files.view) {\n",
              "        for (const element of document.querySelectorAll('.filepath')) {\n",
              "          element.style.display = 'block'\n",
              "          element.onclick = (event) => {\n",
              "            event.preventDefault();\n",
              "            event.stopPropagation();\n",
              "            google.colab.files.view(element.textContent, 997);\n",
              "          };\n",
              "        }\n",
              "      }\n",
              "      for (const element of document.querySelectorAll('.function-repr-contents')) {\n",
              "        element.onclick = (event) => {\n",
              "          event.preventDefault();\n",
              "          event.stopPropagation();\n",
              "          element.classList.toggle('function-repr-contents-collapsed');\n",
              "        };\n",
              "      }\n",
              "      </script>\n",
              "      </div>"
            ]
          },
          "metadata": {},
          "execution_count": 15
        }
      ]
    },
    {
      "cell_type": "markdown",
      "source": [
        "Kun päätösmuuttuja kerrotaan jollain luvulla tai rakennetaan lineaarinen yhtälöryhmä useasta päätösmuuttujasta, tuloksena on [pulp.LpAffineExpression](https://coin-or.github.io/pulp/technical/pulp.html#pulp.LpAffineExpression)-instanssi."
      ],
      "metadata": {
        "id": "KpE7LmTs_ndk"
      }
    },
    {
      "cell_type": "markdown",
      "source": [
        "__Huom__. Muuttujia tai lausekkeita voi lisätä tai vähentää toisistaan sekä niitä kertoa vakiolla, sillä PuLP:in luokat käyttävät Pythonin numeerisia menetelmiä jäljitteleviä menetelmiä. Näitä toimintoja käytetään perinteisillä symboleilla $+$, $-$ ja $*$."
      ],
      "metadata": {
        "id": "eYyh96AC_oQj"
      }
    },
    {
      "cell_type": "markdown",
      "source": [
        "Samalla tavalla lineaarisia lausekkeita, muuttujia ja skalaareja voi yhdistellä käyttäen loogisia operaattoreita $==$, $<=$ tai $>=$. Tuloksena on [pulp.LpConstraint](https://coin-or.github.io/pulp/technical/pulp.html#pulp.LpConstraint)-instansseja, jotka edustavat mallin rajoitteita."
      ],
      "metadata": {
        "id": "Imb4erFW_oTt"
      }
    },
    {
      "cell_type": "markdown",
      "source": [
        "Seuraavaksi malliin lisätäänkin rajoitteet ja tavoitefunktio. Tämä voidaan tehdä Pythonin lausekkeilla ja malliin lisääminen tapahtuu operaattorilla $+=$."
      ],
      "metadata": {
        "id": "wdepRgT0_ofy"
      }
    },
    {
      "cell_type": "code",
      "source": [
        "# Lisätään malliin rajoitteet\n",
        "\n",
        "model += (2 * x + y <= 20, \"punainen suora\")\n",
        "model += (4 * x - 5 * y >= -10, \"sininen suora\")\n",
        "model += (-x + 2 * y >= -2, \"keltainen suora\")\n",
        "model += (-x + 5 * y == 15, \"vihreä suora\")"
      ],
      "metadata": {
        "id": "Mo8iuEAKEVbi"
      },
      "execution_count": 16,
      "outputs": []
    },
    {
      "cell_type": "markdown",
      "source": [
        "Edellä määriteltiin monikko, joka sisältää rajoitteet ja niiden nimet. LpProblem antaa mahdollisuuden rajoitteiden lisäämisen malliin mahdollistamalla useamman parametrin. Ensimmäinen niistä on LpConstraint-instanssi, toinen on ihmisen luettava nimi rajoitteelle."
      ],
      "metadata": {
        "id": "N0JQwno0D8t6"
      }
    },
    {
      "cell_type": "markdown",
      "source": [
        "Tavoitefunktion lisääminen sujuu vastaavasti."
      ],
      "metadata": {
        "id": "G0RqvVSjD8xD"
      }
    },
    {
      "cell_type": "code",
      "source": [
        "# Lisätään malliin tavoitefunktio\n",
        "\n",
        "obj_func = x + 2 * y\n",
        "model += obj_func"
      ],
      "metadata": {
        "id": "XlLHJylUG09d"
      },
      "execution_count": 17,
      "outputs": []
    },
    {
      "cell_type": "markdown",
      "source": [
        "Tämän voi tehdä lyhyemminkin."
      ],
      "metadata": {
        "id": "DgpxX8STG9PJ"
      }
    },
    {
      "cell_type": "code",
      "source": [
        "# Lisätään malliin tavoitefunktio\n",
        "\n",
        "model += x + 2 * y"
      ],
      "metadata": {
        "colab": {
          "base_uri": "https://localhost:8080/"
        },
        "id": "38AXCmvlG94C",
        "outputId": "6169b162-5542-4be7-d0d8-7d3aa8ecc90a"
      },
      "execution_count": 18,
      "outputs": [
        {
          "output_type": "stream",
          "name": "stderr",
          "text": [
            "/usr/local/lib/python3.10/dist-packages/pulp/pulp.py:1650: UserWarning: Overwriting previously set objective.\n",
            "  warnings.warn(\"Overwriting previously set objective.\")\n"
          ]
        }
      ]
    },
    {
      "cell_type": "markdown",
      "source": [
        "Näin on saatu rajoitteet ja tavoitefunktio lisättyä ja malli määriteltyä."
      ],
      "metadata": {
        "id": "xs_35xz_HKP-"
      }
    },
    {
      "cell_type": "markdown",
      "source": [
        "Isompiin optimointiongelmiin on usein sujuvampaa käyttää funktiota [_lpSum()_](https://www.coin-or.org/PuLP/pulp.html#pulp.lpSum) ja lisätä lista tai toinen jono sen sijaan, että toistaisi $+$-toimintoa. Esimerkiksi tavoitefunktion voisi lisätä myös seuraavasti."
      ],
      "metadata": {
        "id": "UtJiL1PkIGBP"
      }
    },
    {
      "cell_type": "code",
      "source": [
        "# Lisätään malliin tavoitefunktio\n",
        "\n",
        "model += lpSum([x, 2 * y])"
      ],
      "metadata": {
        "id": "C7_pgtt-HKfX"
      },
      "execution_count": 19,
      "outputs": []
    },
    {
      "cell_type": "markdown",
      "source": [
        "Lopputulos on samakuin edellä olevassa koodissa."
      ],
      "metadata": {
        "id": "zaUQ9Bf0JdAe"
      }
    },
    {
      "cell_type": "markdown",
      "source": [
        "Tutustutaan vielä määriteltyyn malliin ja katsotaan, että kaikki on kohdallaan. Tavoitefunktion, rajoitteet ja päätösmuuttujat ja näiden nimet voi tarkistaa seuraavasti."
      ],
      "metadata": {
        "id": "gTet7bLjJvRG"
      }
    },
    {
      "cell_type": "code",
      "source": [
        "model"
      ],
      "metadata": {
        "colab": {
          "base_uri": "https://localhost:8080/"
        },
        "id": "En19sk8QJ35G",
        "outputId": "4455431e-54e2-465d-b308-7d4dbac0514a"
      },
      "execution_count": 20,
      "outputs": [
        {
          "output_type": "execute_result",
          "data": {
            "text/plain": [
              "small-problem:\n",
              "MAXIMIZE\n",
              "1*x + 2*y + 0\n",
              "SUBJECT TO\n",
              "punainen_suora: 2 x + y <= 20\n",
              "\n",
              "sininen_suora: 4 x - 5 y >= -10\n",
              "\n",
              "keltainen_suora: - x + 2 y >= -2\n",
              "\n",
              "vihreä_suora: - x + 5 y = 15\n",
              "\n",
              "VARIABLES\n",
              "x Continuous\n",
              "y Continuous"
            ]
          },
          "metadata": {},
          "execution_count": 20
        }
      ]
    },
    {
      "cell_type": "markdown",
      "source": [
        "Lopulta päästään ratkaisemaan itse optimointiongelma. Tämä taphtuu funktiolla [_.solve()_](https://www.coin-or.org/PuLP/pulp.html#pulp.LpProblem.solve). Jos oletusalgoritmi CBC riittää, argumentteja ei tarvita."
      ],
      "metadata": {
        "id": "yrb3SxlFKhay"
      }
    },
    {
      "cell_type": "code",
      "source": [
        "# Ratkaistaan optimointiongelma\n",
        "\n",
        "status = model.solve()"
      ],
      "metadata": {
        "id": "gVbbWzg0K9gS"
      },
      "execution_count": 21,
      "outputs": []
    },
    {
      "cell_type": "markdown",
      "source": [
        ".solve() käyttää oletusalgoritmia, muokkaa model-objektia ja palauttaa ratkaisun tilanteen kokonaislukuna, joka on yksi, mikäli optimiratkaisu löytyy. Muita mahdollisia tilannekoodeja löytyy [LpStatus[]-dokumentaatiosta](https://www.coin-or.org/PuLP/constants.html#pulp.constants.LpStatus)."
      ],
      "metadata": {
        "id": "LC9t9kPDMGjC"
      }
    },
    {
      "cell_type": "markdown",
      "source": [
        "Malli sisältää nyt myös optimointiratkaisun tuloksen ja muutakin tietoa. Niiden lukemisessa auttanevat seuraavien rivien koodit."
      ],
      "metadata": {
        "id": "E4V4HnbMMIGu"
      }
    },
    {
      "cell_type": "code",
      "source": [
        "# Optimointiratkaisun tilanne\n",
        "\n",
        "print(f\"status: {model.status}, {LpStatus[model.status]}\")"
      ],
      "metadata": {
        "colab": {
          "base_uri": "https://localhost:8080/"
        },
        "id": "HWlcIZrPVDJj",
        "outputId": "fbc3a5fa-4266-485c-82e9-7b6271ba4fb7"
      },
      "execution_count": 27,
      "outputs": [
        {
          "output_type": "stream",
          "name": "stdout",
          "text": [
            "status: 1, Optimal\n"
          ]
        }
      ]
    },
    {
      "cell_type": "code",
      "source": [
        "# Optimointiongelman tavoiteratkaisu\n",
        "\n",
        "print(f\"objective: {model.objective.value()}\")"
      ],
      "metadata": {
        "colab": {
          "base_uri": "https://localhost:8080/"
        },
        "id": "DQMKg86kVFXJ",
        "outputId": "95378bd6-0fcf-492e-bcf9-f1327107c942"
      },
      "execution_count": 28,
      "outputs": [
        {
          "output_type": "stream",
          "name": "stdout",
          "text": [
            "objective: 16.8181817\n"
          ]
        }
      ]
    },
    {
      "cell_type": "code",
      "source": [
        "# Päätösmuuttujien arvot\n",
        "\n",
        "for var in model.variables():\n",
        "    print(f\"{var.name}: {var.value()}\")"
      ],
      "metadata": {
        "colab": {
          "base_uri": "https://localhost:8080/"
        },
        "id": "wTJpLrsDVFbB",
        "outputId": "9c29888e-1ac9-435a-e418-658f9fa53330"
      },
      "execution_count": 29,
      "outputs": [
        {
          "output_type": "stream",
          "name": "stdout",
          "text": [
            "x: 7.7272727\n",
            "y: 4.5454545\n"
          ]
        }
      ]
    },
    {
      "cell_type": "code",
      "source": [
        "# Rajoitteet\n",
        "\n",
        "for name, constraint in model.constraints.items():\n",
        "    print(f\"{name}: {constraint.value()}\")\n"
      ],
      "metadata": {
        "id": "3LIxrIa0MIU9",
        "colab": {
          "base_uri": "https://localhost:8080/"
        },
        "outputId": "30734991-0139-4ce8-9bba-ad19fbe30b68"
      },
      "execution_count": 30,
      "outputs": [
        {
          "output_type": "stream",
          "name": "stdout",
          "text": [
            "punainen_suora: -9.99999993922529e-08\n",
            "sininen_suora: 18.181818300000003\n",
            "keltainen_suora: 3.3636362999999996\n",
            "vihreä_suora: -2.0000000233721948e-07\n"
          ]
        }
      ]
    },
    {
      "cell_type": "markdown",
      "source": [
        "_malli.objective_ sisältää siis tavoitefunktion optimiarvon, _malli.constraints_ täytemuuttujien arvot, $x$:llä ja $y$:llä on kohdemuuttujien optimiarvot ja _malli.variables()_ palauttaa listan päätösmuuttujista."
      ],
      "metadata": {
        "id": "rf8CCRGdMJVM"
      }
    },
    {
      "cell_type": "code",
      "source": [
        "model.variables()"
      ],
      "metadata": {
        "id": "vrJyXksGMJfK",
        "colab": {
          "base_uri": "https://localhost:8080/"
        },
        "outputId": "f0bd0bb6-425b-49c9-bbed-7378541ebd95"
      },
      "execution_count": 32,
      "outputs": [
        {
          "output_type": "execute_result",
          "data": {
            "text/plain": [
              "[x, y]"
            ]
          },
          "metadata": {},
          "execution_count": 32
        }
      ]
    },
    {
      "cell_type": "code",
      "source": [
        "model.variables()[0] is x"
      ],
      "metadata": {
        "colab": {
          "base_uri": "https://localhost:8080/"
        },
        "id": "2fgcC2NvYtVW",
        "outputId": "b14bbf41-b8e4-4b48-af8c-51c47b7f5ede"
      },
      "execution_count": 33,
      "outputs": [
        {
          "output_type": "execute_result",
          "data": {
            "text/plain": [
              "True"
            ]
          },
          "metadata": {},
          "execution_count": 33
        }
      ]
    },
    {
      "cell_type": "code",
      "source": [
        ">>> model.variables()[1] is y"
      ],
      "metadata": {
        "colab": {
          "base_uri": "https://localhost:8080/"
        },
        "id": "GpYGFG7oYtbw",
        "outputId": "e6cf8c6f-7c51-44d7-a399-0c3e5e1ec682"
      },
      "execution_count": 34,
      "outputs": [
        {
          "output_type": "execute_result",
          "data": {
            "text/plain": [
              "True"
            ]
          },
          "metadata": {},
          "execution_count": 34
        }
      ]
    },
    {
      "cell_type": "markdown",
      "source": [
        "Lista sisältää siis kaikki ne muuttujat, jotka luotiin yllä käyttäen LpVariable:a hyödyntäen."
      ],
      "metadata": {
        "id": "mOgxWAs8MKe-"
      }
    },
    {
      "cell_type": "markdown",
      "source": [
        "Edellä saadut tulokset ovat suurin piirtein samat kuin SciPy:llä lasketut."
      ],
      "metadata": {
        "id": "e8uTCTMiMKjE"
      }
    },
    {
      "cell_type": "markdown",
      "source": [
        "__Huom__. Ole varovainen soveltaessa .solve()-toimintoa. Se muuttaa $x$:n ja $y$:n arvoja."
      ],
      "metadata": {
        "id": "WymUsjFlaKVQ"
      }
    },
    {
      "cell_type": "markdown",
      "source": [
        "Tarkistetaan myös käytetty ratkaisualgoritmi .solver:lla."
      ],
      "metadata": {
        "id": "xcrQWkt_aaPI"
      }
    },
    {
      "cell_type": "code",
      "source": [
        "# Ratkaisualgoritmi\n",
        "\n",
        "model.solver"
      ],
      "metadata": {
        "id": "5vlwNCf2MKzF",
        "colab": {
          "base_uri": "https://localhost:8080/"
        },
        "outputId": "83191ae2-9283-45b8-f734-fb1660ed224e"
      },
      "execution_count": 35,
      "outputs": [
        {
          "output_type": "execute_result",
          "data": {
            "text/plain": [
              "<pulp.apis.coin_api.PULP_CBC_CMD at 0x7985ab353a00>"
            ]
          },
          "metadata": {},
          "execution_count": 35
        }
      ]
    },
    {
      "cell_type": "markdown",
      "source": [
        "Käytetty ratkaisualgoritmi oli siis oletusarvo CBC."
      ],
      "metadata": {
        "id": "sK2QfASvMLed"
      }
    },
    {
      "cell_type": "markdown",
      "source": [
        "Oletusarvosta poikkeavaa ratkaisualgoritmia voi käyttää antamalla se _.solve()_:n argumenttina. Esimerkiksi, GLPK:n käyttäminen sujuu käyttäen koodia <code>solver = GLPK(msg=False)</code>, kunhan on GLPK:n ensin asentanut. On hyvä muistaa, että se ensin on myös tuotava."
      ],
      "metadata": {
        "id": "FWPHFTCra6of"
      }
    },
    {
      "cell_type": "code",
      "source": [
        "from pulp import GLPK"
      ],
      "metadata": {
        "id": "-nFVzXFxMLmq"
      },
      "execution_count": 36,
      "outputs": []
    },
    {
      "cell_type": "markdown",
      "source": [
        "Tuonnin jälkeen GLPK:n käyttö onnistuu siis .solve():lla."
      ],
      "metadata": {
        "id": "ua-aGRqaMMhN"
      }
    },
    {
      "cell_type": "code",
      "source": [
        "# Luodaan malli\n",
        "\n",
        "model = LpProblem(name=\"small-problem\", sense=LpMaximize)"
      ],
      "metadata": {
        "id": "f-fwLlGTMMwF"
      },
      "execution_count": 37,
      "outputs": []
    },
    {
      "cell_type": "code",
      "source": [
        "# Alustetaan päätösmuuttujat\n",
        "\n",
        "x = LpVariable(name=\"x\", lowBound=0)\n",
        "y = LpVariable(name=\"y\", lowBound=0)"
      ],
      "metadata": {
        "id": "TrtxgMfzdqnq"
      },
      "execution_count": 38,
      "outputs": []
    },
    {
      "cell_type": "code",
      "source": [
        "# Lisätään malliin rajoitteet\n",
        "\n",
        "model += (2 * x + y <= 20, \"punainen_suora\")\n",
        "model += (4 * x - 5 * y >= -10, \"sininen_suora\")\n",
        "model += (-x + 2 * y >= -2, \"keltainen_suora\")\n",
        "model += (-x + 5 * y == 15, \"vihrea_suora\")"
      ],
      "metadata": {
        "id": "Mm4Jq0fpdqws"
      },
      "execution_count": 39,
      "outputs": []
    },
    {
      "cell_type": "code",
      "source": [
        "# Lisätään malliin tavoitefunktio\n",
        "\n",
        "model += lpSum([x, 2 * y])"
      ],
      "metadata": {
        "id": "iS7TbhLjd59S"
      },
      "execution_count": 40,
      "outputs": []
    },
    {
      "cell_type": "code",
      "source": [
        "# Ratkaistaan optimointiongelma GLPK:lla\n",
        "status = model.solve(solver=GLPK(msg=False))"
      ],
      "metadata": {
        "id": "6iOHuofCeMZE"
      },
      "execution_count": null,
      "outputs": []
    },
    {
      "cell_type": "code",
      "source": [
        "print(f\"status: {model.status}, {LpStatus[model.status]}\")"
      ],
      "metadata": {
        "colab": {
          "base_uri": "https://localhost:8080/"
        },
        "id": "WLh82WFTe_KG",
        "outputId": "607bfc38-39dc-4ab3-8c78-f08511ea3537"
      },
      "execution_count": 43,
      "outputs": [
        {
          "output_type": "stream",
          "name": "stdout",
          "text": [
            "status: 0, Not Solved\n"
          ]
        }
      ]
    },
    {
      "cell_type": "markdown",
      "source": [
        "Parametrilla _msg_ voidaan säätää, halutaan ratkaisualgoritmin kertomaa informaatiota ratkaisusta lukea tässä yhteydessä."
      ],
      "metadata": {
        "id": "WmHg48CbMMly"
      }
    },
    {
      "cell_type": "markdown",
      "source": [
        "Kun malli on määritelty ja ratkaistu, sitä voi tutkia samaan tapaan kuin edellä."
      ],
      "metadata": {
        "id": "X92ZnvXeMOEK"
      }
    },
    {
      "cell_type": "code",
      "source": [
        "# Optimiratkaisun löytymisen tilannetieto\n",
        "\n",
        "print(f\"status: {model.status}, {LpStatus[model.status]}\")"
      ],
      "metadata": {
        "id": "NI_RaySWMOOE",
        "colab": {
          "base_uri": "https://localhost:8080/"
        },
        "outputId": "783f120c-cdd7-4488-b4c2-be4e3110973d"
      },
      "execution_count": 46,
      "outputs": [
        {
          "output_type": "stream",
          "name": "stdout",
          "text": [
            "status: 0, Not Solved\n"
          ]
        }
      ]
    },
    {
      "cell_type": "code",
      "source": [
        "# Tavoitefunktion arvo\n",
        "\n",
        "print(f\"objective: {model.objective.value()}\")"
      ],
      "metadata": {
        "colab": {
          "base_uri": "https://localhost:8080/"
        },
        "id": "J-ycHeDChoD2",
        "outputId": "b01726d6-0623-43da-e8e3-821a32a1b63f"
      },
      "execution_count": 47,
      "outputs": [
        {
          "output_type": "stream",
          "name": "stdout",
          "text": [
            "objective: None\n"
          ]
        }
      ]
    },
    {
      "cell_type": "code",
      "source": [
        "# Päätösmuuttujien arvot\n",
        "\n",
        "for var in model.variables():\n",
        "    print(f\"{var.name}: {var.value()}\")"
      ],
      "metadata": {
        "colab": {
          "base_uri": "https://localhost:8080/"
        },
        "id": "TPIv0S1DhoGu",
        "outputId": "4c072b9b-c8ad-4cd7-c6f0-ab1bb160873a"
      },
      "execution_count": 48,
      "outputs": [
        {
          "output_type": "stream",
          "name": "stdout",
          "text": [
            "x: None\n",
            "y: None\n"
          ]
        }
      ]
    },
    {
      "cell_type": "code",
      "source": [
        "# Rajoitteet\n",
        "\n",
        "for name, constraint in model.constraints.items():\n",
        "    print(f\"{name}: {constraint.value()}\")"
      ],
      "metadata": {
        "colab": {
          "base_uri": "https://localhost:8080/"
        },
        "id": "RlMhshhdhoJ-",
        "outputId": "c10fc024-ae93-4ae7-a2e4-900cb419c8d9"
      },
      "execution_count": 49,
      "outputs": [
        {
          "output_type": "stream",
          "name": "stdout",
          "text": [
            "punainen_suora: None\n",
            "sininen_suora: None\n",
            "keltainen_suora: None\n",
            "vihrea_suora: None\n"
          ]
        }
      ]
    },
    {
      "cell_type": "markdown",
      "source": [
        "Katsotaan vielä, mitä ratkaisualgoritmia käytettiin tällä kertaa."
      ],
      "metadata": {
        "id": "59VRrPUEMPEd"
      }
    },
    {
      "cell_type": "code",
      "source": [
        "# ratkaisin\n",
        "\n",
        "model.solver"
      ],
      "metadata": {
        "id": "-eLGGa9EMPNK"
      },
      "execution_count": 51,
      "outputs": []
    },
    {
      "cell_type": "markdown",
      "source": [
        "PuLP antaa mahdollisuuden tarkastella ratkaista myös osin kokonaislukuarvoisia ongelmia. Muuttujan voi määrittää olevan kokonaislukuarvoinen tai binääriarvoinen käyttämällä _LpVariablen_ parametrina <code>cat='Integer'</code> tai <code>cat='Binary'</code>. Muut kohdat toistetaan kuten yllä.\n"
      ],
      "metadata": {
        "id": "QRJ1icBlMPty"
      }
    },
    {
      "cell_type": "code",
      "source": [
        "# Luodaan malli\n",
        "\n",
        "model = LpProblem(name=\"small-problem\", sense=LpMaximize)\n",
        "\n",
        "# Alustetaan päätösmuuttujat: x on kokonaisluku, y on jatkuva muuttuja\n",
        "\n",
        "x = LpVariable(name=\"x\", lowBound=0, cat=\"Integer\")\n",
        "y = LpVariable(name=\"y\", lowBound=0)\n",
        "\n",
        "# Lisätään malliin rajoitteet\n",
        "\n",
        "model += (2 * x + y <= 20, \"punainen_suora\")\n",
        "model += (4 * x - 5 * y >= -10, \"sininen_suora\")\n",
        "model += (-x + 2 * y >= -2, \"keltainen_suora\")\n",
        "model += (-x + 5 * y == 15, \"vihrea_suora\")\n",
        "\n",
        "# Lisätään malliin tavoitefunktio\n",
        "\n",
        "model += lpSum([x, 2 * y])\n",
        "\n",
        "# Ratkaistaan ongelma\n",
        "\n",
        "status = model.solve()"
      ],
      "metadata": {
        "id": "STKr0Y5YMP1j"
      },
      "execution_count": 52,
      "outputs": []
    },
    {
      "cell_type": "markdown",
      "source": [
        "Tässä esimerkissä yksi muuttujista onkin kokonaislukuarvoinen ja myös ratkaisu eroaa edellisestä."
      ],
      "metadata": {
        "id": "I7aGaqqMMRWM"
      }
    },
    {
      "cell_type": "code",
      "source": [
        "# Optimointiratkaisun tilanne\n",
        "\n",
        "print(f\"status: {model.status}, {LpStatus[model.status]}\")"
      ],
      "metadata": {
        "colab": {
          "base_uri": "https://localhost:8080/"
        },
        "id": "LBjA2Y5ykimp",
        "outputId": "b6f9008b-be72-40ed-8813-4e105783011c"
      },
      "execution_count": 53,
      "outputs": [
        {
          "output_type": "stream",
          "name": "stdout",
          "text": [
            "status: 1, Optimal\n"
          ]
        }
      ]
    },
    {
      "cell_type": "code",
      "source": [
        "# Tavoitefunktion arvo\n",
        "\n",
        "print(f\"objective: {model.objective.value()}\")"
      ],
      "metadata": {
        "colab": {
          "base_uri": "https://localhost:8080/"
        },
        "id": "KwEubNHVkrAP",
        "outputId": "dc1be145-be57-4525-92cb-b3735e6f1fb6"
      },
      "execution_count": 55,
      "outputs": [
        {
          "output_type": "stream",
          "name": "stdout",
          "text": [
            "objective: 15.8\n"
          ]
        }
      ]
    },
    {
      "cell_type": "code",
      "source": [
        "# Päätösmuuttujien arvot\n",
        "\n",
        "for var in model.variables():\n",
        "    print(f\"{var.name}: {var.value()}\")"
      ],
      "metadata": {
        "colab": {
          "base_uri": "https://localhost:8080/"
        },
        "id": "toyqUit0krKa",
        "outputId": "a4186730-5cbd-4345-9587-71cc1b6070be"
      },
      "execution_count": 56,
      "outputs": [
        {
          "output_type": "stream",
          "name": "stdout",
          "text": [
            "x: 7.0\n",
            "y: 4.4\n"
          ]
        }
      ]
    },
    {
      "cell_type": "code",
      "source": [
        "# Rajoitteet\n",
        "\n",
        "for name, constraint in model.constraints.items():\n",
        "    print(f\"{name}: {constraint.value()}\")"
      ],
      "metadata": {
        "colab": {
          "base_uri": "https://localhost:8080/"
        },
        "id": "rSlkyPPDkrQw",
        "outputId": "325536d6-1f79-4018-da7a-9e3cba2f77a2"
      },
      "execution_count": 57,
      "outputs": [
        {
          "output_type": "stream",
          "name": "stdout",
          "text": [
            "punainen_suora: -1.5999999999999996\n",
            "sininen_suora: 16.0\n",
            "keltainen_suora: 3.8000000000000007\n",
            "vihrea_suora: 0.0\n"
          ]
        }
      ]
    },
    {
      "cell_type": "code",
      "source": [
        "# Käytetty ratkaisualgoritmi\n",
        "\n",
        "model.solver"
      ],
      "metadata": {
        "colab": {
          "base_uri": "https://localhost:8080/"
        },
        "id": "E70d5HvvkrXb",
        "outputId": "8adad4d3-3167-4171-cade-5155fef67218"
      },
      "execution_count": 59,
      "outputs": [
        {
          "output_type": "execute_result",
          "data": {
            "text/plain": [
              "<pulp.apis.coin_api.PULP_CBC_CMD at 0x7985ab353a00>"
            ]
          },
          "metadata": {},
          "execution_count": 59
        }
      ]
    },
    {
      "cell_type": "markdown",
      "source": [
        "Tässä $x$ on kokonaislukuarvoinen muuttuja. (Teknisesti se on itse asiassa liukuluku, jossa desimaalipisteen jälkeiset desimaalit vain ovat kaikki nollia.) Tämä muuttaa koko ratkaisua. Visuaalisesti tätä voidaan kuvata seuraavasti.\n",
        "\n",
        "![kokonaislukuarvoinen_optimiratkaisu](https://realpython.com/cdn-cgi/image/width=828,format=auto/https://files.realpython.com/media/lp-py-fig-6.a415a074213b.png)"
      ],
      "metadata": {
        "id": "VJwT6CkmMRaa"
      }
    },
    {
      "cell_type": "markdown",
      "source": [
        "Tästä näkyy, että optimiratkaisu on oikeanpuoleisin vihreä piste harmaalla alueella eli mahdollisten ratkaisujen alueella. Tämä piste on siis myös mahdollinen ratkaisu ja siinä muuttujien $x$ ja $y$ arvot suurimmat. Näin ollen saadaan myös maksimaalinen tavoitefunktion arvo."
      ],
      "metadata": {
        "id": "4sRb2PkqmKez"
      }
    },
    {
      "cell_type": "markdown",
      "source": [
        "Myös GLPK pystyy ratkaisemaan tällaisia ongelmia."
      ],
      "metadata": {
        "id": "N_TrEbskmu-p"
      }
    },
    {
      "cell_type": "markdown",
      "source": [
        "## Esimerkki 2"
      ],
      "metadata": {
        "id": "kJQ0I1ioMRkL"
      }
    },
    {
      "cell_type": "markdown",
      "source": [
        "Käytetään seuraavaksi PuLP:a ratkaisemaan edellä esitelty resurssien kohdentamisen ongelma."
      ],
      "metadata": {
        "id": "h9LPP9ZRm3AA"
      }
    },
    {
      "cell_type": "markdown",
      "source": [
        "Maksimoidaan\n",
        "\n",
        "$$20 x_1 + 12 x_2 + 40 x_3 + 25 x_4 \\textrm{ (tuotto)}$$\n",
        "\n",
        "olettaen, että\n",
        "\n",
        "$$x_1 + x_2 + x_3 + x_4 \\leq 50 \\textrm{ (työvoima)}$$\n",
        "\n",
        "$$3 x_1 + 2 x_2 + x_3 \\leq 100 \\textrm{ (materiaali A)}$$\n",
        "\n",
        "$$x_2 + 2 x_3 + 3 x_4 \\leq 90 \\textrm{ (materiaali B)}$$\n",
        "\n",
        "$$x_1, x_2, x_3, x_4 \\geq 0$$\n"
      ],
      "metadata": {
        "id": "3NUdCfvqm3GA"
      }
    },
    {
      "cell_type": "markdown",
      "source": [
        "Ongelman määrittäminen ja ratkaiseminen sujuu kuten edellä."
      ],
      "metadata": {
        "id": "YBiqzaLVm3LQ"
      }
    },
    {
      "cell_type": "code",
      "source": [
        "# Määritellään malli\n",
        "\n",
        "model = LpProblem(name=\"resource-allocation\", sense=LpMaximize)\n",
        "\n",
        "# Määritellään päätösmuuttujat sanakirjaan\n",
        "\n",
        "x = {i: LpVariable(name=f\"x{i}\", lowBound=0) for i in range(1, 5)}\n",
        "\n",
        "# Lisätään malliin rajoitteet\n",
        "\n",
        "model += (lpSum(x.values()) <= 50, \"tyovoima\")\n",
        "model += (3 * x[1] + 2 * x[2] + x[3] <= 100, \"materiaali_A\")\n",
        "model += (x[2] + 2 * x[3] + 3 * x[4] <= 90, \"materiaali_B\")\n",
        "\n",
        "# Asetetaan tavoitefunktio\n",
        "\n",
        "model += 20 * x[1] + 12 * x[2] + 40 * x[3] + 25 * x[4]\n",
        "\n",
        "# Ratkaistaan optimointiongelma\n",
        "\n",
        "status = model.solve()\n",
        "\n",
        "# Tutustutaan tuloksiin\n",
        "\n",
        "print(f\"ratkaisun tilanne: {model.status}, {LpStatus[model.status]}\")\n",
        "print(f\"tavoitefunktion optimiarvo: {model.objective.value()}\")\n",
        "\n",
        "for var in x.values():\n",
        "    print(f\"{var.name}: {var.value()}\")\n",
        "\n",
        "for name, constraint in model.constraints.items():\n",
        "    print(f\"{name}: {constraint.value()}\")"
      ],
      "metadata": {
        "colab": {
          "base_uri": "https://localhost:8080/"
        },
        "id": "cDEKOLatm3ih",
        "outputId": "e49d0127-efcb-446d-a8b0-d00aecbf4886"
      },
      "execution_count": 61,
      "outputs": [
        {
          "output_type": "stream",
          "name": "stdout",
          "text": [
            "ratkaisun tilanne: 1, Optimal\n",
            "tavoitefunktion optimiarvo: 1900.0\n",
            "x1: 5.0\n",
            "x2: 0.0\n",
            "x3: 45.0\n",
            "x4: 0.0\n",
            "tyovoima: 0.0\n",
            "materiaali_A: -40.0\n",
            "materiaali_B: 0.0\n"
          ]
        }
      ]
    },
    {
      "cell_type": "markdown",
      "source": [
        "Tässä on käytetty sanakirjaa x, johon päätösmuuttujat tallennetaan. Tämä onkin näppärä ja suositeltava tapa niiden käsittelyyn, sillä Pythonin sanakirja-tietotyyppi mahdollistaa päätösmuuttujien nimien tai indeksien tallentamisen lisäksi vastaavien _LpVariable_:n objektien tallentamisen arvoina. Pythonin listoja ja monikkoja kannattaa käyttää niitäkin."
      ],
      "metadata": {
        "id": "A29jwwfsm3YB"
      }
    },
    {
      "cell_type": "markdown",
      "source": [
        "Yllä oleva ratkaisu vastaa SciPy:llä tekemäämme. Maksimituotto saavutetaan, kun valmistetaan viisi yksikköä ensimmäistä tuotetta ja 45 yksikköä kolmatta tuotetta päivittäin."
      ],
      "metadata": {
        "id": "56xkpYQsm4f5"
      }
    },
    {
      "cell_type": "markdown",
      "source": [
        "Tehdäänpä ongelmasta mutkikkaampi ja samalla mielenkiintoisempi. Oletetaan, että tehdas ei laitteistoon liittyvistä syistä pysty ratkaisemaan ensimmäistä ja kolmatta tuotetta samanaikaisesti. Mikä on maksimituotto tässä tapauksessa?"
      ],
      "metadata": {
        "id": "-qDSHNB3s6Nb"
      }
    },
    {
      "cell_type": "markdown",
      "source": [
        "Nyt asiaan liittyy looginen rajoite: jos $x_1$ on positiivinen, $x_3$:n on oltava nolla ja kääntäen. Tällaisissa tapauksissa binääriset päätösmuuttujat osoittautuvat hyödyllisiksi. Otetaan käyttöön kaksi binääristä päätösmuuttujaa $y_1$ ja $y_3$, jotka ilmaisevat, valmistetaanko ensimmäistä tai kolmatta tuotetta lainkaan."
      ],
      "metadata": {
        "id": "LX2W10Abs6TE"
      }
    },
    {
      "cell_type": "code",
      "source": [
        "# Luodaan malli\n",
        "\n",
        "model = LpProblem(name=\"resource-allocation\", sense=LpMaximize)\n",
        "\n",
        "# Määritellään päätösmuuttujat\n",
        "\n",
        "x = {i: LpVariable(name=f\"x{i}\", lowBound=0) for i in range(1, 5)}\n",
        "y = {i: LpVariable(name=f\"y{i}\", cat=\"Binary\") for i in (1, 3)}\n",
        "\n",
        "# Lisätään rajoitteet\n",
        "\n",
        "model += (lpSum(x.values()) <= 50, \"tyovoima\")\n",
        "model += (3 * x[1] + 2 * x[2] + x[3] <= 100, \"materiaali_A\")\n",
        "model += (x[2] + 2 * x[3] + 3 * x[4] <= 90, \"materiaali_B\")\n",
        "\n",
        "M = 100\n",
        "\n",
        "model += (x[1] <= y[1] * M, \"x1_rajoite\")\n",
        "model += (x[3] <= y[3] * M, \"x3_rajoite\")\n",
        "model += (y[1] + y[3] <= 1, \"y_rajoite\")\n",
        "\n",
        "# Maäritetään tavoitefunktio\n",
        "\n",
        "model += 20 * x[1] + 12 * x[2] + 40 * x[3] + 25 * x[4]\n",
        "\n",
        "# Ratkaistaan optimointiongelma\n",
        "\n",
        "status = model.solve()\n",
        "\n",
        "print(f\"ratkaisun tilanne: {model.status}, {LpStatus[model.status]}\")\n",
        "print(f\"tavoitefunktion optimiarvo: {model.objective.value()}\")\n",
        "\n",
        "for var in model.variables():\n",
        "    print(f\"{var.name}: {var.value()}\")\n",
        "\n",
        "for name, constraint in model.constraints.items():\n",
        "    print(f\"{name}: {constraint.value()}\")"
      ],
      "metadata": {
        "colab": {
          "base_uri": "https://localhost:8080/"
        },
        "id": "_xhPLg4rm4oh",
        "outputId": "c5394642-49e1-4382-b1ff-7f1fcbfa9903"
      },
      "execution_count": 62,
      "outputs": [
        {
          "output_type": "stream",
          "name": "stdout",
          "text": [
            "ratkaisun tilanne: 1, Optimal\n",
            "tavoitefunktion optimiarvo: 1800.0\n",
            "x1: 0.0\n",
            "x2: 0.0\n",
            "x3: 45.0\n",
            "x4: 0.0\n",
            "y1: 0.0\n",
            "y3: 1.0\n",
            "tyovoima: -5.0\n",
            "materiaali_A: -55.0\n",
            "materiaali_B: 0.0\n",
            "x1_rajoite: 0.0\n",
            "x3_rajoite: -55.0\n",
            "y_rajoite: 0.0\n"
          ]
        }
      ]
    },
    {
      "cell_type": "markdown",
      "source": [
        "Koodi on monelta osin samanlainen yllä olevan kanssa, mutta oleellisiakin eroja löytyy.\n",
        "\n",
        "* Sanakirjaan $y$ tallennetaan binääriset päätösmuuttujat $y[1]$ ja $y[3]$.\n",
        "\n",
        "* Muuttujan $M$ on tarkoitus olla mielivaltaisen suuri arvo. Tässä arvo sata $M$:lle on riittävän suuri, sillä tehtaassa ei voida valmistaa yli sataa tuotetta päivässä.\n",
        "\n",
        "* Kohdassa _$x_1$_rajoite_ määritellään, että jos $y[1]$ on nolla, $x[1]$:n on oltava nolla, muutoin se voi olla mikä tahansa ei-negatiivinen luku.\n",
        "\n",
        "* Kohdassa _$x_3$_rajoite_ määritellään, että jos $y[3]$ on nolla, $x[3]$:n on oltava nolla, muutoin se voi olla mikä tahansa ei-negatiivinen luku.\n",
        "\n",
        "* Kohdassa _$y$_rajoite_ sanotaan, että joko $y[1]$:n tai $y[3]$:n arvo on nolla, tai molempien arvo on nolla. Niinpä edellisten kohtien mukaan silloin myös joko $x[1]$:n tai $x[3]$:n arvo on myös nolla."
      ],
      "metadata": {
        "id": "y93stDqXm6PJ"
      }
    },
    {
      "cell_type": "markdown",
      "source": [
        "Osoittautuu siis, että optimaalinen ratkaisu on valmistaa vain tuotetta kolme ja jättää valmistamatta ensimmäistää tuotetta kokonaan."
      ],
      "metadata": {
        "id": "60tS10uzzZIn"
      }
    },
    {
      "cell_type": "markdown",
      "source": [
        "Lähde ja lisämateriaalia:\n",
        "\n",
        "\n",
        "*   [RealPython: Hands-On Linear Programming: Optimization With Python](https://realpython.com/linear-programming-python/)\n",
        "\n"
      ],
      "metadata": {
        "id": "E_OrAW8PVztO"
      }
    },
    {
      "cell_type": "code",
      "source": [
        "import datetime\n",
        "print(f'Last modified {datetime.datetime.now():%Y-%m-%d %H:%M} by Juha Nurmonen')"
      ],
      "metadata": {
        "colab": {
          "base_uri": "https://localhost:8080/"
        },
        "id": "mEW58Q-VWYJE",
        "outputId": "335afa4b-54a5-470a-dc41-ae8352a7f83d"
      },
      "execution_count": 23,
      "outputs": [
        {
          "output_type": "stream",
          "name": "stdout",
          "text": [
            "Last modified 2024-09-06 12:37 by Juha Nurmonen\n"
          ]
        }
      ]
    }
  ]
}