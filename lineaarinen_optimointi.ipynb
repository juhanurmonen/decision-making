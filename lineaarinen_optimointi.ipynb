{
  "nbformat": 4,
  "nbformat_minor": 0,
  "metadata": {
    "colab": {
      "provenance": []
    },
    "kernelspec": {
      "name": "python3",
      "display_name": "Python 3"
    },
    "language_info": {
      "name": "python"
    }
  },
  "cells": [
    {
      "cell_type": "markdown",
      "source": [
        "# Lineaarinen optimointi Pythonia hyödyntäen"
      ],
      "metadata": {
        "id": "poiLmYOLVshV"
      }
    },
    {
      "cell_type": "markdown",
      "source": [
        "__Matemaattista optimointia__ on sovelletaan usealla eri alalla. Perusidea on _maksimoida_ tai _minimoida_ jonkin yhtälön arvo. Tällaisessa tilanteessa läsnä on yleensä joitain _rajoitteita_, joiden puitteissa arvoja tarkastellaan. __Lineaarisessa optimoinnissa__ kaikki yllä mainitut, maksimoitava tai minimoitava funktio sekä rajoitefunktiot ovat lineaarisia. Optimoitavasta funktiosta usein käytettyjä sovelluksia ovat mm. kustannus- ja kysyntäfuntiot.\n",
        "\n",
        "Lisätietoa perusasioista löytyy mm.Wikipediasta:\n",
        "*  [Linear function](https://en.wikipedia.org/wiki/Linear_function)\n",
        "* [System of linear equations](https://en.wikipedia.org/wiki/System_of_linear_equations)"
      ],
      "metadata": {
        "id": "l1fFh2nfXqu1"
      }
    },
    {
      "cell_type": "markdown",
      "source": [
        "Katsotaan seuraavaksi esimerkkiä lineaarisesta optimoinnista."
      ],
      "metadata": {
        "id": "AHmn0lV0aU57"
      }
    },
    {
      "cell_type": "markdown",
      "source": [
        "Tehtävänä on __maksimoida__ funtion $$z=x+2y$$ arvo. Rajoitteina tässä tilanteessa toimivat funktiot\n",
        "$$2x+y\\leq 20$$\n",
        "$$-4x+5y\\leq 10$$\n",
        "$$-x + 2y\\geq -2$$\n",
        "$$x\\geq 0$$\n",
        "$$y \\geq 0$$"
      ],
      "metadata": {
        "id": "R4anqW2qcckW"
      }
    },
    {
      "cell_type": "markdown",
      "source": [
        "Tavoitteena on löytää sellaiset muuttujien $x$ ja $y$ arvot, että kaikki rajoitefunktioden epäyhtälöt toteutuvat ja samalla muuttujan $z$ arvo on suurin mahdollinen."
      ],
      "metadata": {
        "id": "11XAzGexdNAs"
      }
    },
    {
      "cell_type": "markdown",
      "source": [
        "Riippumattomia muuttujia, edellä $x$ ja $y$, kutsutaan __päätösmuuttujiksi__ ja maksimoitavaa tai minimoitava muuttujaa, edellä $z$, __kohdefunktioksi__, __kustannusfunktioksi__ tai yksinkertaisesti __tavoitteeksi__."
      ],
      "metadata": {
        "id": "142lsCB0dgh1"
      }
    },
    {
      "cell_type": "markdown",
      "source": [
        "Graafisesti rajoitteiden rajaama tilanne näyttää seuraavalta."
      ],
      "metadata": {
        "id": "JdOEPSLifaJG"
      }
    },
    {
      "cell_type": "markdown",
      "source": [
        "![Optimointiongelma graafisesti](https://realpython.com/cdn-cgi/image/width=828,format=auto/https://files.realpython.com/media/lp-py-fig-1.00f609c97aec.png \"Optimointiongelma\")"
      ],
      "metadata": {
        "id": "q8EZFRLhbswT"
      }
    },
    {
      "cell_type": "markdown",
      "source": [
        "Punainen viiva kuvaa funktiota $2x+y=20$ ja punainen alue sen yläpuolella aluetta, jossa epäyhtälö ei ole tosi. Vastaavasti sininen viiva kuvaa suoraa $-4x+5y=10$ ja yllä esitetty epäyhtälö ei voimassa sinisellä alueella. Samoin keltainen suora on $-x+2y=-2$ ja yllä kuvattu epäyhtälö ei ole tosi keltaisella alueella."
      ],
      "metadata": {
        "id": "tQybYU51fh_d"
      }
    },
    {
      "cell_type": "markdown",
      "source": [
        "Kun jätetään laskuista alueet, joissa ainakin yksi epäyhtälöistä ei ole tosi, jäljelle jää harmaa alue. Jokainen harmaan alueen piste toteuttaa jokaisen rajoitefunktion ehdon (epäyhtälön) ja jokainen piste on siis mahdollinen ratkaisu optimointiongelmaan. Tällaista aluetta kutsutaan __mahdolliseksi__ (__feasible region__) ja sen pisteet ovat __mahdollisia ratkaisuja__ (__feasible solutions__). Yllä olevassa esimerkissä mahdollisia ratkaisuja on rajoittamaton määrä."
      ],
      "metadata": {
        "id": "gCk2XgAvgpag"
      }
    },
    {
      "cell_type": "markdown",
      "source": [
        "Seuraavaksi tullaan muuttujan $z$ arvon maksimointiin. Se mahdollisista ratkaisuista, jolla muuttujan $z$ arvo  on maksimaalinen, on __optimaalinen ratkaisu__ (__optimal solution__). Samoin tietysti, jos tarkoitus olisi minimoida tavoitefunktion arvo, optimaalisin ratkaisu olisi mahdollisista ratkaisuista pienin."
      ],
      "metadata": {
        "id": "zQRhxnJ_gppX"
      }
    },
    {
      "cell_type": "markdown",
      "source": [
        "Nyt on hyvä kiinnittää huomiota siihen, että $z$ on lineaarinen. Sen voi ajatella olevan taso kolmiulotteisessa avaruudessa. Tästä syystä optimaalisen ratkaisun on oltava mahdollisten ratkaisujen __kärkipiste__ tai __kulmapiste__. Osaatko jo tässä vaiheessa sanoa, kumpi esimerkin kahdesta kärkipisteestä on optimiratkaisu?"
      ],
      "metadata": {
        "id": "3V7bqz4wgp0f"
      }
    },
    {
      "cell_type": "markdown",
      "source": [
        "Voi olla myös niin, että mahdollisen alueen jonkun reunan kaikki pisteet tai jopa kaikki mahdollisen alueen pisteet ovat antavat tavoitefunktiolle saman arvon. Silloin optimiratkaisuja on siis  useita."
      ],
      "metadata": {
        "id": "OKlWljNEk5Iz"
      }
    },
    {
      "cell_type": "markdown",
      "source": [
        "Tutustuaksemme aiheeseen tarkemmin, lisätään edellisten lisäksi vielä yksi rajoite, yhtälö\n",
        "$$-x+5y=15$$"
      ],
      "metadata": {
        "id": "W9YNBIZ9k5NC"
      }
    },
    {
      "cell_type": "markdown",
      "source": [
        "Tämä rajoite näkyy kuvassa vihreänä suorana.\n",
        "\n",
        "![Optimaalinen ratkaisu, osa 2](https://realpython.com/cdn-cgi/image/width=828,format=auto/https://files.realpython.com/media/lp-py-fig-2.3d21c2b24205.png)"
      ],
      "metadata": {
        "id": "J7FnJKE3npc8"
      }
    },
    {
      "cell_type": "markdown",
      "source": [
        "Ratkaisun pitää nyt toteuttaa myös yo. yhtälö, joten mahdolliset ratkaisut eivät löydykään enää koko harmaalta alueelta. Se löytyy harmaan alueen vihreän suoran osasta, joka leikkaa sinisen suoran ja punaisen suoran. Optimiratkaisu on itse asiassa jälkimmäinen."
      ],
      "metadata": {
        "id": "PO4YXLiLnpfr"
      }
    },
    {
      "cell_type": "markdown",
      "source": [
        "Jos ongelmaan lisätään vielä rajoite, että kaikkien $x$-muuttujan arvojen tulee olla kokonaislukuja, ongelma muuttuu vielä lisää. Mahdollisten ratkaisujen joukko onkin kokoelma harmaalla alueella olevia pisteitä, joissa $x$ on kokonaisluku. Optimaalisin näistä on nyt se, joka on lähinnä punaista viivaa.\n",
        "\n",
        "![Optimaalinen kokonaislukuratkaisujen joukko](https://realpython.com/cdn-cgi/image/width=828,format=auto/https://files.realpython.com/media/lp-py-fig-3.c13d0660ce57.png)"
      ],
      "metadata": {
        "id": "EjX9u--fk5UC"
      }
    },
    {
      "cell_type": "markdown",
      "source": [
        "Edellä olevat kolme esimerkkiä kuvaavat __mahdollisia lineaarisia ratkaisuja__, koska mahdollisten ratkaisujen joukot ovat rajoitettuja ja ratkaisujen määrä on rajoitettu."
      ],
      "metadata": {
        "id": "tzOFBfHak5a1"
      }
    },
    {
      "cell_type": "markdown",
      "source": [
        "## Mahdoton lineaarinen optimointiongelma"
      ],
      "metadata": {
        "id": "Kw37d8OqrVVW"
      }
    },
    {
      "cell_type": "markdown",
      "source": [
        "Optimointiongelma on __mahdoton__, jos sillä ei ole ratkaisua. Tällaisessa tilanteessa yleensä yksikään ratkaisu ei voi toteuttaa kaikkia annettuja rajoitteita samaan aikaan."
      ],
      "metadata": {
        "id": "IYsUU_hNrVkN"
      }
    },
    {
      "cell_type": "markdown",
      "source": [
        "Mitä tapahtuisi, jos vaikkapa edellisessä esimerkissä lisättäisiin vielä rajoite $x+y\\leq -1$. Silloin ainakin toisen päätösmuuttujan ($x$ tai $y$) olisi oltava negatiivinen. Tämä puolestaan on ristiriidassa rajoitteiden $x\\geq 0$ ja$y\\geq 0$ kanssa. Sellaisella systeemillä ei ole mahdollista ratkaisua ja se on siis mahdoton."
      ],
      "metadata": {
        "id": "xYjVP5ctrVsV"
      }
    },
    {
      "cell_type": "markdown",
      "source": [
        "Toinen esimerkki mahdottomasta ratkaisusta (yhtälösysteemistä) olisi, jos edellä rajoitteisiin lisättäisiin vihreän suoran lisäksi toinen, sen kanssa rinnakkainen suora. Kahdella rinnakkaisella suoralla ei voi olla yhteistä pistettä, joten tällaisessa tapauksessa ei voida löytää ratkaisua, joka täyttäisi molemmat rajoitteet."
      ],
      "metadata": {
        "id": "yT3g5lOtgqAP"
      }
    },
    {
      "cell_type": "markdown",
      "source": [
        "## Rajoittamaton optimointiongelma"
      ],
      "metadata": {
        "id": "5jgzuvGAtDB5"
      }
    },
    {
      "cell_type": "markdown",
      "source": [
        "Optimointiongelma on __rajoittamaton__, jos sen mahdollinen ratkaisualue ei ole rajoitettu eikä ratkaisu näin ollen ole rajoitettu. Tällaöin ainakin yksi muuttuja ei ole rajoitettu ja se voi saada mielivaltaisen suuria positiivia tai mielivaltaisen pieniä negatiivisia arvoja. Tällöin tavoitteesta tulee myös rajoittamaton."
      ],
      "metadata": {
        "id": "vjIBIrPTtDEo"
      }
    },
    {
      "cell_type": "markdown",
      "source": [
        "Jos vaikka edellä olevassa esimerkissä jätettäisiinkin punaisen ja keltaisen suoran rajoitteet pois, muuttujien $x$ ja $y$ arvot olisivat rajoitettu alhaalta mutta eivät positiiviselta puolelta. Ne voisivat silloin saada vaikka kuinka suuria positiivisia arvoja ja samalla tavoitefunktion $z$ arvoksi tulisi mielivaltaisen suuria arvoja."
      ],
      "metadata": {
        "id": "7ar0TnqZtDHc"
      }
    },
    {
      "cell_type": "markdown",
      "source": [
        "## Resurssien kohdentamisen ongelma"
      ],
      "metadata": {
        "id": "M5iPNNHItDJ4"
      }
    },
    {
      "cell_type": "markdown",
      "source": [],
      "metadata": {
        "id": "9WlnMTH6tDMS"
      }
    },
    {
      "cell_type": "markdown",
      "source": [],
      "metadata": {
        "id": "YztoNi_VtDOi"
      }
    },
    {
      "cell_type": "code",
      "execution_count": 3,
      "metadata": {
        "id": "fPU3t7v4VSuk"
      },
      "outputs": [],
      "source": [
        "import pandas as pd\n",
        "from scipy.optimize import linprog"
      ]
    },
    {
      "cell_type": "code",
      "source": [
        "!pip install pulp"
      ],
      "metadata": {
        "colab": {
          "base_uri": "https://localhost:8080/"
        },
        "id": "lFB1X2Twj_zi",
        "outputId": "563c58bf-2c6e-4610-aa4a-416845d0220c"
      },
      "execution_count": 4,
      "outputs": [
        {
          "output_type": "stream",
          "name": "stdout",
          "text": [
            "Collecting pulp\n",
            "  Downloading PuLP-2.9.0-py3-none-any.whl.metadata (5.4 kB)\n",
            "Downloading PuLP-2.9.0-py3-none-any.whl (17.7 MB)\n",
            "\u001b[2K   \u001b[90m━━━━━━━━━━━━━━━━━━━━━━━━━━━━━━━━━━━━━━━━\u001b[0m \u001b[32m17.7/17.7 MB\u001b[0m \u001b[31m68.1 MB/s\u001b[0m eta \u001b[36m0:00:00\u001b[0m\n",
            "\u001b[?25hInstalling collected packages: pulp\n",
            "Successfully installed pulp-2.9.0\n"
          ]
        }
      ]
    },
    {
      "cell_type": "markdown",
      "source": [
        "Lähde ja lisämateriaalia:\n",
        "\n",
        "\n",
        "*   [RealPython: Hands-On Linear Programming: Optimization With Python](https://realpython.com/linear-programming-python/)\n",
        "\n"
      ],
      "metadata": {
        "id": "E_OrAW8PVztO"
      }
    },
    {
      "cell_type": "code",
      "source": [
        "import datetime\n",
        "print(f'Last modified {datetime.datetime.now():%Y-%m-%d %H:%M} by Juha Nurmonen')"
      ],
      "metadata": {
        "colab": {
          "base_uri": "https://localhost:8080/"
        },
        "id": "mEW58Q-VWYJE",
        "outputId": "7ae64968-3a6b-467d-c64d-0376cd72ac64"
      },
      "execution_count": 1,
      "outputs": [
        {
          "output_type": "stream",
          "name": "stdout",
          "text": [
            "Last modified 2024-09-01 16:12 by Juha Nurmonen\n"
          ]
        }
      ]
    }
  ]
}