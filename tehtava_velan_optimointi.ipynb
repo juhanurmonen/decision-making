{
  "cells": [
    {
      "cell_type": "markdown",
      "id": "0de111d5",
      "metadata": {
        "id": "0de111d5"
      },
      "source": [
        "# Strategiset päätöksentekomallit"
      ]
    },
    {
      "cell_type": "markdown",
      "id": "4a217e68",
      "metadata": {
        "id": "4a217e68"
      },
      "source": [
        "## Tehtävä 9: Velan optimointi"
      ]
    },
    {
      "cell_type": "markdown",
      "id": "0511f878",
      "metadata": {
        "id": "0511f878"
      },
      "source": [
        "### Oppimistavoitteet"
      ]
    },
    {
      "cell_type": "markdown",
      "id": "5ebbe69e",
      "metadata": {
        "id": "5ebbe69e"
      },
      "source": [
        "Tässä tehtävässä tutustutaan lisää optimointiin ja sen käyttöön päätöksiä tehtäessä. Näin tehtäessä opitaan myös esittämään asiat selkeästi sekä dokumentoimaan ja selittämään Excelillä tehtyjä laskentapohjia."
      ]
    },
    {
      "cell_type": "markdown",
      "id": "04e6430c",
      "metadata": {
        "id": "04e6430c"
      },
      "source": [
        "Lisää tiedostoon ohjeet selityksineen peruskäyttäjälle."
      ]
    },
    {
      "cell_type": "markdown",
      "id": "e92bbda2",
      "metadata": {
        "id": "e92bbda2"
      },
      "source": [
        "### Lähtötiedot"
      ]
    },
    {
      "cell_type": "markdown",
      "id": "e8318916",
      "metadata": {
        "id": "e8318916"
      },
      "source": [
        "Yrittäjä omistaa tontin kaupungin parhaalta liikepaikalta. Hän suunnittelee paikalle liiketaloa (kiinteistöosakeyhtiö). Tontilla on rakennusoikeutta 3 000 neliömetriä ja rakennusoikeus käytetään kokonaisuudessaan liiketiloihin. Hankkeen kustannusarvio on kymmenen miljoonaa euroa. Omistaja pyrkii rahoittamaan mahdollisimman paljon vieraalla pääomalla eli siirtämään hankkeen riskiä vieraan pääoman rahoittajille (pankille)."
      ]
    },
    {
      "cell_type": "markdown",
      "id": "5d4aba9d",
      "metadata": {
        "id": "5d4aba9d"
      },
      "source": [
        "Hankkeen kannattavuuteen vaikuttavia päätösmuuttujia ovat seuraavat."
      ]
    },
    {
      "cell_type": "markdown",
      "id": "672ebcb4",
      "metadata": {
        "id": "672ebcb4"
      },
      "source": [
        "Vuokrataso, jolla on kolme vaihtoehtoista tasoa\n",
        "\n",
        "1. 40 €/m2/kk\n",
        "2. 35 €/m2/kk\n",
        "3. 30 €/m2/kk"
      ]
    },
    {
      "cell_type": "markdown",
      "id": "f4882061",
      "metadata": {
        "id": "f4882061"
      },
      "source": [
        "Käyttöaste, jolla on kaksi vaihtoehtoista tasoa\n",
        "\n",
        "1. 85 %\n",
        "2. 65 %"
      ]
    },
    {
      "cell_type": "markdown",
      "id": "15a6e31f",
      "metadata": {
        "id": "15a6e31f"
      },
      "source": [
        "Korkoaste, jolla on kolme vaihtoehtoista tasoa\n",
        "\n",
        "1. 5 % p.a.\n",
        "2. 9 % p.a.\n",
        "3. 13 % p.a."
      ]
    },
    {
      "cell_type": "markdown",
      "id": "6d125cb5",
      "metadata": {
        "id": "6d125cb5"
      },
      "source": [
        "Inflaatio, jolla on kaksi vaihtoehtoista tasoa\n",
        "\n",
        "1. 2 %\n",
        "2. 5 %"
      ]
    },
    {
      "cell_type": "markdown",
      "id": "55a68cc1",
      "metadata": {
        "id": "55a68cc1"
      },
      "source": [
        "Lähtötilanteessa yhtiövastike on 5 €/m2/kk. Mikäli minä tahansa vuonna kassavirrat ovat positiiviset, käytetään koko positiivinen kassavirta lainan lyhentämiseen sinä vuonna. Mikäli kassavirta on negatiivinen, otetaan lisää lainaa samoilla ehdoilla. Inflaatio alkaa vaikuttaa vuodesta kaksi lähtien."
      ]
    },
    {
      "cell_type": "markdown",
      "id": "e9e57c9b",
      "metadata": {
        "id": "e9e57c9b"
      },
      "source": [
        "### Selvitettävät asiat"
      ]
    },
    {
      "cell_type": "markdown",
      "id": "fcea7f63",
      "metadata": {
        "id": "fcea7f63"
      },
      "source": [
        "Tehtävänä on etsiä suurin mahdollinen velan määrä, minkä investointi kestää, kun päätösmuuttujat voivat vaihdella minkälaisina kombinaatioina tahansa ja yrittäjä on määritellyt, että suurin mahdollinen velan määrä on sellainen, missä viiden vuoden sisällä velan määrä ei lähde kasvamaan toteutuivat päätösmuuttujat minkälaisina kombinaatioina tahansa."
      ]
    },
    {
      "cell_type": "markdown",
      "id": "7e05ce3b",
      "metadata": {
        "id": "7e05ce3b"
      },
      "source": [
        " Selvitä siis\n",
        "\n",
        "1. mikä on suurin mahdollinen (eli optimi) velan määrä, ja\n",
        "2. kuinka riski kasvaa optimivelan jälkeen kymmeneen miljonaan asti, kun riskiä mitataan sellaisten tapausten lukumäärällä, jossa velka lähtee kasvamaan suhteessa kaikkiin tapauksiin."
      ]
    },
    {
      "cell_type": "code",
      "execution_count": 1,
      "id": "1daa57ae",
      "metadata": {
        "colab": {
          "base_uri": "https://localhost:8080/"
        },
        "id": "1daa57ae",
        "outputId": "f117ef2f-c2f4-4b72-c0f9-83971819a7b1"
      },
      "outputs": [
        {
          "output_type": "stream",
          "name": "stdout",
          "text": [
            "Last modified 2025-03-26 17:30 by Juha Nurmonen\n"
          ]
        }
      ],
      "source": [
        "import datetime\n",
        "print(f'Last modified {datetime.datetime.now():%Y-%m-%d %H:%M} by Juha Nurmonen')"
      ]
    }
  ],
  "metadata": {
    "kernelspec": {
      "display_name": "Python 3 (ipykernel)",
      "language": "python",
      "name": "python3"
    },
    "language_info": {
      "codemirror_mode": {
        "name": "ipython",
        "version": 3
      },
      "file_extension": ".py",
      "mimetype": "text/x-python",
      "name": "python",
      "nbconvert_exporter": "python",
      "pygments_lexer": "ipython3",
      "version": "3.11.7"
    },
    "colab": {
      "provenance": []
    }
  },
  "nbformat": 4,
  "nbformat_minor": 5
}