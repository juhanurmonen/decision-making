{
  "nbformat": 4,
  "nbformat_minor": 0,
  "metadata": {
    "colab": {
      "provenance": []
    },
    "kernelspec": {
      "name": "python3",
      "display_name": "Python 3"
    },
    "language_info": {
      "name": "python"
    }
  },
  "cells": [
    {
      "cell_type": "markdown",
      "source": [
        "# Johdatus peliteoriaan ja NashPy-kirjastoon"
      ],
      "metadata": {
        "id": "0190n-Kol3x3"
      }
    },
    {
      "cell_type": "markdown",
      "source": [
        "Peliteoria tutkii toimijoiden välistä strategista vuorovaikutusta. Tässä siis kyse on vuorovaikutuksesta, jossa osapuolet pyrkivät tekemään sen, mikä on heidän kannaltaan parasta."
      ],
      "metadata": {
        "id": "RJKGLrOPnhvl"
      }
    },
    {
      "cell_type": "markdown",
      "source": [
        "Tutustutaan asiaan lähemmin [Kivi, paperi ja sakset](https://fi.wikipedia.org/wiki/Kivi,_paperi_ja_sakset) -pelin kautta. Tässä pelissä kaksi pelaajaa valitsee yhden kolmesta vaihtoehdosta. Peliteoriassa vaihtoehtoja kutsutaan strategioiksi:\n",
        "\n",
        "* Kivi\n",
        "* Paperit\n",
        "* Sakset\n",
        "\n",
        "Voittaja valikoituu seuraavasti:\n",
        "\n",
        "* Kivi hajottaa sakset\n",
        "* Paperi peittää kiven\n",
        "* Sakset leikkaavat paperia.\n",
        "\n",
        "Tämä voidaan esittää matemaattisesti 3 x 3 -matriisilla\n",
        "\n",
        "$$\n",
        "A =\n",
        "\\begin{pmatrix}\n",
        "0 & -1 & 1\\\\\n",
        "1 & 0 & -1\\\\\n",
        "-1 & 1 & 0\n",
        "\\end{pmatrix}\n",
        "$$\n"
      ],
      "metadata": {
        "id": "4dtME3-Rn3as"
      }
    },
    {
      "cell_type": "markdown",
      "source": [
        "Matriisin solu $A_{ij}$ näyttää hyödyn pelaajalle, joka pelaa rivejä ja valitsee rivin $i$ vastustajan pelatessa sarakkeita ja valitessa sarakkeen $j$. Jos siis esimerkiksi rivipelaaja valitsee sakset eli kolmosstrategian ja sarakepelaaja valitsee paperin eli kakkosstrategian, rivipelaajan hyöty on $A_{32}=1$, sillä sakset leikkaavat paperia."
      ],
      "metadata": {
        "id": "ghaOhoQSqbTn"
      }
    },
    {
      "cell_type": "markdown",
      "source": [
        "## NashPy-kirjaston asentaminen"
      ],
      "metadata": {
        "id": "FCuF_JQHr3kk"
      }
    },
    {
      "cell_type": "markdown",
      "source": [
        "Tutustutaan peliin tarkemmin Pythonin NashPy-kirjaston avulla. Se pitää ensin asentaa:\n",
        "* Mac tai Linux: terminaalin kautta\n",
        "* Windows: Anaconda Prompt tai vastaava\n",
        "\n",
        "ja ajamalla komento $$\\textrm{pip install nashpy}$$"
      ],
      "metadata": {
        "id": "SQaNRdr5sGbd"
      }
    },
    {
      "cell_type": "code",
      "source": [
        "!pip install nashpy"
      ],
      "metadata": {
        "colab": {
          "base_uri": "https://localhost:8080/"
        },
        "id": "m6rd9dLttMmJ",
        "outputId": "8855ecde-2c7c-4f6a-8745-cf09d355387f"
      },
      "execution_count": 1,
      "outputs": [
        {
          "output_type": "stream",
          "name": "stdout",
          "text": [
            "Requirement already satisfied: nashpy in /usr/local/lib/python3.11/dist-packages (0.0.41)\n",
            "Requirement already satisfied: numpy>=1.21.0 in /usr/local/lib/python3.11/dist-packages (from nashpy) (2.0.2)\n",
            "Requirement already satisfied: scipy>=0.19.0 in /usr/local/lib/python3.11/dist-packages (from nashpy) (1.14.1)\n",
            "Requirement already satisfied: networkx>=3.0.0 in /usr/local/lib/python3.11/dist-packages (from nashpy) (3.4.2)\n",
            "Requirement already satisfied: deprecated>=1.2.14 in /usr/local/lib/python3.11/dist-packages (from nashpy) (1.2.18)\n",
            "Requirement already satisfied: wrapt<2,>=1.10 in /usr/local/lib/python3.11/dist-packages (from deprecated>=1.2.14->nashpy) (1.17.2)\n"
          ]
        }
      ]
    },
    {
      "cell_type": "code",
      "execution_count": 2,
      "metadata": {
        "id": "OtckLU_flwSI"
      },
      "outputs": [],
      "source": [
        "# Tuodaan kirjastot\n",
        "import nashpy as nash\n",
        "import numpy as np"
      ]
    },
    {
      "cell_type": "markdown",
      "source": [
        "## Pelin luominen"
      ],
      "metadata": {
        "id": "JeaZ05LAtHU4"
      }
    },
    {
      "cell_type": "markdown",
      "source": [
        "Luodaan edellä kuvattu Kivi, paperi, sakset -peli NashPyllä:"
      ],
      "metadata": {
        "id": "WcK4zbuUtZ85"
      }
    },
    {
      "cell_type": "code",
      "source": [
        "A = np.array([[0, -1, 1], [1, 0, -1], [-1, 1, 0]])\n",
        "kps = nash.Game(A)\n",
        "kps"
      ],
      "metadata": {
        "colab": {
          "base_uri": "https://localhost:8080/"
        },
        "id": "CKUNYJNhrpmm",
        "outputId": "96934d3e-d822-440e-e729-c13102068693"
      },
      "execution_count": 3,
      "outputs": [
        {
          "output_type": "execute_result",
          "data": {
            "text/plain": [
              "Zero sum game with payoff matrices:\n",
              "\n",
              "Row player:\n",
              "[[ 0 -1  1]\n",
              " [ 1  0 -1]\n",
              " [-1  1  0]]\n",
              "\n",
              "Column player:\n",
              "[[ 0  1 -1]\n",
              " [-1  0  1]\n",
              " [ 1 -1  0]]"
            ]
          },
          "metadata": {},
          "execution_count": 3
        }
      ]
    },
    {
      "cell_type": "markdown",
      "source": [
        "Tuloste sisältää myös hyödyllistä inofrmaatiota pelistä. Tässä tapauksessa se näyttää myös sarakepelaajan hyödyn. Sarakepelaajan hyöty on tässä tapauksessa matriisi $-A$, mutta näin ei yleisesti aina ole."
      ],
      "metadata": {
        "id": "bINCc1fBu0n5"
      }
    },
    {
      "cell_type": "markdown",
      "source": [
        "On myös mahdollista sisällyttää matriisipari pelin luokkaan. Näin saadaan tässä tapauksessa sama peli."
      ],
      "metadata": {
        "id": "Ll7fzfHDvYON"
      }
    },
    {
      "cell_type": "code",
      "source": [
        "B = -A\n",
        "kps = nash.Game(A, B)\n",
        "kps"
      ],
      "metadata": {
        "colab": {
          "base_uri": "https://localhost:8080/"
        },
        "id": "HXxustSerppG",
        "outputId": "bf06b243-24b1-4038-e994-5aa49de46c34"
      },
      "execution_count": 4,
      "outputs": [
        {
          "output_type": "execute_result",
          "data": {
            "text/plain": [
              "Zero sum game with payoff matrices:\n",
              "\n",
              "Row player:\n",
              "[[ 0 -1  1]\n",
              " [ 1  0 -1]\n",
              " [-1  1  0]]\n",
              "\n",
              "Column player:\n",
              "[[ 0  1 -1]\n",
              " [-1  0  1]\n",
              " [ 1 -1  0]]"
            ]
          },
          "metadata": {},
          "execution_count": 4
        }
      ]
    },
    {
      "cell_type": "markdown",
      "source": [
        "Tuloksena tässä on siis sama peli kuin se, jossa syötteenä oli vain yksi matriisi. NashPy olettaa, että peli on _nollasummapeli_ eli että pelaajien hyödyt ovat vastakkaiset."
      ],
      "metadata": {
        "id": "yD_zWG1rwrRB"
      }
    },
    {
      "cell_type": "markdown",
      "source": [
        "## Peliparin strategioiden hyödyn laskeminen"
      ],
      "metadata": {
        "id": "41wlPoIdxfAi"
      }
    },
    {
      "cell_type": "markdown",
      "source": [
        "Edellä kerrattiin, että rivipelaajan pelatessa kolmosstrategian mukaisesti sakset ja sarakepelaajan pelatessa kakkosstrategian paperin, riviplaajan hyöty on $A_{32}=1$, koska sakset leikkaavat paperia."
      ],
      "metadata": {
        "id": "VCElq9ZCx2aR"
      }
    },
    {
      "cell_type": "markdown",
      "source": [
        "Matemaattinen ja yleinen kaikkii valintoihin sopiva lähestymistapa olisi tarkastella _vektoreita_, joiden koko on strategioiden lukumäärä. Esimerkiksi vektori $\\sigma_r=(0,0,1)$ on rivistrategia, jossa rivipelaaja pelaa kolmosstrategian mukaan. Vastaavasti $\\sigma_c=(0,1,0)$ on sarakepelaajan kakkosstrategia."
      ],
      "metadata": {
        "id": "iJCQETnpyOWf"
      }
    },
    {
      "cell_type": "markdown",
      "source": [
        "Kun strategiat merkitään edellä kuvatun mukaisesti, saadaan rivipelaajan hyödyksi seuraava lineaarialgebran lauseke: $$\\sigma_r A\\sigma_c^T$$"
      ],
      "metadata": {
        "id": "Wh8TlWYzzzBH"
      }
    },
    {
      "cell_type": "markdown",
      "source": [
        "Vastaavasti, jos $B$ on sarakepelaajan hyötymatriisi, sarakepelaajan hyöty on lauseke $$\\sigma_r B\\sigma_c^T$$"
      ],
      "metadata": {
        "id": "b9qMB7zp0ZSx"
      }
    },
    {
      "cell_type": "markdown",
      "source": [
        "NashPylla voidaan laskea nämä lausekkeiden arvot."
      ],
      "metadata": {
        "id": "Qfo2e8kc0YgO"
      }
    },
    {
      "cell_type": "code",
      "source": [
        "sigma_r = [0, 0, 1]\n",
        "sigma_c = [0, 1, 0]\n",
        "kps[sigma_r, sigma_c]"
      ],
      "metadata": {
        "colab": {
          "base_uri": "https://localhost:8080/"
        },
        "id": "2OeFCuJkrpsW",
        "outputId": "8a13aeec-b7f6-44ae-9cac-248043b0bc77"
      },
      "execution_count": 5,
      "outputs": [
        {
          "output_type": "execute_result",
          "data": {
            "text/plain": [
              "array([ 1, -1])"
            ]
          },
          "metadata": {},
          "execution_count": 5
        }
      ]
    },
    {
      "cell_type": "markdown",
      "source": [
        "Pelaajat voivat pelata satunnaisesti, jolloin hyödyt tulevat näkyviin pidempien pelien keskiarvoina. Tällaisissa tapauksissa edellä olevan kaltainen lähestymistapa strategioiden esittämiseen ja hyötyjen laskemiseen on erityisen hyödyllinen. Oletetaan esimerkiksi sarakepeelajan pelaavan kiviä ja papereita satunnaisesti. Tämä vastaa strategiaa $\\sigma_c = (\\frac{1}{2},\\frac{1}{2},0)$. Silloin pelin tulokseksi saadaan:"
      ],
      "metadata": {
        "id": "1YvLvKYR1J_E"
      }
    },
    {
      "cell_type": "code",
      "source": [
        "sigma_c = [1/2, 1/2, 0]\n",
        "kps[sigma_r, sigma_c]"
      ],
      "metadata": {
        "id": "FpL1dQjrmNEY",
        "colab": {
          "base_uri": "https://localhost:8080/"
        },
        "outputId": "486f0e96-4624-4cff-e32f-81a94182897c"
      },
      "execution_count": 6,
      "outputs": [
        {
          "output_type": "execute_result",
          "data": {
            "text/plain": [
              "array([0., 0.])"
            ]
          },
          "metadata": {},
          "execution_count": 6
        }
      ]
    },
    {
      "cell_type": "markdown",
      "source": [
        "Tässä tilanteessa rivipelaaja saattaisi haluta vaihtaa strategiaan ,jossa se pelaa satunnaisesti paperia ja saksia. Silloin lopputulokseksi voisi puolestaan olettaa:"
      ],
      "metadata": {
        "id": "sYo4jKIzBXlX"
      }
    },
    {
      "cell_type": "code",
      "source": [
        "sigma_r = [0, 1/2, 1/2]\n",
        "kps[sigma_r, sigma_c]"
      ],
      "metadata": {
        "id": "JouT6stYmNGf",
        "colab": {
          "base_uri": "https://localhost:8080/"
        },
        "outputId": "3a6a193a-cdd2-4232-8d01-d592ba8ca085"
      },
      "execution_count": 7,
      "outputs": [
        {
          "output_type": "execute_result",
          "data": {
            "text/plain": [
              "array([ 0.25, -0.25])"
            ]
          },
          "metadata": {},
          "execution_count": 7
        }
      ]
    },
    {
      "cell_type": "markdown",
      "source": [
        "Tässä vaiheessa sarakepelaajan olisi puolestaan reagoitava strategiaa vaihtamalla.\n",
        "\n",
        "Entä syntyykö missään vaiheessa tilannetta, jossa kummankaan pelaajan ei kannata enää tehdä omaa siirtoaan?"
      ],
      "metadata": {
        "id": "1L4RDLxqB7Ku"
      }
    },
    {
      "cell_type": "markdown",
      "source": [
        "## Nashin tasapainotilan laskeminen"
      ],
      "metadata": {
        "id": "WuDDOd1UCcGu"
      }
    },
    {
      "cell_type": "markdown",
      "source": [
        "*Nashin tasapainotila* on kahden pelaajan tapauksessa strategiapari, jossa kummankaan pelaajan ei kannata enää tehdä omaa siirtoaan. Sen voi laskea NashPyllä:"
      ],
      "metadata": {
        "id": "7RkATvAzCgWG"
      }
    },
    {
      "cell_type": "code",
      "source": [
        "eqs = kps.support_enumeration()\n",
        "list(eqs)"
      ],
      "metadata": {
        "colab": {
          "base_uri": "https://localhost:8080/"
        },
        "id": "kyjaUkRfBTMf",
        "outputId": "39db7b88-e3f7-472b-aacd-108312c635d4"
      },
      "execution_count": 8,
      "outputs": [
        {
          "output_type": "execute_result",
          "data": {
            "text/plain": [
              "[(array([0.33333333, 0.33333333, 0.33333333]),\n",
              "  array([0.33333333, 0.33333333, 0.33333333]))]"
            ]
          },
          "metadata": {},
          "execution_count": 8
        }
      ]
    },
    {
      "cell_type": "markdown",
      "source": [
        "Nashin tasapainotila on tärkeä käsite, jonka avulla pystytään ymmärtämään monimutkaisten systeemien käyttäytymistä paremmin."
      ],
      "metadata": {
        "id": "XvLzceP2DhBe"
      }
    },
    {
      "cell_type": "markdown",
      "source": [
        "## Oppiminen peleissä"
      ],
      "metadata": {
        "id": "HUlBHSuKEVU3"
      }
    },
    {
      "cell_type": "markdown",
      "source": [
        "Nashin tasapainotilaa ei pelitilanteissa aina saavuteta, etenkään jos molemmat pelaajat eivät sitä kohden erityisesti yhteistyössä pyri. Tasapainotila siis vastaa strategioita, joissa yhdenkään osapuolen ei kannata enää siirtää. Pelaajat eivät kuitenkaan välttämättä saavuta tasapainotilaa mitenkään vääjäämättä tai luontevasti. Seuraava esimerkki kuvaa tällaista tilannetta."
      ],
      "metadata": {
        "id": "XfgofOLCFLXo"
      }
    },
    {
      "cell_type": "code",
      "source": [
        "toistot = 100\n",
        "np.random.seed(0)\n",
        "play_counts = tuple(kps.fictitious_play(iterations=toistot))\n",
        "for row_play_count, column_play_count in play_counts:\n",
        "    print(row_play_count, column_play_count)"
      ],
      "metadata": {
        "colab": {
          "base_uri": "https://localhost:8080/"
        },
        "id": "vCwkuA9TBTPA",
        "outputId": "dc08cfc8-233b-493e-9b84-74f2e781cecc"
      },
      "execution_count": 9,
      "outputs": [
        {
          "output_type": "stream",
          "name": "stdout",
          "text": [
            "[0 0 0] [0 0 0]\n",
            "[1. 0. 0.] [0. 1. 0.]\n",
            "[1. 0. 1.] [0. 2. 0.]\n",
            "[1. 0. 2.] [1. 2. 0.]\n",
            "[1. 1. 2.] [2. 2. 0.]\n",
            "[1. 2. 2.] [3. 2. 0.]\n",
            "[1. 3. 2.] [3. 2. 1.]\n",
            "[1. 4. 2.] [3. 2. 2.]\n",
            "[1. 5. 2.] [3. 2. 3.]\n",
            "[2. 5. 2.] [3. 2. 4.]\n",
            "[3. 5. 2.] [3. 2. 5.]\n",
            "[4. 5. 2.] [3. 2. 6.]\n",
            "[5. 5. 2.] [3. 3. 6.]\n",
            "[6. 5. 2.] [3. 4. 6.]\n",
            "[7. 5. 2.] [3. 5. 6.]\n",
            "[7. 5. 3.] [3. 6. 6.]\n",
            "[7. 5. 4.] [3. 7. 6.]\n",
            "[7. 5. 5.] [3. 8. 6.]\n",
            "[7. 5. 6.] [3. 9. 6.]\n",
            "[7. 5. 7.] [ 3. 10.  6.]\n",
            "[7. 5. 8.] [ 4. 10.  6.]\n",
            "[7. 5. 9.] [ 5. 10.  6.]\n",
            "[ 7.  5. 10.] [ 6. 10.  6.]\n",
            "[ 7.  5. 11.] [ 7. 10.  6.]\n",
            "[ 7.  5. 12.] [ 8. 10.  6.]\n",
            "[ 7.  5. 13.] [ 9. 10.  6.]\n",
            "[ 7.  6. 13.] [10. 10.  6.]\n",
            "[ 7.  7. 13.] [11. 10.  6.]\n",
            "[ 7.  8. 13.] [12. 10.  6.]\n",
            "[ 7.  9. 13.] [13. 10.  6.]\n",
            "[ 7. 10. 13.] [14. 10.  6.]\n",
            "[ 7. 11. 13.] [14. 10.  7.]\n",
            "[ 7. 12. 13.] [14. 10.  8.]\n",
            "[ 7. 13. 13.] [14. 10.  9.]\n",
            "[ 7. 14. 13.] [14. 10. 10.]\n",
            "[ 7. 15. 13.] [14. 10. 11.]\n",
            "[ 7. 16. 13.] [14. 10. 12.]\n",
            "[ 7. 17. 13.] [14. 10. 13.]\n",
            "[ 8. 17. 13.] [14. 10. 14.]\n",
            "[ 9. 17. 13.] [14. 10. 15.]\n",
            "[10. 17. 13.] [14. 10. 16.]\n",
            "[11. 17. 13.] [14. 10. 17.]\n",
            "[12. 17. 13.] [14. 10. 18.]\n",
            "[13. 17. 13.] [14. 10. 19.]\n",
            "[14. 17. 13.] [14. 10. 20.]\n",
            "[15. 17. 13.] [14. 10. 21.]\n",
            "[16. 17. 13.] [14. 10. 22.]\n",
            "[17. 17. 13.] [14. 11. 22.]\n",
            "[18. 17. 13.] [14. 12. 22.]\n",
            "[19. 17. 13.] [14. 13. 22.]\n",
            "[20. 17. 13.] [14. 14. 22.]\n",
            "[21. 17. 13.] [14. 15. 22.]\n",
            "[22. 17. 13.] [14. 16. 22.]\n",
            "[23. 17. 13.] [14. 17. 22.]\n",
            "[24. 17. 13.] [14. 18. 22.]\n",
            "[24. 17. 14.] [14. 19. 22.]\n",
            "[24. 17. 15.] [14. 20. 22.]\n",
            "[24. 17. 16.] [14. 21. 22.]\n",
            "[24. 17. 17.] [14. 22. 22.]\n",
            "[24. 17. 18.] [14. 23. 22.]\n",
            "[24. 17. 19.] [14. 24. 22.]\n",
            "[24. 17. 20.] [14. 25. 22.]\n",
            "[24. 17. 21.] [14. 26. 22.]\n",
            "[24. 17. 22.] [15. 26. 22.]\n",
            "[24. 17. 23.] [16. 26. 22.]\n",
            "[24. 17. 24.] [17. 26. 22.]\n",
            "[24. 17. 25.] [18. 26. 22.]\n",
            "[24. 17. 26.] [19. 26. 22.]\n",
            "[24. 17. 27.] [20. 26. 22.]\n",
            "[24. 17. 28.] [21. 26. 22.]\n",
            "[24. 17. 29.] [22. 26. 22.]\n",
            "[24. 17. 30.] [23. 26. 22.]\n",
            "[24. 17. 31.] [24. 26. 22.]\n",
            "[24. 17. 32.] [25. 26. 22.]\n",
            "[24. 18. 32.] [26. 26. 22.]\n",
            "[24. 19. 32.] [27. 26. 22.]\n",
            "[24. 20. 32.] [28. 26. 22.]\n",
            "[24. 21. 32.] [29. 26. 22.]\n",
            "[24. 22. 32.] [30. 26. 22.]\n",
            "[24. 23. 32.] [31. 26. 22.]\n",
            "[24. 24. 32.] [32. 26. 22.]\n",
            "[24. 25. 32.] [33. 26. 22.]\n",
            "[24. 26. 32.] [34. 26. 22.]\n",
            "[24. 27. 32.] [35. 26. 22.]\n",
            "[24. 28. 32.] [36. 26. 22.]\n",
            "[24. 29. 32.] [37. 26. 22.]\n",
            "[24. 30. 32.] [37. 26. 23.]\n",
            "[24. 31. 32.] [37. 26. 24.]\n",
            "[24. 32. 32.] [37. 26. 25.]\n",
            "[24. 33. 32.] [37. 26. 26.]\n",
            "[24. 34. 32.] [37. 26. 27.]\n",
            "[24. 35. 32.] [37. 26. 28.]\n",
            "[24. 36. 32.] [37. 26. 29.]\n",
            "[24. 37. 32.] [37. 26. 30.]\n",
            "[24. 38. 32.] [37. 26. 31.]\n",
            "[24. 39. 32.] [37. 26. 32.]\n",
            "[25. 39. 32.] [37. 26. 33.]\n",
            "[26. 39. 32.] [37. 26. 34.]\n",
            "[27. 39. 32.] [37. 26. 35.]\n",
            "[28. 39. 32.] [37. 26. 36.]\n",
            "[29. 39. 32.] [37. 26. 37.]\n"
          ]
        }
      ]
    },
    {
      "cell_type": "markdown",
      "source": [
        "Tässä tapauksessa käyttäytyminen näyttää tältä, sillä pelimäärät voidaan ajatella strategiavektoreiksi. On syytä huomata, että nämä eivät aina suppene. Tässä muistiossa ei kuitenkaan mennä yksityiskohtiin."
      ],
      "metadata": {
        "id": "p9DtegTqNy6c"
      }
    },
    {
      "cell_type": "code",
      "source": [
        "import matplotlib.pyplot as plt\n",
        "plt.figure()\n",
        "probabilities = [row_play_counts / np.sum(row_play_counts) for row_play_counts, col_play_counts in play_counts]\n",
        "for number, strategy in enumerate(zip(*probabilities)):\n",
        "    plt.plot(strategy, label=f\"$s_{number}$\")\n",
        "plt.xlabel(\"Toistot\")\n",
        "plt.ylabel(\"Todennäköisyys\")\n",
        "plt.title(\"Rivipelaajan toiminnot\")\n",
        "plt.legend()"
      ],
      "metadata": {
        "colab": {
          "base_uri": "https://localhost:8080/",
          "height": 544
        },
        "id": "x-8qKroZBTUO",
        "outputId": "edc5e586-4326-4fca-a191-c7351df97959"
      },
      "execution_count": 10,
      "outputs": [
        {
          "output_type": "stream",
          "name": "stderr",
          "text": [
            "<ipython-input-10-c7831e131437>:3: RuntimeWarning: invalid value encountered in divide\n",
            "  probabilities = [row_play_counts / np.sum(row_play_counts) for row_play_counts, col_play_counts in play_counts]\n"
          ]
        },
        {
          "output_type": "execute_result",
          "data": {
            "text/plain": [
              "<matplotlib.legend.Legend at 0x7b3d9365fb50>"
            ]
          },
          "metadata": {},
          "execution_count": 10
        },
        {
          "output_type": "display_data",
          "data": {
            "text/plain": [
              "<Figure size 640x480 with 1 Axes>"
            ],
            "image/png": "[encoded data removed]"
          },
          "metadata": {}
        }
      ]
    },
    {
      "cell_type": "markdown",
      "source": [
        "Lukijaa kehotetaan etsimään erilaisia tapauksia ja myös parametrien arvoja, joissa yllä oleva todennäköisyys lähestyy yhtä arvoa toistojen kasvaessa; sekä kääntäen tilanteita, joissa näin ei tapahdu eli todennäköisyys hajaantuu."
      ],
      "metadata": {
        "id": "W7qultUZN54b"
      }
    },
    {
      "cell_type": "markdown",
      "source": [
        "Lähde ja lisälukemista:\n",
        "* [Welcome to Nashpy’s documentation!](https://nashpy.readthedocs.io/en/stable/index.html)\n",
        "   * [Tutorial: building and finding the equilibrium for a game](https://nashpy.readthedocs.io/en/stable/tutorial/index.html#introduction-to-game-theory)"
      ],
      "metadata": {
        "id": "ydoZ6YLwmZPo"
      }
    },
    {
      "cell_type": "code",
      "source": [
        "import datetime\n",
        "import pytz\n",
        "\n",
        "tz = pytz.timezone('Europe/Helsinki')\n",
        "print(f'Last modified {tz.localize(datetime.datetime.now()):%Y-%m-%d %H:%M} by Juha Nurmonen')"
      ],
      "metadata": {
        "colab": {
          "base_uri": "https://localhost:8080/"
        },
        "id": "pqBeZ8RzmNNP",
        "outputId": "0afda85b-8bb3-44b6-cb92-af0e78847585"
      },
      "execution_count": 11,
      "outputs": [
        {
          "output_type": "stream",
          "name": "stdout",
          "text": [
            "Last modified 2025-03-19 12:22 by Juha Nurmonen\n"
          ]
        }
      ]
    }
  ]
}