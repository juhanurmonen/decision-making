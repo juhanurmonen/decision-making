{
  "cells": [
    {
      "cell_type": "markdown",
      "id": "0de111d5",
      "metadata": {
        "id": "0de111d5"
      },
      "source": [
        "# Strategiset päätöksentekomallit"
      ]
    },
    {
      "cell_type": "markdown",
      "id": "4a217e68",
      "metadata": {
        "id": "4a217e68"
      },
      "source": [
        "##Lineaarinen optimointi"
      ]
    },
    {
      "cell_type": "markdown",
      "source": [
        "Ratkaistaan seuraava optimointiongelma."
      ],
      "metadata": {
        "id": "194NeUD0IkfL"
      },
      "id": "194NeUD0IkfL"
    },
    {
      "cell_type": "markdown",
      "id": "e92bbda2",
      "metadata": {
        "id": "e92bbda2"
      },
      "source": [
        "### Lähtötiedot"
      ]
    },
    {
      "cell_type": "markdown",
      "id": "e8318916",
      "metadata": {
        "id": "e8318916"
      },
      "source": [
        "Yritys valmistaa kahta tuotetta, hilaa ja vitkutinta. Hilan kate on 250 euroa ja vitkuttimen kate 320 euroa tuotetta kohden. Valmistuksessa on neljä työvaihetta: leikkaus, stanssaus, puristus ja maalaus."
      ]
    },
    {
      "cell_type": "markdown",
      "id": "5d4aba9d",
      "metadata": {
        "id": "5d4aba9d"
      },
      "source": [
        "Kukin työvaihe vaatii tuotteilta seuraavasti aikaa (minuuttia):\n",
        "\n",
        "<table align=\"center\">\n",
        "<tr>\n",
        "<th></th>\n",
        "<th>leikkaus</th>\n",
        "<th>stanssaus</th>\n",
        "<th>puristus</th>\n",
        "<th>maalaus</th>\n",
        "</tr>\n",
        "  \n",
        "<tr>\n",
        "<th>hila</th>\n",
        "<td>12</td>\n",
        "<td>16</td>\n",
        "<td>12</td>\n",
        "<td>22</td>\n",
        "</tr>\n",
        "  \n",
        "<tr>\n",
        "<th>vitkutin</th>\n",
        "<td>20</td>\n",
        "<td>7</td>\n",
        "<td>6</td>\n",
        "<td>15</td>\n",
        "</tr>\n",
        "\n",
        "<tr>\n",
        "<th>kapasiteetti</th>\n",
        "<td>25&nbsp;000</td>\n",
        "<td>30&nbsp;000</td>\n",
        "<td>30&nbsp;000</td>\n",
        "<td>20&nbsp;000</td>\n",
        "</tr>\n",
        "        \n",
        "</table>"
      ]
    },
    {
      "cell_type": "markdown",
      "id": "e9e57c9b",
      "metadata": {
        "id": "e9e57c9b"
      },
      "source": [
        "### Selvitettävät asiat"
      ]
    },
    {
      "cell_type": "markdown",
      "id": "fcea7f63",
      "metadata": {
        "id": "fcea7f63"
      },
      "source": [
        "Selvitä oheisesta verkosta:\n",
        "\n",
        "1. Optimaalinen tuotanto-ohjelma. (20 %)\n",
        "2. Maksimikate. (20 %)\n",
        "3. Yrityksellä on käytössään 25 000 euroa, jotka se voi käyttää minkä tahansa tuotantovaiheen mutta vain yhden tuotantovaiheen kapasiteetin lisäämiseen hintaan 1 €/min. Kuinka yrityksen kannattaisi käyttää 25 000 euroa kapasiteetin lisäykseen? (30 %)"
      ]
    },
    {
      "cell_type": "markdown",
      "id": "44e51b88",
      "metadata": {
        "id": "44e51b88"
      },
      "source": [
        "Yrityksellä on lähtötilanteeseen liittyen (lisäkapasiteetti 25 000 euroa ei siis ole tässä tapauksessa käytössä) vielä tuote vilunki, jonka kate on 350 euroa tuotteelta ja joka vaatii kapasiteettia seuraavasti:\n",
        "\n",
        "<table>\n",
        "<tr>\n",
        "<th></th>\n",
        "<th>leikkaus</th>\n",
        "<th>stanssaus</th>\n",
        "<th>puristus</th>\n",
        "<th>maalaus</th>\n",
        "</tr>\n",
        "   \n",
        "<tr>\n",
        "<th>vilunki</th>\n",
        "<td>30</td>\n",
        "<td>20</td>\n",
        "<td>10</td>\n",
        "<td>25</td>        \n",
        "</tr>\n",
        "</table>"
      ]
    },
    {
      "cell_type": "markdown",
      "id": "185bb8d7",
      "metadata": {
        "id": "185bb8d7"
      },
      "source": [
        "4. Mikä on yrityksen optimituotanto ja maksimikate? (30 %)"
      ]
    },
    {
      "cell_type": "markdown",
      "source": [
        "## Ratkaisu"
      ],
      "metadata": {
        "id": "8YB3Y2H3I-jz"
      },
      "id": "8YB3Y2H3I-jz"
    },
    {
      "cell_type": "markdown",
      "source": [
        "Otetaan käyttöön PuLP ja tuodaan kirjastot."
      ],
      "metadata": {
        "id": "0zbdyUxQJBJF"
      },
      "id": "0zbdyUxQJBJF"
    },
    {
      "cell_type": "code",
      "source": [
        "!pip install pulp"
      ],
      "metadata": {
        "colab": {
          "base_uri": "https://localhost:8080/"
        },
        "id": "KX_jlFfrIxh2",
        "outputId": "3f3b16cc-ed44-4b61-cc58-d2571d65c770"
      },
      "id": "KX_jlFfrIxh2",
      "execution_count": 1,
      "outputs": [
        {
          "output_type": "stream",
          "name": "stdout",
          "text": [
            "Requirement already satisfied: pulp in /usr/local/lib/python3.10/dist-packages (2.9.0)\n"
          ]
        }
      ]
    },
    {
      "cell_type": "code",
      "source": [
        "# Tuodaan kirjastot\n",
        "\n",
        "from  pulp import LpMaximize, LpProblem, LpStatus, lpSum, LpVariable"
      ],
      "metadata": {
        "id": "EDzb8JdGIyIM"
      },
      "id": "EDzb8JdGIyIM",
      "execution_count": 2,
      "outputs": []
    },
    {
      "cell_type": "markdown",
      "source": [
        "Optimointitehtävässä ratkaistaan lineaarinen optimointiongelma, jossa\n",
        "\n",
        "Maksimoidaan\n",
        "$$\n",
        "250*hila +320*vitku\n",
        "$$\n",
        "\n",
        "Rajoitteina ovat\n",
        "\n",
        "Leikkausrajoite: $$12*hila + 20*vitku \\leq 25 000$$\n",
        "\n",
        "Stanssausrajoite: $$16*hila + 7*vitku \\leq 30 000$$\n",
        "\n",
        "Puristusrajoite: $$12*hila + 6*vitku \\leq 30 000$$\n",
        "\n",
        "Maalausrajoite: $$22*hila + 15*vitku \\leq 20 000$$"
      ],
      "metadata": {
        "id": "yYxfWey7Jc9T"
      },
      "id": "yYxfWey7Jc9T"
    },
    {
      "cell_type": "markdown",
      "source": [
        "Luodaan malli."
      ],
      "metadata": {
        "id": "rkkBnRMzMmUF"
      },
      "id": "rkkBnRMzMmUF"
    },
    {
      "cell_type": "code",
      "source": [
        "# Luodaan malli\n",
        "\n",
        "model = LpProblem(name=\"tuotanto-ongelma\", sense=LpMaximize)"
      ],
      "metadata": {
        "id": "R3OsXlc5IyK9"
      },
      "id": "R3OsXlc5IyK9",
      "execution_count": 3,
      "outputs": []
    },
    {
      "cell_type": "markdown",
      "source": [
        "Alustetaan päätösmuuttujat."
      ],
      "metadata": {
        "id": "1r7Rrb4TM9W2"
      },
      "id": "1r7Rrb4TM9W2"
    },
    {
      "cell_type": "code",
      "source": [
        "# Alustetaan päätösmuuttujat\n",
        "\n",
        "x = LpVariable(name=\"hila\", lowBound=0, cat = \"Integer\")\n",
        "y = LpVariable(name=\"vitkutin\", lowBound=0, cat = \"Integer\")"
      ],
      "metadata": {
        "id": "yjI86P9vIyNk"
      },
      "id": "yjI86P9vIyNk",
      "execution_count": 4,
      "outputs": []
    },
    {
      "cell_type": "markdown",
      "source": [
        "Lisätään rajoitteet ja tavoitefunktio."
      ],
      "metadata": {
        "id": "1BPJDuqdOLG2"
      },
      "id": "1BPJDuqdOLG2"
    },
    {
      "cell_type": "code",
      "source": [
        "# Lisätään malliin rajoitteet\n",
        "\n",
        "model += (12 * x + 20 * y <= 25000, \"leikkausrajoite\")\n",
        "model += (16 * x + 7 * y <= 30000, \"stanssausrajoite\")\n",
        "model += (12 * x + 6 * y <= 30000, \"puristusrajoite\")\n",
        "model += (22 * x + 15 * y <= 20000, \"maalausrajoite\")\n"
      ],
      "metadata": {
        "id": "CkO5RRfIIyUz"
      },
      "id": "CkO5RRfIIyUz",
      "execution_count": 5,
      "outputs": []
    },
    {
      "cell_type": "code",
      "source": [
        "# Lisätään malliin tavoitefunktio\n",
        "\n",
        "obj_func = 250 * x + 320 * y\n",
        "model += obj_func"
      ],
      "metadata": {
        "id": "8BLWslo-OOEW"
      },
      "id": "8BLWslo-OOEW",
      "execution_count": 6,
      "outputs": []
    },
    {
      "cell_type": "markdown",
      "source": [
        "Katsotaan, mitä ollaan tähän asti tehty ja että kaikki on kunnossa."
      ],
      "metadata": {
        "id": "HuSQQ_bnPwan"
      },
      "id": "HuSQQ_bnPwan"
    },
    {
      "cell_type": "code",
      "source": [
        "model"
      ],
      "metadata": {
        "colab": {
          "base_uri": "https://localhost:8080/"
        },
        "id": "TfI03LaFP3EH",
        "outputId": "c9e2f16c-7554-4b0e-8a2e-6d906e496399"
      },
      "id": "TfI03LaFP3EH",
      "execution_count": 7,
      "outputs": [
        {
          "output_type": "execute_result",
          "data": {
            "text/plain": [
              "tuotanto-ongelma:\n",
              "MAXIMIZE\n",
              "250*hila + 320*vitkutin + 0\n",
              "SUBJECT TO\n",
              "leikkausrajoite: 12 hila + 20 vitkutin <= 25000\n",
              "\n",
              "stanssausrajoite: 16 hila + 7 vitkutin <= 30000\n",
              "\n",
              "puristusrajoite: 12 hila + 6 vitkutin <= 30000\n",
              "\n",
              "maalausrajoite: 22 hila + 15 vitkutin <= 20000\n",
              "\n",
              "VARIABLES\n",
              "0 <= hila Integer\n",
              "0 <= vitkutin Integer"
            ]
          },
          "metadata": {},
          "execution_count": 7
        }
      ]
    },
    {
      "cell_type": "markdown",
      "source": [
        "Nyt ollaan valmiita ratkaisemaan ongelma."
      ],
      "metadata": {
        "id": "x3fuuioKPwdT"
      },
      "id": "x3fuuioKPwdT"
    },
    {
      "cell_type": "code",
      "source": [
        "# Ratkaistaan optimointiongelma\n",
        "\n",
        "status = model.solve()"
      ],
      "metadata": {
        "id": "s1QSDvmsP8p2"
      },
      "id": "s1QSDvmsP8p2",
      "execution_count": 8,
      "outputs": []
    },
    {
      "cell_type": "markdown",
      "source": [
        "Tutustutaan ratkaisuun."
      ],
      "metadata": {
        "id": "H2U3epJUPwf3"
      },
      "id": "H2U3epJUPwf3"
    },
    {
      "cell_type": "code",
      "source": [
        "# Optimointiratkaisun tilanne\n",
        "\n",
        "print(f\"status: {model.status}, {LpStatus[model.status]}\")"
      ],
      "metadata": {
        "colab": {
          "base_uri": "https://localhost:8080/"
        },
        "id": "0sOsqA69Qech",
        "outputId": "be67c4c7-70a6-4691-e0fc-284430ba60ba"
      },
      "id": "0sOsqA69Qech",
      "execution_count": 9,
      "outputs": [
        {
          "output_type": "stream",
          "name": "stdout",
          "text": [
            "status: 1, Optimal\n"
          ]
        }
      ]
    },
    {
      "cell_type": "markdown",
      "source": [
        "Optimiratkaisu siis löytyi. Maksimaalinen kate on 405 510 euroa:\n",
        "\n"
      ],
      "metadata": {
        "id": "RGDLHnZ2Qlzn"
      },
      "id": "RGDLHnZ2Qlzn"
    },
    {
      "cell_type": "code",
      "source": [
        "# Optimointiongelman tavoiteratkaisu\n",
        "\n",
        "print(f\"objective: {model.objective.value()}\")"
      ],
      "metadata": {
        "colab": {
          "base_uri": "https://localhost:8080/"
        },
        "id": "RaTDJMk_QsSp",
        "outputId": "bdee912d-cb0a-4fa8-a6e8-4ff48b9a9a94"
      },
      "id": "RaTDJMk_QsSp",
      "execution_count": 10,
      "outputs": [
        {
          "output_type": "stream",
          "name": "stdout",
          "text": [
            "objective: 405510.0\n"
          ]
        }
      ]
    },
    {
      "cell_type": "markdown",
      "source": [
        "Se saadaan muuttujien hila ja vitkutin arvoilla hila = 95 ja vitkutin = 1 193."
      ],
      "metadata": {
        "id": "dpnaSkGERKiw"
      },
      "id": "dpnaSkGERKiw"
    },
    {
      "cell_type": "code",
      "source": [
        "# Päätösmuuttujien arvot\n",
        "\n",
        "for var in model.variables():\n",
        "    print(f\"{var.name}: {var.value()}\")"
      ],
      "metadata": {
        "colab": {
          "base_uri": "https://localhost:8080/"
        },
        "id": "uM69ShPIQsYX",
        "outputId": "eaa4d08d-e955-4f1d-b3c7-00af6257ba58"
      },
      "id": "uM69ShPIQsYX",
      "execution_count": 11,
      "outputs": [
        {
          "output_type": "stream",
          "name": "stdout",
          "text": [
            "hila: 95.0\n",
            "vitkutin: 1193.0\n"
          ]
        }
      ]
    },
    {
      "cell_type": "markdown",
      "source": [
        "Ratkaisun rajoitteet ovat"
      ],
      "metadata": {
        "id": "QVqqLqY7RpuP"
      },
      "id": "QVqqLqY7RpuP"
    },
    {
      "cell_type": "code",
      "source": [
        "# Rajoitteet\n",
        "\n",
        "for name, constraint in model.constraints.items():\n",
        "    print(f\"{name}: {constraint.value()}\")"
      ],
      "metadata": {
        "colab": {
          "base_uri": "https://localhost:8080/"
        },
        "id": "QopzxzhiQscZ",
        "outputId": "bb28d3e2-b374-4e0b-a208-3688be04924a"
      },
      "id": "QopzxzhiQscZ",
      "execution_count": 12,
      "outputs": [
        {
          "output_type": "stream",
          "name": "stdout",
          "text": [
            "leikkausrajoite: 0.0\n",
            "stanssausrajoite: -20129.0\n",
            "puristusrajoite: -21702.0\n",
            "maalausrajoite: -15.0\n"
          ]
        }
      ]
    },
    {
      "cell_type": "markdown",
      "source": [
        "Käytetty ratkaisualgoritmi oli CBC."
      ],
      "metadata": {
        "id": "ZZyGmiDeS_E5"
      },
      "id": "ZZyGmiDeS_E5"
    },
    {
      "cell_type": "code",
      "source": [
        "# Ratkaisualgoritmi\n",
        "\n",
        "model.solver"
      ],
      "metadata": {
        "colab": {
          "base_uri": "https://localhost:8080/"
        },
        "id": "G8DjDr2mQsfY",
        "outputId": "a650a6d2-fe83-4576-8906-a4dd885d7dd2"
      },
      "id": "G8DjDr2mQsfY",
      "execution_count": 13,
      "outputs": [
        {
          "output_type": "execute_result",
          "data": {
            "text/plain": [
              "<pulp.apis.coin_api.PULP_CBC_CMD at 0x7ef0ae597130>"
            ]
          },
          "metadata": {},
          "execution_count": 13
        }
      ]
    },
    {
      "cell_type": "markdown",
      "source": [
        "**Vastaus**:\n",
        "\n",
        "* Optimaalinen tuotanto-ohjelma saadaan valmistamalla 95 kpl hiloja ja 1 193 kappaletta vitkuttimia.\n",
        "\n",
        "* Maksmimikate on tuolloin 405 510 euroa.\n"
      ],
      "metadata": {
        "id": "3PmctzPPTTHx"
      },
      "id": "3PmctzPPTTHx"
    },
    {
      "cell_type": "markdown",
      "source": [
        "### Kohta 3"
      ],
      "metadata": {
        "id": "wfFRfOdJTTUw"
      },
      "id": "wfFRfOdJTTUw"
    },
    {
      "cell_type": "markdown",
      "source": [
        "Katsotaan, mihin tuotantovaiheesen lisäämällä päästään parhaaseen ratkaisuun."
      ],
      "metadata": {
        "id": "l72ULgh3W1JJ"
      },
      "id": "l72ULgh3W1JJ"
    },
    {
      "cell_type": "code",
      "source": [
        "# Luodaan malli\n",
        "\n",
        "model = LpProblem(name=\"tuotanto-leikkaus+25000\", sense=LpMaximize)\n",
        "\n",
        "# Määritellään päätösmuuttujat\n",
        "\n",
        "x = {i: LpVariable(name=f\"x{i}\", lowBound=0, cat = \"Integer\") for i in range(1, 3)}\n",
        "\n",
        "# Lisätään rajoitteet\n",
        "\n",
        "model += (12 * x[1] + 20 * x[2] <= 50000, \"leikkausrajoite\")\n",
        "model += (16 * x[1] + 7 * x[2] <= 30000, \"stanssausrajoite\")\n",
        "model += (12 * x[1] + 6 * x[2] <= 30000, \"puristusrajoite\")\n",
        "model += (22 * x[1] + 15 * x[2] <= 20000, \"maalausrajoite\")\n",
        "\n",
        "# Maäritetään tavoitefunktio\n",
        "\n",
        "model += 250 * x[1] + 320 * x[2]\n",
        "\n",
        "# Ratkaistaan optimointiongelma\n",
        "\n",
        "status = model.solve()\n",
        "\n",
        "print(f\"ratkaisun tilanne: {model.status}, {LpStatus[model.status]}\")\n",
        "print(f\"tavoitefunktion optimiarvo: {model.objective.value()}\")\n",
        "\n",
        "for var in model.variables():\n",
        "    print(f\"{var.name}: {var.value()}\")\n",
        "\n",
        "for name, constraint in model.constraints.items():\n",
        "    print(f\"{name}: {constraint.value()}\")"
      ],
      "metadata": {
        "colab": {
          "base_uri": "https://localhost:8080/"
        },
        "id": "qhk81FrzWuD6",
        "outputId": "b6443abd-9cfe-47fd-e828-e381ce0ceccc"
      },
      "id": "qhk81FrzWuD6",
      "execution_count": 14,
      "outputs": [
        {
          "output_type": "stream",
          "name": "stdout",
          "text": [
            "ratkaisun tilanne: 1, Optimal\n",
            "tavoitefunktion optimiarvo: 426560.0\n",
            "x1: 0.0\n",
            "x2: 1333.0\n",
            "leikkausrajoite: -23340.0\n",
            "stanssausrajoite: -20669.0\n",
            "puristusrajoite: -22002.0\n",
            "maalausrajoite: -5.0\n"
          ]
        }
      ]
    },
    {
      "cell_type": "code",
      "source": [
        "# Luodaan malli\n",
        "\n",
        "model = LpProblem(name=\"tuotanto-stanssaus+25000\", sense=LpMaximize)\n",
        "\n",
        "# Määritellään päätösmuuttujat\n",
        "\n",
        "x = {i: LpVariable(name=f\"x{i}\", lowBound=0, cat = \"Integer\") for i in range(1, 3)}\n",
        "\n",
        "# Lisätään rajoitteet\n",
        "\n",
        "model += (12 * x[1] + 20 * x[2] <= 25000, \"leikkausrajoite\")\n",
        "model += (16 * x[1] + 7 * x[2] <= 55000, \"stanssausrajoite\")\n",
        "model += (12 * x[1] + 6 * x[2] <= 30000, \"puristusrajoite\")\n",
        "model += (22 * x[1] + 15 * x[2] <= 20000, \"maalausrajoite\")\n",
        "\n",
        "\n",
        "# Maäritetään tavoitefunktio\n",
        "\n",
        "model += 250 * x[1] + 320 * x[2]\n",
        "\n",
        "# Ratkaistaan optimointiongelma\n",
        "\n",
        "status = model.solve()\n",
        "\n",
        "print(f\"ratkaisun tilanne: {model.status}, {LpStatus[model.status]}\")\n",
        "print(f\"tavoitefunktion optimiarvo: {model.objective.value()}\")\n",
        "\n",
        "for var in model.variables():\n",
        "    print(f\"{var.name}: {var.value()}\")\n",
        "\n",
        "for name, constraint in model.constraints.items():\n",
        "    print(f\"{name}: {constraint.value()}\")"
      ],
      "metadata": {
        "colab": {
          "base_uri": "https://localhost:8080/"
        },
        "id": "DRnI3L-hclfm",
        "outputId": "715fdf66-80d7-48d8-f9d0-a6a504f80ac6"
      },
      "id": "DRnI3L-hclfm",
      "execution_count": 15,
      "outputs": [
        {
          "output_type": "stream",
          "name": "stdout",
          "text": [
            "ratkaisun tilanne: 1, Optimal\n",
            "tavoitefunktion optimiarvo: 405510.0\n",
            "x1: 95.0\n",
            "x2: 1193.0\n",
            "leikkausrajoite: 0.0\n",
            "stanssausrajoite: -45129.0\n",
            "puristusrajoite: -21702.0\n",
            "maalausrajoite: -15.0\n"
          ]
        }
      ]
    },
    {
      "cell_type": "code",
      "source": [
        "# Luodaan malli\n",
        "\n",
        "model = LpProblem(name=\"tuotanto-puristus+25000\", sense=LpMaximize)\n",
        "\n",
        "# Määritellään päätösmuuttujat\n",
        "\n",
        "x = {i: LpVariable(name=f\"x{i}\", lowBound=0, cat = \"Integer\") for i in range(1, 3)}\n",
        "\n",
        "# Lisätään rajoitteet\n",
        "\n",
        "model += (12 * x[1] + 20 * x[2] <= 25000, \"leikkausrajoite\")\n",
        "model += (16 * x[1] + 7 * x[2] <= 30000, \"stanssausrajoite\")\n",
        "model += (12 * x[1] + 6 * x[2] <= 55000, \"puristusrajoite\")\n",
        "model += (22 * x[1] + 15 * x[2] <= 20000, \"maalausrajoite\")\n",
        "\n",
        "\n",
        "# Maäritetään tavoitefunktio\n",
        "\n",
        "model += 250 * x[1] + 320 * x[2]\n",
        "\n",
        "# Ratkaistaan optimointiongelma\n",
        "\n",
        "status = model.solve()\n",
        "\n",
        "print(f\"ratkaisun tilanne: {model.status}, {LpStatus[model.status]}\")\n",
        "print(f\"tavoitefunktion optimiarvo: {model.objective.value()}\")\n",
        "\n",
        "for var in model.variables():\n",
        "    print(f\"{var.name}: {var.value()}\")\n",
        "\n",
        "for name, constraint in model.constraints.items():\n",
        "    print(f\"{name}: {constraint.value()}\")"
      ],
      "metadata": {
        "colab": {
          "base_uri": "https://localhost:8080/"
        },
        "id": "Vwsg6oK7cwEv",
        "outputId": "5b5b0403-8797-4a46-9473-9bad22d8ad2c"
      },
      "id": "Vwsg6oK7cwEv",
      "execution_count": 16,
      "outputs": [
        {
          "output_type": "stream",
          "name": "stdout",
          "text": [
            "ratkaisun tilanne: 1, Optimal\n",
            "tavoitefunktion optimiarvo: 405510.0\n",
            "x1: 95.0\n",
            "x2: 1193.0\n",
            "leikkausrajoite: 0.0\n",
            "stanssausrajoite: -20129.0\n",
            "puristusrajoite: -46702.0\n",
            "maalausrajoite: -15.0\n"
          ]
        }
      ]
    },
    {
      "cell_type": "code",
      "source": [
        "# Luodaan malli\n",
        "\n",
        "model = LpProblem(name=\"tuotanto-maalaus+25000\", sense=LpMaximize)\n",
        "\n",
        "# Määritellään päätösmuuttujat\n",
        "\n",
        "x = {i: LpVariable(name=f\"x{i}\", lowBound=0, cat = \"Integer\") for i in range(1, 3)}\n",
        "\n",
        "# Lisätään rajoitteet\n",
        "\n",
        "model += (12 * x[1] + 20 * x[2] <= 25000, \"leikkausrajoite\")\n",
        "model += (16 * x[1] + 7 * x[2] <= 30000, \"stanssausrajoite\")\n",
        "model += (12 * x[1] + 6 * x[2] <= 30000, \"puristusrajoite\")\n",
        "model += (22 * x[1] + 15 * x[2] <= 45000, \"maalausrajoite\")\n",
        "\n",
        "\n",
        "# Maäritetään tavoitefunktio\n",
        "\n",
        "model += 250 * x[1] + 320 * x[2]\n",
        "\n",
        "# Ratkaistaan optimointiongelma\n",
        "\n",
        "status = model.solve()\n",
        "\n",
        "print(f\"ratkaisun tilanne: {model.status}, {LpStatus[model.status]}\")\n",
        "print(f\"tavoitefunktion optimiarvo: {model.objective.value()}\")\n",
        "\n",
        "for var in model.variables():\n",
        "    print(f\"{var.name}: {var.value()}\")\n",
        "\n",
        "for name, constraint in model.constraints.items():\n",
        "    print(f\"{name}: {constraint.value()}\")"
      ],
      "metadata": {
        "colab": {
          "base_uri": "https://localhost:8080/"
        },
        "id": "QEQiESpPc4nf",
        "outputId": "06cb22c4-9e6b-4be8-de13-425303d3cdb9"
      },
      "id": "QEQiESpPc4nf",
      "execution_count": 17,
      "outputs": [
        {
          "output_type": "stream",
          "name": "stdout",
          "text": [
            "ratkaisun tilanne: 1, Optimal\n",
            "tavoitefunktion optimiarvo: 504400.0\n",
            "x1: 1800.0\n",
            "x2: 170.0\n",
            "leikkausrajoite: 0.0\n",
            "stanssausrajoite: -10.0\n",
            "puristusrajoite: -7380.0\n",
            "maalausrajoite: -2850.0\n"
          ]
        }
      ]
    },
    {
      "cell_type": "code",
      "source": [
        "# Lasketaan vertaamalla aiempaan, hyödytäänkö.\n",
        "\n",
        "hyöty = 504400 - 405510\n",
        "\n",
        "print(hyöty)"
      ],
      "metadata": {
        "colab": {
          "base_uri": "https://localhost:8080/"
        },
        "id": "qqpyUj8heVBX",
        "outputId": "10716b1c-202e-482e-9d51-e525bd480a3d"
      },
      "id": "qqpyUj8heVBX",
      "execution_count": 18,
      "outputs": [
        {
          "output_type": "stream",
          "name": "stdout",
          "text": [
            "98890\n"
          ]
        }
      ]
    },
    {
      "cell_type": "markdown",
      "source": [
        "Hyödyn suuruus on yli 25 000 euroa, joka oli lisäkapasiteetin kustannus, joten se kannattaa."
      ],
      "metadata": {
        "id": "Lf9u-tO1TTXY"
      },
      "id": "Lf9u-tO1TTXY"
    },
    {
      "cell_type": "markdown",
      "source": [
        "Otetaan tuotantoon vielä vilunki."
      ],
      "metadata": {
        "id": "nyGFKsSdTTbI"
      },
      "id": "nyGFKsSdTTbI"
    },
    {
      "cell_type": "code",
      "source": [
        "# Luodaan malli\n",
        "\n",
        "model = LpProblem(name=\"tuotanto+vilunki\", sense=LpMaximize)\n",
        "\n",
        "# Määritellään päätösmuuttujat\n",
        "\n",
        "x = {i: LpVariable(name=f\"x{i}\", lowBound=0, cat = \"Integer\") for i in range(1, 4)}\n",
        "\n",
        "# x[1] on hila, x[1] vitkutin, x[2] vilunki\n",
        "\n",
        "# Lisätään rajoitteet\n",
        "\n",
        "model += (12 * x[1] + 20 * x[2] + 30 * x[3] <= 25000, \"leikkausrajoite\")\n",
        "model += (16 * x[1] + 7 * x[2] + 20 * x[3] <= 30000, \"stanssausrajoite\")\n",
        "model += (12 * x[1] + 6 * x[2] + 10 * x[3] <= 30000, \"puristusrajoite\")\n",
        "model += (22 * x[1] + 15 * x[2] + 25 * x[3] <= 20000, \"maalausrajoite\")\n",
        "\n",
        "\n",
        "# Maäritetään tavoitefunktio\n",
        "\n",
        "model += 250 * x[1] + 320 * x[2] + 350 * x[3]\n",
        "\n",
        "# Ratkaistaan optimointiongelma\n",
        "\n",
        "status = model.solve()\n",
        "\n",
        "print(f\"ratkaisun tilanne: {model.status}, {LpStatus[model.status]}\")\n",
        "print(f\"tavoitefunktion optimiarvo: {model.objective.value()}\")\n",
        "\n",
        "for var in model.variables():\n",
        "    print(f\"{var.name}: {var.value()}\")\n",
        "\n",
        "for name, constraint in model.constraints.items():\n",
        "    print(f\"{name}: {constraint.value()}\")"
      ],
      "metadata": {
        "colab": {
          "base_uri": "https://localhost:8080/"
        },
        "id": "iT9CqfrqfTyf",
        "outputId": "691bd03a-c545-4b88-bac8-ec447b39deb2"
      },
      "id": "iT9CqfrqfTyf",
      "execution_count": 19,
      "outputs": [
        {
          "output_type": "stream",
          "name": "stdout",
          "text": [
            "ratkaisun tilanne: 1, Optimal\n",
            "tavoitefunktion optimiarvo: 405510.0\n",
            "x1: 95.0\n",
            "x2: 1193.0\n",
            "x3: 0.0\n",
            "leikkausrajoite: 0.0\n",
            "stanssausrajoite: -20129.0\n",
            "puristusrajoite: -21702.0\n",
            "maalausrajoite: -15.0\n"
          ]
        }
      ]
    },
    {
      "cell_type": "markdown",
      "source": [
        "**Vastaus**: Tuotteen _vilunki_ mukaan ottaminen tuotantoon ei muuta optimituotantoa eikä maksimikatetta.\n",
        "\n",
        "* Maksimikate: 405 510 euroa\n",
        "* Hilojen lkm: 95 kappaletta\n",
        "* Vitkuttimien lkm: 1 193 kappaletta.\n",
        "* Vilunkien lkm: nolla kappaletta."
      ],
      "metadata": {
        "id": "JSu_hbRNgLDA"
      },
      "id": "JSu_hbRNgLDA"
    },
    {
      "cell_type": "code",
      "execution_count": 20,
      "id": "1daa57ae",
      "metadata": {
        "colab": {
          "base_uri": "https://localhost:8080/"
        },
        "id": "1daa57ae",
        "outputId": "a09ffb6f-2438-43e5-abd5-a92cd3c9acc0"
      },
      "outputs": [
        {
          "output_type": "stream",
          "name": "stdout",
          "text": [
            "Last modified 2024-09-19 13:40 by Juha Nurmonen\n"
          ]
        }
      ],
      "source": [
        "import datetime\n",
        "print(f'Last modified {datetime.datetime.now():%Y-%m-%d %H:%M} by Juha Nurmonen')"
      ]
    }
  ],
  "metadata": {
    "kernelspec": {
      "display_name": "Python 3 (ipykernel)",
      "language": "python",
      "name": "python3"
    },
    "language_info": {
      "codemirror_mode": {
        "name": "ipython",
        "version": 3
      },
      "file_extension": ".py",
      "mimetype": "text/x-python",
      "name": "python",
      "nbconvert_exporter": "python",
      "pygments_lexer": "ipython3",
      "version": "3.11.7"
    },
    "colab": {
      "provenance": []
    }
  },
  "nbformat": 4,
  "nbformat_minor": 5
}