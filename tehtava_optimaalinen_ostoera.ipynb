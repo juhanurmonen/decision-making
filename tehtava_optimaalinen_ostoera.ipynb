{
  "cells": [
    {
      "cell_type": "markdown",
      "id": "0de111d5",
      "metadata": {
        "id": "0de111d5"
      },
      "source": [
        "# Strategiset päätöksentekomallit"
      ]
    },
    {
      "cell_type": "markdown",
      "id": "4a217e68",
      "metadata": {
        "id": "4a217e68"
      },
      "source": [
        "## Tehtävä 6: Optimaalinen ostoerä"
      ]
    },
    {
      "cell_type": "markdown",
      "id": "0511f878",
      "metadata": {
        "id": "0511f878"
      },
      "source": [
        "### Oppimistavoitteet"
      ]
    },
    {
      "cell_type": "markdown",
      "id": "5ebbe69e",
      "metadata": {
        "id": "5ebbe69e"
      },
      "source": [
        "Tässä tehtävässä tutustutaan varastoteoriaan ja sen käyttöön päätöksiä tehtäessä. Näin tehtäessä opitaan myös esittämään asiat selkeästi sekä dokumentoimaan ja selittämään Excelillä tehtyjä laskentapohjia."
      ]
    },
    {
      "cell_type": "markdown",
      "id": "04e6430c",
      "metadata": {
        "id": "04e6430c"
      },
      "source": [
        "Lisää tiedostoon perustelut selityksineen, jotta voit lukea ne tapaamisessanne talousjohtajan kanssa, joka laskelmat on sinulta pyytänyt."
      ]
    },
    {
      "cell_type": "markdown",
      "source": [
        "## Osa 1"
      ],
      "metadata": {
        "id": "VTfPIDKw35a4"
      },
      "id": "VTfPIDKw35a4"
    },
    {
      "cell_type": "markdown",
      "id": "e92bbda2",
      "metadata": {
        "id": "e92bbda2"
      },
      "source": [
        "### Lähtötiedot"
      ]
    },
    {
      "cell_type": "markdown",
      "id": "e8318916",
      "metadata": {
        "id": "e8318916"
      },
      "source": [
        "Yritys ostaa vuosittain 2 000 termostaattia hintaan 20 000 euroa/kappale. Tilauskustannukset ovat 5 000 euroa/tilaus ja varastointikustannukset 15 % varaston ostohintaisesta arvosta."
      ]
    },
    {
      "cell_type": "markdown",
      "id": "5d4aba9d",
      "metadata": {
        "id": "5d4aba9d"
      },
      "source": [
        "Yritys ostaa tavaraa optimaalisen ostoerän mukaan."
      ]
    },
    {
      "cell_type": "markdown",
      "id": "e9e57c9b",
      "metadata": {
        "id": "e9e57c9b"
      },
      "source": [
        "### Selvitettävät asiat"
      ]
    },
    {
      "cell_type": "markdown",
      "id": "fcea7f63",
      "metadata": {
        "id": "fcea7f63"
      },
      "source": [
        "Selvitä seuraavat asiat:\n",
        "\n",
        "1. Minkä suuruinen on optimaalinen ostoerä? (50 %)\n",
        "2. Myyjä tarjoaa 3 %:n alennusta ostohintaan, jos tilausmääräksi muutetaan 2 000 kappaletta eli koko vuoden tarve ostetaan kerralla. Kannattaako tarjous hyväksyä? (50 %)\n"
      ]
    },
    {
      "cell_type": "markdown",
      "source": [
        "## Osa 2"
      ],
      "metadata": {
        "id": "s0Pnvx8I38-g"
      },
      "id": "s0Pnvx8I38-g"
    },
    {
      "cell_type": "markdown",
      "source": [
        "### Lähtötiedot"
      ],
      "metadata": {
        "id": "Y-y0tS9H4ALQ"
      },
      "id": "Y-y0tS9H4ALQ"
    },
    {
      "cell_type": "markdown",
      "source": [
        "Yritys myy keskimäärin 230 tietyn merkkistä ja tyyppistä termostaattia viikossa. Termostaatin viikkokysynnän keskihajonta on 67 kpl. Tilaukset perustuvat varaston jatkuvaan seurantaan. Toimitusaika on 1 viikko. Palvelutasoksi halutaan 85 %. Yhden navigaattorin pitokustannukseksi arvioidaan 2 euroa viikossa."
      ],
      "metadata": {
        "id": "knGLmKm35aR_"
      },
      "id": "knGLmKm35aR_"
    },
    {
      "cell_type": "markdown",
      "source": [
        "### Selvitettävät asiat"
      ],
      "metadata": {
        "id": "qyNFJu874CZf"
      },
      "id": "qyNFJu874CZf"
    },
    {
      "cell_type": "markdown",
      "source": [
        "a) Kuinka suurta varmuusvarastoa suosittelet?\n",
        "\n",
        "b) Kuinka suuren varastomäärän kohdalla uusi tilaus kannattaisi tehdä."
      ],
      "metadata": {
        "id": "DTLF4isM573J"
      },
      "id": "DTLF4isM573J"
    },
    {
      "cell_type": "code",
      "execution_count": 1,
      "id": "1daa57ae",
      "metadata": {
        "colab": {
          "base_uri": "https://localhost:8080/"
        },
        "id": "1daa57ae",
        "outputId": "464adc80-51fc-4875-d870-ee80bfb1ae18"
      },
      "outputs": [
        {
          "output_type": "stream",
          "name": "stdout",
          "text": [
            "Last modified 2025-02-26 15:38 by Juha Nurmonen\n"
          ]
        }
      ],
      "source": [
        "import datetime\n",
        "import pytz\n",
        "\n",
        "tz = pytz.timezone('Europe/Helsinki')\n",
        "print(f'Last modified {tz.localize(datetime.datetime.now()):%Y-%m-%d %H:%M} by Juha Nurmonen')"
      ]
    }
  ],
  "metadata": {
    "kernelspec": {
      "display_name": "Python 3 (ipykernel)",
      "language": "python",
      "name": "python3"
    },
    "language_info": {
      "codemirror_mode": {
        "name": "ipython",
        "version": 3
      },
      "file_extension": ".py",
      "mimetype": "text/x-python",
      "name": "python",
      "nbconvert_exporter": "python",
      "pygments_lexer": "ipython3",
      "version": "3.11.9"
    },
    "colab": {
      "provenance": []
    }
  },
  "nbformat": 4,
  "nbformat_minor": 5
}