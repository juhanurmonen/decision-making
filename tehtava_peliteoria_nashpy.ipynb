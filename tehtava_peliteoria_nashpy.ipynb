{
  "cells": [
    {
      "cell_type": "markdown",
      "id": "0de111d5",
      "metadata": {
        "id": "0de111d5"
      },
      "source": [
        "# Strategiset päätöksentekomallit"
      ]
    },
    {
      "cell_type": "markdown",
      "id": "4a217e68",
      "metadata": {
        "id": "4a217e68"
      },
      "source": [
        "## Tehtävä 11: Peliteoria ja NashPy-kirjasto"
      ]
    },
    {
      "cell_type": "markdown",
      "id": "0511f878",
      "metadata": {
        "id": "0511f878"
      },
      "source": [
        "### Oppimistavoitteet"
      ]
    },
    {
      "cell_type": "markdown",
      "id": "5ebbe69e",
      "metadata": {
        "id": "5ebbe69e"
      },
      "source": [
        "Tässä tehtävässä tutustutaan peliteroian peruskäsitteisiin Pythonin NashPy-kirjaston kautta ja peliteorian käyttöön päätöksiä tehtäessä. Näin tehtäessä opitaan myös esittämään asiat selkeästi sekä dokumentoimaan ja selittämään Notebookilla tehtyjä laskentapohjia."
      ]
    },
    {
      "cell_type": "markdown",
      "id": "04e6430c",
      "metadata": {
        "id": "04e6430c"
      },
      "source": [
        "Lisää tiedostoon ohjeet selityksineen peruskäyttäjälle ja kehittäjälle näiden käytöstä."
      ]
    },
    {
      "cell_type": "markdown",
      "id": "e92bbda2",
      "metadata": {
        "id": "e92bbda2"
      },
      "source": [
        "### Lähtötiedot"
      ]
    },
    {
      "cell_type": "markdown",
      "source": [
        "Seuraavassa ovat yritysten A ja B keskinäisen kilpailun strategioiden kuvaukset."
      ],
      "metadata": {
        "id": "s_UBGJe0bx0-"
      },
      "id": "s_UBGJe0bx0-"
    },
    {
      "cell_type": "markdown",
      "id": "5d4aba9d",
      "metadata": {
        "id": "5d4aba9d"
      },
      "source": [
        "Strategiat ovat yrityksen A näkökulmasta alla olevat. Luvut ovat markkinaosuuksien muutoksia viikoittain. Kyse on nollasummapelistä, jossa B:n hyödyt ovat käänteisiä A:n arvoille.\n",
        "\n",
        "![peliteoria_strategiat_A_kuva.png](data:image/png;base64,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)\n",
        "\n"
      ]
    },
    {
      "cell_type": "markdown",
      "id": "e9e57c9b",
      "metadata": {
        "id": "e9e57c9b"
      },
      "source": [
        "### Selvitettävät asiat"
      ]
    },
    {
      "cell_type": "markdown",
      "id": "fcea7f63",
      "metadata": {
        "id": "fcea7f63"
      },
      "source": [
        "* Kuvaa oheinen tilanne NashPy-kirjaston pelinä (A, B).\n",
        "* Kuvaa pelin tuloksia joillain valitsemillasi A:n ja B:n strategioilla $\\sigma_A$ ja $\\sigma_B$.\n",
        "* Laske pelin Nashin tasapaino. Mitä laskemasi luvut merkitsevät?\n",
        "* Piirrä myös kuvioon kuvitteellisen pelin mukainen tilanne tai tilanteita, joissa kuvataan toistojen vaikutusta todennäköisyyksien suppenemiseen tai hajaantumiseen, eli siihen, lähestyvätkö ne jotain yhtä tiettyä arvoa.\n",
        "\n"
      ]
    },
    {
      "cell_type": "code",
      "execution_count": 1,
      "id": "1daa57ae",
      "metadata": {
        "id": "1daa57ae",
        "outputId": "3365b562-f57f-45ba-b9cb-839c4bcbe95d",
        "colab": {
          "base_uri": "https://localhost:8080/"
        }
      },
      "outputs": [
        {
          "output_type": "stream",
          "name": "stdout",
          "text": [
            "Last modified 2025-03-19 16:06 by Juha Nurmonen\n"
          ]
        }
      ],
      "source": [
        "import datetime\n",
        "import pytz\n",
        "\n",
        "tz = pytz.timezone('Europe/Helsinki')\n",
        "print(f'Last modified {tz.localize(datetime.datetime.now()):%Y-%m-%d %H:%M} by Juha Nurmonen')"
      ]
    }
  ],
  "metadata": {
    "kernelspec": {
      "display_name": "Python 3 (ipykernel)",
      "language": "python",
      "name": "python3"
    },
    "language_info": {
      "codemirror_mode": {
        "name": "ipython",
        "version": 3
      },
      "file_extension": ".py",
      "mimetype": "text/x-python",
      "name": "python",
      "nbconvert_exporter": "python",
      "pygments_lexer": "ipython3",
      "version": "3.11.9"
    },
    "colab": {
      "provenance": []
    }
  },
  "nbformat": 4,
  "nbformat_minor": 5
}