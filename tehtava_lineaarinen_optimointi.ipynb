{
 "cells": [
  {
   "cell_type": "markdown",
   "id": "0de111d5",
   "metadata": {},
   "source": [
    "# Strategiset päätöksentekomallit"
   ]
  },
  {
   "cell_type": "markdown",
   "id": "4a217e68",
   "metadata": {},
   "source": [
    "## Tehtävä 5: Lineaarinen optimointi"
   ]
  },
  {
   "cell_type": "markdown",
   "id": "0511f878",
   "metadata": {},
   "source": [
    "### Oppimistavoitteet"
   ]
  },
  {
   "cell_type": "markdown",
   "id": "5ebbe69e",
   "metadata": {},
   "source": [
    "Tässä tehtävässä tutustutaan lineaarisen optimointiin ja sen käyttöön päätöksiä tehtäessä. Näin tehtäessä opitaan myös esittämään asiat selkeästi sekä dokumentoimaan ja selittämään Excelillä tehtyjä laskentapohjia. "
   ]
  },
  {
   "cell_type": "markdown",
   "id": "04e6430c",
   "metadata": {},
   "source": [
    "Lisää tiedostoon ohjeet selityksineen peruskäyttäjälle ja kehittäjälle näiden käytöstä. "
   ]
  },
  {
   "cell_type": "markdown",
   "id": "e92bbda2",
   "metadata": {},
   "source": [
    "### Lähtötiedot"
   ]
  },
  {
   "cell_type": "markdown",
   "id": "e8318916",
   "metadata": {},
   "source": [
    "Yritys valmistaa kahta tuotetta, hilaa ja vitkutinta. Hilan kate on 250 euroa ja vitkuttimen kate 320 euroa tuotetta kohden. Valmistuksessa on neljä työvaihetta: leikkaus, stanssaus, puristus ja maalaus."
   ]
  },
  {
   "cell_type": "markdown",
   "id": "5d4aba9d",
   "metadata": {},
   "source": [
    "Kukin työvaihe vaatii tuotteilta seuraavasti aikaa (minuuttia): \n",
    "\n",
    "<table align=\"center\">\n",
    "<tr>\n",
    "<th></th>\n",
    "<th>leikkaus</th>\n",
    "<th>stanssaus</th>\n",
    "<th>puristus</th>\n",
    "<th>maalaus</th>\n",
    "</tr>\n",
    "  \n",
    "<tr>\n",
    "<th>hila</th>\n",
    "<td>12</td>\n",
    "<td>16</td>\n",
    "<td>12</td>\n",
    "<td>22</td>\n",
    "</tr>\n",
    "  \n",
    "<tr>\n",
    "<th>vitkutin</th>\n",
    "<td>20</td>\n",
    "<td>7</td>\n",
    "<td>6</td>\n",
    "<td>15</td>\n",
    "</tr>\n",
    " \n",
    "<tr>\n",
    "<th>kapasiteetti</th>\n",
    "<td>25&nbsp;000</td>\n",
    "<td>30&nbsp;000</td>\n",
    "<td>30&nbsp;000</td>\n",
    "<td>20&nbsp;000</td>\n",
    "</tr>\n",
    "        \n",
    "</table>"
   ]
  },
  {
   "cell_type": "markdown",
   "id": "e9e57c9b",
   "metadata": {},
   "source": [
    "### Selvitettävät asiat"
   ]
  },
  {
   "cell_type": "markdown",
   "id": "fcea7f63",
   "metadata": {},
   "source": [
    "Selvitä oheisesta verkosta:\n",
    "\n",
    "1. Optimaalinen tuotanto-ohjelma. (20 %)\n",
    "2. Maksimikate. (20 %)\n",
    "3. Yrityksellä on käytössään 25 000 euroa, jotka se voi käyttää minkä tahansa tuotantovaiheen mutta vain yhden tuotantovaiheen kapasiteetin lisäämiseen hintaan 1 €/min. Kuinka yrityksen kannattaisi käyttää 25 000 euroa kapasiteetin lisäykseen? (30 %)\n",
    "4. Yrityksellä on lähtötilanteeseen liittyen (lisäkapasiteetti 25 000 euroa ei siis ole tässä tapauksessa käytössä) vielä tuote vilunki, jonka kate on 350 euroa tuotteelta ja joka vaatii kapasiteettia seuraavasti:\n",
    "<table>\n",
    "<tr>\n",
    "<th></th>\n",
    "<th>leikkaus</th>\n",
    "<th>stanssaus</th>\n",
    "<th>puristus</th>\n",
    "<th>maalaus</th>\n",
    "</tr>\n",
    "<tr>\n",
    "<th>vilunki</th>\n",
    "<td>30</td>\n",
    "<td>20</td>\n",
    "<td>10</td>\n",
    "<td>25</td>        \n",
    "</tr>\n",
    "</table>\n",
    "Mikä on yrityksen optimituotanto ja maksimikate? (30 %)"
   ]
  },
  {
   "cell_type": "code",
   "execution_count": 1,
   "id": "1daa57ae",
   "metadata": {},
   "outputs": [
    {
     "name": "stdout",
     "output_type": "stream",
     "text": [
      "Last modified 2024-09-19 16:46 by Juha Nurmonen\n"
     ]
    }
   ],
   "source": [
    "import datetime\n",
    "import pytz\n",
    "\n",
    "tz = pytz.timezone('Europe/Helsinki')\n",
    "print(f'Last modified {tz.localize(datetime.datetime.now()):%Y-%m-%d %H:%M} by Juha Nurmonen')"
   ]
  }
 ],
 "metadata": {
  "kernelspec": {
   "display_name": "Python 3 (ipykernel)",
   "language": "python",
   "name": "python3"
  },
  "language_info": {
   "codemirror_mode": {
    "name": "ipython",
    "version": 3
   },
   "file_extension": ".py",
   "mimetype": "text/x-python",
   "name": "python",
   "nbconvert_exporter": "python",
   "pygments_lexer": "ipython3",
   "version": "3.11.9"
  }
 },
 "nbformat": 4,
 "nbformat_minor": 5
}
