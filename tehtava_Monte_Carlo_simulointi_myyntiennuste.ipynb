{
  "cells": [
    {
      "cell_type": "markdown",
      "id": "4c69cf50-5dd9-43be-ac30-15f72289a82a",
      "metadata": {
        "id": "4c69cf50-5dd9-43be-ac30-15f72289a82a"
      },
      "source": [
        "# Strategiset päätöksentekomallit"
      ]
    },
    {
      "cell_type": "markdown",
      "id": "8f07b6a6-ccce-46a4-af0f-f9aeeff999e9",
      "metadata": {
        "id": "8f07b6a6-ccce-46a4-af0f-f9aeeff999e9"
      },
      "source": [
        "## Tehtävä: Monte Carlo -simulointi Pythonilla &ndash; Myyntiennusteen laatiminen"
      ]
    },
    {
      "cell_type": "markdown",
      "id": "4543f472-50a9-42e4-aad8-8a392458a19e",
      "metadata": {
        "id": "4543f472-50a9-42e4-aad8-8a392458a19e"
      },
      "source": [
        "### Oppimistavoitteet"
      ]
    },
    {
      "cell_type": "markdown",
      "id": "68efe2c0-e86f-4955-b743-3fad2433ab67",
      "metadata": {
        "id": "68efe2c0-e86f-4955-b743-3fad2433ab67"
      },
      "source": [
        "Tässä tehtävässä tutustutaan simulointiin Pythonia hyödyntäen ja sen käyttöön päätöksiä tehtäessä. Näin tehtäessä opitaan myös esittämään asiat selkeästi sekä dokumentoimaan ja selittämään Jupyter Notebookilla tai Google Colabilla tehtyjä laskentapohjia.\n",
        "\n",
        "Lisää muistioon laskelmiesi selitykset ja tulkinnat sekä vinkkejä mahdollisista lisätarkasteluista."
      ]
    },
    {
      "cell_type": "markdown",
      "id": "e972cfdb-23b8-4dbb-bb40-56d48b29b1be",
      "metadata": {
        "id": "e972cfdb-23b8-4dbb-bb40-56d48b29b1be"
      },
      "source": [
        "### Lähtötiedot"
      ]
    },
    {
      "cell_type": "markdown",
      "id": "f914309d",
      "metadata": {
        "id": "f914309d"
      },
      "source": [
        "Yritys haluaa arvioida, kuinka tuottoisa heidän uusi myyntituotteensa tulee olemaan, huomioiden tietyt epävarmuustekijät kuten myyntimäärän,  kustannukset ja liikevaihdon."
      ]
    },
    {
      "cell_type": "markdown",
      "source": [
        "Lähtökohtaisesti tässä lasketaan yksinkertaisesti tulosta eli $$\\textsf{Tulos } = \\textsf{ Tuotot } - \\textsf{ Kustannukset }.$$\n",
        "Sekä tuotot että kustannukset ovat tässä tarkastelussa molemmat epävarmoja muuttujia."
      ],
      "metadata": {
        "id": "idsvXaQBzilW"
      },
      "id": "idsvXaQBzilW"
    },
    {
      "cell_type": "markdown",
      "source": [
        "Tuotot lasketaan tiettynä osuutena ($r$ %) sosiaalisessa mediassa julkaistujen mainosten määrästä ($l$ mainosta kuukaudessa) huomioiden yksittäisestä tuotteesta saadun voiton ($p$ euroa).\n",
        "\n",
        "Kustannukset puolestaan lasketaan kustannuksina yksittäistä somemainosta kohden ($c$ euroa) ja niiden kokonaismäärä ($l$ kpl/kk) huomioiden sekä lisäksi yrityksen kiinteät kustannukset ($h$ euroa) mukaan ottaen."
      ],
      "metadata": {
        "id": "4faQLECqzinz"
      },
      "id": "4faQLECqzinz"
    },
    {
      "cell_type": "markdown",
      "source": [
        "Tässä oletetaan, että $l$, $r$, $p$, $h$ ja $c$ ovat toisistaan riippumattomia. Huomaa, että silti tuotot ja kustannukset eivät ole."
      ],
      "metadata": {
        "id": "dPiH95h61AUw"
      },
      "id": "dPiH95h61AUw"
    },
    {
      "cell_type": "markdown",
      "source": [
        "Tuloksen voi nyt siis laskea\n",
        "$$\\textrm{Tulos}=l\\cdot r\\cdot p - (l\\cdot c + h).$$"
      ],
      "metadata": {
        "id": "jX9C31dy1AW_"
      },
      "id": "jX9C31dy1AW_"
    },
    {
      "cell_type": "markdown",
      "source": [
        "Muuttujien oletetaan historiatietoihin pohjautuen olevan jakautunut seuraavasti ja saaden seuraavia arvoja:\n",
        "* $l$: normaalijakautunut, keskiarvo 1 500, keskihajonta 165\n",
        "* $r$: tasaisesti jakautunut, min 1 %, max 3 %\n",
        "* $p$: tasaisesti jakautunut, min 47 €, max 53 €\n",
        "* $c$: tasaisesti jakautunut, min 0,20 €, max 0,80 €\n",
        "* $h$: 800 euroa kuukaudessa (kiinteä)."
      ],
      "metadata": {
        "id": "I4OU3Quf1AZw"
      },
      "id": "I4OU3Quf1AZw"
    },
    {
      "cell_type": "markdown",
      "id": "45a2be0b-6ede-4d2d-9e01-7c44428f1fbf",
      "metadata": {
        "id": "45a2be0b-6ede-4d2d-9e01-7c44428f1fbf"
      },
      "source": [
        "### Selvitettävät asiat"
      ]
    },
    {
      "cell_type": "markdown",
      "id": "611581fb",
      "metadata": {
        "id": "611581fb"
      },
      "source": [
        "Käytä Monte Carlo -simulointia ja _arvioi sen avulla yrityksen tulos_ kuukausitasolla. Voit muuttaa edellä olevia esimerkkiarvoja tilanteeseesi paremmin sopiviksi ja tehdä myös muita laskennassa tarvittavia oletuksia."
      ]
    },
    {
      "cell_type": "code",
      "execution_count": 1,
      "id": "088b7bce-d893-4778-a506-08abbba21a5f",
      "metadata": {
        "colab": {
          "base_uri": "https://localhost:8080/"
        },
        "id": "088b7bce-d893-4778-a506-08abbba21a5f",
        "outputId": "a8844020-5dd7-4beb-9035-00b7b8a37807"
      },
      "outputs": [
        {
          "output_type": "stream",
          "name": "stdout",
          "text": [
            "Last modified 2025-03-12 15:21 by Juha Nurmonen\n"
          ]
        }
      ],
      "source": [
        "import datetime\n",
        "print(f'Last modified {datetime.datetime.now():%Y-%m-%d %H:%M} by Juha Nurmonen')"
      ]
    }
  ],
  "metadata": {
    "kernelspec": {
      "display_name": "Python 3 (ipykernel)",
      "language": "python",
      "name": "python3"
    },
    "language_info": {
      "codemirror_mode": {
        "name": "ipython",
        "version": 3
      },
      "file_extension": ".py",
      "mimetype": "text/x-python",
      "name": "python",
      "nbconvert_exporter": "python",
      "pygments_lexer": "ipython3",
      "version": "3.10.13"
    },
    "colab": {
      "provenance": []
    }
  },
  "nbformat": 4,
  "nbformat_minor": 5
}